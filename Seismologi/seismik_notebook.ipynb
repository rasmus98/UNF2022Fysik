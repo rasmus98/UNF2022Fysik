{
 "cells": [
  {
   "cell_type": "code",
   "execution_count": 9,
   "metadata": {},
   "outputs": [
    {
     "name": "stdout",
     "output_type": "stream",
     "text": [
      "['55.dat', '56.dat', '57.dat', '58.dat', '59.dat', '60.dat', '61.dat', '62.dat', '63.dat', '64.dat', '65.dat']\n"
     ]
    }
   ],
   "source": [
    "import numpy as np\n",
    "import matplotlib.pyplot as plt\n",
    "import seismik_funktioner\n",
    "filnavne = ['55.dat', '56.dat', '57.dat', '58.dat', '59.dat', '60.dat', '61.dat', '62.dat', '63.dat', '64.dat', '65.dat']\n",
    "print(filnavne)"
   ]
  }
 ],
 "metadata": {
  "kernelspec": {
   "display_name": "Python 3",
   "language": "python",
   "name": "python3"
  },
  "language_info": {
   "codemirror_mode": {
    "name": "ipython",
    "version": 3
   },
   "file_extension": ".py",
   "mimetype": "text/x-python",
   "name": "python",
   "nbconvert_exporter": "python",
   "pygments_lexer": "ipython3",
   "version": "3.8.5"
  }
 },
 "nbformat": 4,
 "nbformat_minor": 4
}
