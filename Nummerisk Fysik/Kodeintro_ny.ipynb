{
 "cells": [
  {
   "cell_type": "markdown",
   "metadata": {
    "ExecuteTime": {
     "end_time": "2021-07-28T18:00:46.466879Z",
     "start_time": "2021-07-28T18:00:46.462256Z"
    }
   },
   "source": [
    "# Kode introduktion\n",
    "I Python kan man lave databehandling, plots, fysiske simuleringer, computerspil og alt andet en computer kan. Nu skal vi lære at programmere, så vi kan forstå det data i samlede igår!"
   ]
  },
  {
   "cell_type": "markdown",
   "metadata": {},
   "source": [
    "Dette er Jupyter Lab. Vi kan lave sektioner med kode (instruktioner til computeren - dem der er farvet let grå), og sektioner med tekst. På side 29 i kompendiet er en kort gennemgang af de absolut vigtigeste knapper."
   ]
  },
  {
   "cell_type": "markdown",
   "metadata": {},
   "source": [
    "### Variabler\n",
    "I python kan vi definere en såkaldt variabel, hvilket er en værdi vi har givet et navn. Som eksempel"
   ]
  },
  {
   "cell_type": "code",
   "execution_count": null,
   "metadata": {},
   "outputs": [],
   "source": [
    "magisk_tal = 5"
   ]
  },
  {
   "cell_type": "markdown",
   "metadata": {},
   "source": [
    "Nu kan vi så skrive \"magisk_tal\" i stedet for at skrive 5. Lad os printe 2\\*5 lidt forklædt (vi kan skrive print() for at se resultatet):"
   ]
  },
  {
   "cell_type": "code",
   "execution_count": null,
   "metadata": {},
   "outputs": [],
   "source": [
    "print(2*magisk_tal)"
   ]
  },
  {
   "cell_type": "markdown",
   "metadata": {},
   "source": [
    "##### Opgave 1: Prøv selv at definere en variabel med værdien 10, og print den:"
   ]
  },
  {
   "cell_type": "code",
   "execution_count": null,
   "metadata": {},
   "outputs": [],
   "source": [
    "#### Skriv her #####"
   ]
  },
  {
   "cell_type": "markdown",
   "metadata": {},
   "source": [
    "Vi kan også omdefinere variabler til at have en ny betydning:"
   ]
  },
  {
   "cell_type": "code",
   "execution_count": null,
   "metadata": {},
   "outputs": [],
   "source": [
    "x = 5\n",
    "print(\"Nu har x værdien: \", x) # Vi kan forøvrigt bruge # til at bare skrive en kommentar\n",
    "x = \"En sætning\" # Med citationstegn kan vi definere tekst\n",
    "print(\"Og nu er den: \", x) "
   ]
  },
  {
   "cell_type": "markdown",
   "metadata": {},
   "source": [
    "Men pas på med det, det er generelt en kilde til mange fejl og kan gøre koden svær at læse, hvis man hele tiden skal tænke \"gad vide hvilken af de 5 omdefinitioner af x der NU er relevant?\""
   ]
  },
  {
   "cell_type": "markdown",
   "metadata": {},
   "source": [
    "##### Opgave 2: gang a, b og c (defineret nedenfor) sammen for at få -6, og print svaret:"
   ]
  },
  {
   "cell_type": "code",
   "execution_count": null,
   "metadata": {},
   "outputs": [],
   "source": [
    "a = 2\n",
    "b = 3\n",
    "c = -1\n",
    "print() # <- Indsæt din løsning her"
   ]
  },
  {
   "cell_type": "markdown",
   "metadata": {},
   "source": [
    "Men vi behøver ikke bare printe resultatet direkte. \n",
    "##### Opgave 3: Lav en ny variabel \"tolv\" nedenfor, som har værdien 12 (MEN UDEN AT SKRIVE TAL I DIN KODE, MEN BRUGE a, b og c :) ), og print dens værdi:"
   ]
  },
  {
   "cell_type": "code",
   "execution_count": null,
   "metadata": {},
   "outputs": [],
   "source": [
    "# <- Indsæt din løsning her"
   ]
  },
  {
   "cell_type": "markdown",
   "metadata": {},
   "source": [
    "### If statements\n",
    "\n",
    "For at kunne lave noget meningsfyldt i python, er det vigtigt at koden kan tage beslutninger: Hvis en ting sker, så laver vi en beregning, men hvis en anden ting sker, så laver vi en anden beregning i stedet. \n",
    "\n",
    "Lad os som eksempel sige at vi ønsker at tjekke om magisk_tal er negativ:"
   ]
  },
  {
   "cell_type": "code",
   "execution_count": 8,
   "metadata": {},
   "outputs": [],
   "source": [
    "if magisk_tal < 0:\n",
    "    print(\"magisk_tal er negativ\")"
   ]
  },
  {
   "cell_type": "markdown",
   "metadata": {},
   "source": [
    "Hvis betingelsen ikke opfyldes, kan vi også gøre noget andet med \"else\":"
   ]
  },
  {
   "cell_type": "code",
   "execution_count": null,
   "metadata": {},
   "outputs": [],
   "source": [
    "if magisk_tal < 0:\n",
    "    print(\"magisk_tal er negativ\")\n",
    "else:\n",
    "    print(\"magisk_tal er 0 eller positiv\")"
   ]
  },
  {
   "cell_type": "markdown",
   "metadata": {},
   "source": [
    "Vi kan også tilføje flere betingelser med \"elif\". Dem kan man skrive så mange af man vil. Lad os printe hvorvidt magisk_tal er positiv, 0 eller negativ:"
   ]
  },
  {
   "cell_type": "code",
   "execution_count": null,
   "metadata": {},
   "outputs": [],
   "source": [
    "if magisk_tal < 0:\n",
    "    print(\"magisk_tal er negativ\")\n",
    "elif magisk_tal == 0:\n",
    "    print(\"magisk_tal er 0\")\n",
    "else:\n",
    "    print(\"magisk_tal er positiv\")"
   ]
  },
  {
   "cell_type": "markdown",
   "metadata": {},
   "source": [
    "##### Opgave 4: Ændr værdien af magisk_tal først så koden ovenfor printer \"magisk_tal er 0\", og derefter så den printer \"magisk_tal er negativ\""
   ]
  },
  {
   "cell_type": "markdown",
   "metadata": {},
   "source": [
    "##### Opgave 5: Definer variablen y som er absolutværdien af magisk_tal. Altså hvis magisk_tal >= 0 så skal kommanden \"y = magisk_tal\" køres, og hvis magisk_tal < 0, så skal vi i stedet køre \"y = -magisk_tal\". Tjek at din kode virker ved at ændre på magisk_tal."
   ]
  },
  {
   "cell_type": "code",
   "execution_count": null,
   "metadata": {},
   "outputs": [],
   "source": [
    "# <- Indsæt din løsning her"
   ]
  },
  {
   "cell_type": "markdown",
   "metadata": {},
   "source": [
    "### Pakker\n",
    "Python bliver brugt ekstremt mange forskellige steder, i alt fra hjemmesider, tegneprogrammer til databehandling og i kunstig intelligens. For at spænde så bredt, er det meste af den interessante funktionalitet gemt i \"pakker\", så vi kan nøjes med at skulle belemres med de værktøjer vi faktisk skal bruge. \n",
    "\n",
    "De to absolut mest brugte i fysik er hhv. Numerisk Python (numpy) som giver en hel masse matematiske værktøjer, og Mathematical Plotting Library (matplotlib) som sætter os i stand til at lave pæne plots af vores data. Men dem skal vi nok kigge meget mere på.\n",
    "\n",
    "Derfor vil vi i toppen af python-koden næsten altid skrive:"
   ]
  },
  {
   "cell_type": "code",
   "execution_count": null,
   "metadata": {},
   "outputs": [],
   "source": [
    "import numpy as np\n",
    "import matplotlib.pyplot as plt"
   ]
  },
  {
   "cell_type": "markdown",
   "metadata": {},
   "source": [
    "Nu kan vi så fx skrive np.sin(x) for at beregne $sin(x)$."
   ]
  },
  {
   "cell_type": "markdown",
   "metadata": {},
   "source": [
    "##### Opgave 6: Udregn $cos(1)$ vha np.cos"
   ]
  },
  {
   "cell_type": "code",
   "execution_count": null,
   "metadata": {},
   "outputs": [],
   "source": []
  },
  {
   "cell_type": "markdown",
   "metadata": {},
   "source": [
    "## Arrays\n",
    "\n",
    "Ofte vil vi ikke bare lave beregninger på én værdi af gangen, men en hel liste værdier. Det kunne fx være hvis vi har lavet mange gentagne målinger af noget, eller hvis vi har målt en tidsserie. Til det definerer numpy såkaldte \"arrays\", som vi kan lave som nedenfor:"
   ]
  },
  {
   "cell_type": "code",
   "execution_count": null,
   "metadata": {},
   "outputs": [],
   "source": [
    "array_af_tal = np.array([1,2,3,4,5,6]) \n",
    "print(array_af_tal) # og vi kan printe dem"
   ]
  },
  {
   "cell_type": "markdown",
   "metadata": {},
   "source": [
    "Her kan vi så tilgå de enkelte elementer:"
   ]
  },
  {
   "cell_type": "code",
   "execution_count": null,
   "metadata": {},
   "outputs": [],
   "source": [
    "print(array_af_tal[5]) # Med firkantparanteser kan vi vælge hvilket element vi vil tilgå\n",
    "print(array_af_tal[0]) # Men 0, ikke 1, er det første element\n",
    "print(array_af_tal[-2])# Vi kan også bruge negative tal, så tæller vi bagfra"
   ]
  },
  {
   "cell_type": "markdown",
   "metadata": {},
   "source": [
    "En sidste meget brugbar ting er at kende længden af en liste. Det kan vi gøre med"
   ]
  },
  {
   "cell_type": "code",
   "execution_count": null,
   "metadata": {},
   "outputs": [],
   "source": [
    "len(array_af_tal)"
   ]
  },
  {
   "cell_type": "markdown",
   "metadata": {},
   "source": [
    "##### Opgave 7: Udregn 3+5, men hvor du får 3 og 5 fra array_af_tal\n",
    "Hint: indeksering er ikke heeelt som du måske tænker :)"
   ]
  },
  {
   "cell_type": "code",
   "execution_count": null,
   "metadata": {},
   "outputs": [],
   "source": []
  },
  {
   "cell_type": "markdown",
   "metadata": {},
   "source": [
    "##### Opgave 8: Udregn sinus af alle tallene i array_af_tal\n",
    "Hint: np.sin kan arbejde på arrays"
   ]
  },
  {
   "cell_type": "code",
   "execution_count": null,
   "metadata": {},
   "outputs": [],
   "source": []
  },
  {
   "cell_type": "markdown",
   "metadata": {},
   "source": [
    "## Matematik"
   ]
  },
  {
   "cell_type": "markdown",
   "metadata": {},
   "source": [
    "Numpy har alle de funktioner du ville forvente af en almindelig lommeregner:"
   ]
  },
  {
   "cell_type": "code",
   "execution_count": null,
   "metadata": {},
   "outputs": [],
   "source": [
    "x=np.pi                         # Her er pi\n",
    "print(\"x+1    = \", 1+x)         # Vi kan lægge sammen...\n",
    "print(\"2*x    = \", 2*x)         # Og gange...\n",
    "print(\"x/4    = \", x/4)         # Endda dividere  \n",
    "print(\"sin(x) = \", np.sin(x))   # Sinus og cosinus, det vil man ikke gøre i hånden, her bruger vi numpy\n",
    "print(\"cos(x) = \", np.cos(x))\n",
    "print(\"sqrt(x) = \", np.sqrt(x)) #Kvadratrod...\n",
    "print(\"x^4 = \", x**4)           #Potens...\n",
    "print(\"ln(x) = \", np.log(x))    #Den naturlige logaritme...\n",
    "print(\"exp(x) = \", np.exp(x))   #Eksponentialfunktion (e^x) ..."
   ]
  },
  {
   "cell_type": "markdown",
   "metadata": {},
   "source": [
    "Vær dog opmærksom på paranteser, de er vigtige til at sige hvad der skal beregnes først!"
   ]
  },
  {
   "cell_type": "markdown",
   "metadata": {},
   "source": [
    "##### Opgave 9: Udregn $\\exp(-x^2/a^2)$ for x=2 og a=3"
   ]
  },
  {
   "cell_type": "code",
   "execution_count": null,
   "metadata": {},
   "outputs": [],
   "source": []
  },
  {
   "cell_type": "markdown",
   "metadata": {},
   "source": [
    "##### Opgave 10: Udregn $\\log_{1/9}(\\sqrt{27})$, givet logaritmeregnereglen $\\log_b(x)=\\frac{\\ln(x)}{\\ln(b)}$"
   ]
  },
  {
   "cell_type": "code",
   "execution_count": null,
   "metadata": {},
   "outputs": [],
   "source": []
  },
  {
   "cell_type": "markdown",
   "metadata": {},
   "source": [
    "##### Opgave 11: Udregn $\\log_{1/9}(\\sqrt{27})$ men brug mellemregninger (ie. definer fx a=$\\sqrt{27}$ og brug så a i videre beregning)"
   ]
  },
  {
   "cell_type": "code",
   "execution_count": null,
   "metadata": {},
   "outputs": [],
   "source": []
  },
  {
   "cell_type": "markdown",
   "metadata": {},
   "source": [
    "## Loops\n",
    "Ofte kan det være nødvendigt at gøre noget flere gange, og så er det fjollet bare at skrive samme koden igen og igen. Så vi har en måde at sige til python, at den skal køre et stykke kode for hvert element i et array. Fx hvis vi gerne vil udregne summen af elementerne i array_af_tal, kunne vi skrive:"
   ]
  },
  {
   "cell_type": "code",
   "execution_count": null,
   "metadata": {},
   "outputs": [],
   "source": [
    "delsum = 0\n",
    "x = array_af_tal[0]\n",
    "delsum += x  #  += er kort for delsum = delsum + x\n",
    "x = array_af_tal[1]\n",
    "delsum += x\n",
    "x = array_af_tal[2]\n",
    "delsum += x\n",
    "# ... osv 7 gange mere\n",
    "print(delsum)"
   ]
  },
  {
   "cell_type": "markdown",
   "metadata": {},
   "source": [
    "Men i stedet kan vi opnå præcis det samme ved at skrive:"
   ]
  },
  {
   "cell_type": "code",
   "execution_count": null,
   "metadata": {},
   "outputs": [],
   "source": [
    "delsum = 0\n",
    "for x in array_af_tal:\n",
    "    delsum += x\n",
    "print(delsum)"
   ]
  },
  {
   "cell_type": "markdown",
   "metadata": {},
   "source": [
    "Her bliver x altså omdefineret til hver værdi i array'et. Først er x det første element, så er x det andet element osv. Så bliver al den indrykkede kode kørt med den nye definition af x, og det sker så for hvert element i array_af_tal. "
   ]
  },
  {
   "cell_type": "markdown",
   "metadata": {},
   "source": [
    "##### Opgave 12: Udregn i stedet summen af hvert element kvadreret"
   ]
  },
  {
   "cell_type": "code",
   "execution_count": null,
   "metadata": {},
   "outputs": [],
   "source": []
  },
  {
   "cell_type": "markdown",
   "metadata": {},
   "source": [
    "##### Opgave 13: Udregn summen af alle ulige elementer i array_af_tal\n",
    "Hint: x % 2 == 0 er sand hvis x er lige. Det kan derfor bruges i et if statement.  ( \"%\" i python betyder modulo og fortæller hvilken rest der bliver til overs hvis deler x med 2)"
   ]
  },
  {
   "cell_type": "code",
   "execution_count": null,
   "metadata": {},
   "outputs": [],
   "source": []
  },
  {
   "cell_type": "markdown",
   "metadata": {},
   "source": [
    "## Funktioner"
   ]
  },
  {
   "cell_type": "markdown",
   "metadata": {},
   "source": [
    "Ofte har vi lavet noget kode som vi gerne vil kunne bruge flere gange. Eksempelvis kunne vi have lyst til at udregne $\\exp(-x^2/a^2)$ for flere værdier af a og x. Matematisk ville løsningen være at definere en funktion $f(x,a) = \\exp(-x^2/a^2)$, og det er også løsningen i kode. \n",
    "\n",
    "For at definere en funktion bruger vi først det magiske ord \"def\", så vælger vi et navn (her \"f\"), og så har vi en liste af alle \"argumenter\" (her \"x\" og \"a\"). Argumenterne er de inputs funktionen skal bruge. Vi bruger så \"return\" til at stoppe funktionen og sende noget ud af funktionen; dens output."
   ]
  },
  {
   "cell_type": "code",
   "execution_count": null,
   "metadata": {},
   "outputs": [],
   "source": [
    "def f(x, a):\n",
    "    res = np.exp(-(x/a)**2)\n",
    "    return res\n",
    "\n",
    "print(f(2,1))\n",
    "print(f(-2,1))\n",
    "print(f(2,2))\n",
    "print(f(-2,2))"
   ]
  },
  {
   "cell_type": "markdown",
   "metadata": {},
   "source": [
    "Faktisk er eksempelvis np.exp også en funktion af denne type: En computer kan i sig selv ikke udregne exponentialfunktionen men kun plus, gange og dividere, så np.exp er i virkeligheden en meget kompliceret funktion som bruger en lang og grim formel til at udregne det for os. Uden funktioner kommer vi ikke langt i verden! \n",
    "\n",
    "Men funktioner i programmering er meget mere end funktioner i matematik. Inde i funktioner kan vi skrive al kode vi måtte have lyst til, og derfor kan de fx printe delresultater, læse og skrive filer, lave plots og alt andet man kan forestille sig af en computer. "
   ]
  },
  {
   "cell_type": "markdown",
   "metadata": {},
   "source": [
    "##### Opgave 14: Definer en funktion der udregner x*(sin(x)^2+cos(x)^2)"
   ]
  },
  {
   "cell_type": "code",
   "execution_count": null,
   "metadata": {},
   "outputs": [],
   "source": []
  },
  {
   "cell_type": "markdown",
   "metadata": {},
   "source": [
    "##### Opgave 15: Lav en funktion ved navn array_sum som udregner summen af elementerne af et array\n",
    "Hint: Er der noget kode vi tidligere har skrevet vi kan genbruge her?"
   ]
  },
  {
   "cell_type": "code",
   "execution_count": null,
   "metadata": {},
   "outputs": [],
   "source": []
  },
  {
   "cell_type": "markdown",
   "metadata": {},
   "source": [
    "##### Opgave 16: Lav en funktion der returnerer længden af et array, og printer om den er lige.\n",
    "Hint: Hvad gjorde vi sidst da vi skulle tjekke om noget var lige?"
   ]
  },
  {
   "cell_type": "code",
   "execution_count": null,
   "metadata": {},
   "outputs": [],
   "source": []
  },
  {
   "cell_type": "markdown",
   "metadata": {},
   "source": [
    "##### Opgave 17: Lav en funktion \"element_af\" der tager 2 argumenter: et array \"a\" og et tal \"b\", og returnerer \"inkluderet\" hvis \"a\" inkluderer \"b\".\n",
    "Hint: Her skal vi altså loope gennem \"a\", og for hvert element tjekke om x == b. Hvis det bliver sandt, skal vi returnere."
   ]
  },
  {
   "cell_type": "code",
   "execution_count": null,
   "metadata": {},
   "outputs": [],
   "source": []
  },
  {
   "cell_type": "markdown",
   "metadata": {},
   "source": [
    "## Datavisualisering"
   ]
  },
  {
   "cell_type": "markdown",
   "metadata": {},
   "source": [
    "Vi har tidligere importeret pakken matplotlib, og nu skal vi til at bruge den.\n",
    "\n",
    "Lad os sige at vi ønsker at  plotte funktionen $f(x)=x^2$. Det gør vi ved at vælge nogle værdier af x, udregne $f(x)$ dér, og så plotte dem. Fx:"
   ]
  },
  {
   "cell_type": "code",
   "execution_count": null,
   "metadata": {},
   "outputs": [],
   "source": [
    "x = np.array([0,1,2,3])\n",
    "y = x**2\n",
    "plt.plot(x,y)"
   ]
  },
  {
   "cell_type": "markdown",
   "metadata": {},
   "source": [
    "Men når vi kun har nogle få værdier bliver det ret takket, fordi den bare tegner lige linjer imellem punkterne. Løsningen er at tilføje mange flere punkter til \"x\". Det kan vi gøre med np.linspace(a,b,num), som genererer en array med \"num\" tal i intervallet \"a\" til \"b\". Fx:"
   ]
  },
  {
   "cell_type": "code",
   "execution_count": null,
   "metadata": {},
   "outputs": [],
   "source": [
    "x = np.linspace(0,3,100)\n",
    "y = x**2\n",
    "plt.plot(x,y)"
   ]
  },
  {
   "cell_type": "markdown",
   "metadata": {},
   "source": [
    "Det ser meget bedre ud! \n",
    "##### Opgave 18: Plot $sin(x)$ og $cos(x)$ for x fra 0 til $2\\pi$\n",
    "Hint: np.pi eksisterer, og gør hvad du forventer\n",
    "\n",
    "Hint 2: Skriver du plt.plot 2 gange i samme celle, kommer de på samme figur"
   ]
  },
  {
   "cell_type": "code",
   "execution_count": null,
   "metadata": {},
   "outputs": [],
   "source": []
  },
  {
   "cell_type": "markdown",
   "metadata": {},
   "source": [
    "For at lave et godt plot er det en fordel at putte etiketterne på akserne. Til det formål kan vi skrive plt.xlabel og plt.ylabel, og desuden kan vi skrive plt.legend([\"navn1\", \"navn2\"]) for at få en signaturforklaring (legend på engelsk). \n",
    "##### Opgave 19: Giv passende aksetitler og signaturforklaring på plottet over $sin(x)$ og $cos(x)$"
   ]
  },
  {
   "cell_type": "code",
   "execution_count": null,
   "metadata": {},
   "outputs": [],
   "source": []
  },
  {
   "cell_type": "markdown",
   "metadata": {},
   "source": [
    "Nogle gange ønsker vi at zoome ind på nogle af akserne. Til det formål kan vi bruge plt.xlim(min, max) og plt.ylim(min, max) som zoomer ind på hhv x- og y-aksen, hvor min og max er de ønskede grænser.\n",
    "\n",
    "##### Opgave 20: Tilføj $1/x$ til plottet fra forrige opgave, og zoom ind så det bliver \"pænt\" igen"
   ]
  },
  {
   "cell_type": "markdown",
   "metadata": {},
   "source": []
  },
  {
   "cell_type": "markdown",
   "metadata": {},
   "source": [
    "Nogle gange har vi noget målt data (typisk fra en fil) som vi ønsker at plotte som et punktdiagram eller scatterplot. Det kan vi gøre med plt.scatter. Her vil jeg skrive noget magisk kode som producerer noget data vi vil plotte:"
   ]
  },
  {
   "cell_type": "code",
   "execution_count": null,
   "metadata": {},
   "outputs": [],
   "source": [
    "x = np.linspace(0, 10, 100)\n",
    "y = 0.3*x**2+np.random.rand(len(x))*10\n",
    "plt.scatter(x,y)"
   ]
  },
  {
   "cell_type": "markdown",
   "metadata": {},
   "source": [
    "En sidste vigtig form for plot er histogrammer. Det kan vi lave med:"
   ]
  },
  {
   "cell_type": "code",
   "execution_count": null,
   "metadata": {},
   "outputs": [],
   "source": [
    "plt.hist(y,50);"
   ]
  },
  {
   "cell_type": "markdown",
   "metadata": {},
   "source": [
    "Hvor 50 er antallet af søjler"
   ]
  },
  {
   "cell_type": "markdown",
   "metadata": {},
   "source": [
    "## Fitting\n",
    "Hvis vi havde eksperimentelt målt data i scatterplottet ovenfor, kunne det være intessant at vide hvilken funktion data kommer fra. Lad os som eksempel antage at data kom fra $f(x)=a*x+b$, og se hvilke parametre af a og b der passer bedst til det. Det er det vi kalder fitting, og der bruger vi en funktion ved navn curve_fit som kommer fra pakken scipy:"
   ]
  },
  {
   "cell_type": "code",
   "execution_count": null,
   "metadata": {},
   "outputs": [],
   "source": [
    "from scipy.optimize import curve_fit\n",
    "\n",
    "# Her definerer vi funktionen \"f\", som er i stand til at udregne \n",
    "def f(x, a, b):\n",
    "    return a*x+b\n",
    "\n",
    "param, _ = curve_fit(f, x, y) # Her fitter vi funktionen\n",
    "print(param)"
   ]
  },
  {
   "cell_type": "markdown",
   "metadata": {},
   "source": [
    "De bedste værdier af parametene er altså de 2. Lad os plotte både datapunkterne og funktionen:"
   ]
  },
  {
   "cell_type": "code",
   "execution_count": null,
   "metadata": {},
   "outputs": [],
   "source": [
    "y_funktion = f(x,param[0], param[1]) # udregn funktion med de fundne bedste parametre\n",
    "plt.plot(x,y_funktion) # Plot funktion oven på data\n",
    "plt.scatter(x,y)\n",
    "plt.xlabel(\"x\")\n",
    "plt.ylabel(\"y\")\n",
    "plt.legend([\"linært fit\", \"data\"])"
   ]
  },
  {
   "cell_type": "markdown",
   "metadata": {},
   "source": [
    "##### Opgave 21: Fit et 2. grads polynomiom, ie $f(X)=ax^2+bx+c$"
   ]
  },
  {
   "cell_type": "code",
   "execution_count": null,
   "metadata": {},
   "outputs": [],
   "source": []
  },
  {
   "cell_type": "markdown",
   "metadata": {},
   "source": [
    "##### Opgave 22: Fit funktionen $A*\\exp(-x^2/a^2)$ (hvor A og a skal bestemmes) til x som genereret nedenfor:"
   ]
  },
  {
   "cell_type": "code",
   "execution_count": null,
   "metadata": {},
   "outputs": [],
   "source": [
    "#### Magisk kode til at generere x og y der skal fittes. Brug ikke for mange kræfter på at forstå det\n",
    "data = np.random.randn(1000)\n",
    "y, x = np.histogram(data, bins=20)\n",
    "x = (x[1:] + x[:-1])/2\n",
    "plt.scatter(x,y)"
   ]
  },
  {
   "cell_type": "markdown",
   "metadata": {},
   "source": [
    "## Ekstra"
   ]
  },
  {
   "cell_type": "markdown",
   "metadata": {},
   "source": [
    "##### Opgave 23: Udregn summen af alle ulige elementer i array_af_tal uden at bruge \"%\""
   ]
  },
  {
   "cell_type": "code",
   "execution_count": null,
   "metadata": {},
   "outputs": [],
   "source": []
  },
  {
   "cell_type": "markdown",
   "metadata": {},
   "source": [
    "##### Opgave 24: Lav en funktion der printer det 7. element af en liste"
   ]
  },
  {
   "cell_type": "code",
   "execution_count": null,
   "metadata": {},
   "outputs": [],
   "source": []
  },
  {
   "cell_type": "markdown",
   "metadata": {},
   "source": [
    "##### Opgave 25: Lav en funktion der printer det 7. element af en liste, men kun hvis listen er mindst 7 elementer lang. Hvis listen er for kort, skal den i stedet printe en advarsel."
   ]
  },
  {
   "cell_type": "code",
   "execution_count": null,
   "metadata": {},
   "outputs": [],
   "source": []
  }
 ],
 "metadata": {
  "kernelspec": {
   "display_name": "Python 3 (ipykernel)",
   "language": "python",
   "name": "python3"
  },
  "language_info": {
   "codemirror_mode": {
    "name": "ipython",
    "version": 3
   },
   "file_extension": ".py",
   "mimetype": "text/x-python",
   "name": "python",
   "nbconvert_exporter": "python",
   "pygments_lexer": "ipython3",
   "version": "3.9.7"
  },
  "latex_envs": {
   "LaTeX_envs_menu_present": true,
   "autoclose": false,
   "autocomplete": true,
   "bibliofile": "biblio.bib",
   "cite_by": "apalike",
   "current_citInitial": 1,
   "eqLabelWithNumbers": true,
   "eqNumInitial": 1,
   "hotkeys": {
    "equation": "Ctrl-E",
    "itemize": "Ctrl-I"
   },
   "labels_anchors": false,
   "latex_user_defs": false,
   "report_style_numbering": false,
   "user_envs_cfg": false
  },
  "toc": {
   "base_numbering": 1,
   "nav_menu": {},
   "number_sections": true,
   "sideBar": true,
   "skip_h1_title": false,
   "title_cell": "Table of Contents",
   "title_sidebar": "Contents",
   "toc_cell": false,
   "toc_position": {},
   "toc_section_display": true,
   "toc_window_display": false
  },
  "varInspector": {
   "cols": {
    "lenName": 16,
    "lenType": 16,
    "lenVar": 40
   },
   "kernels_config": {
    "python": {
     "delete_cmd_postfix": "",
     "delete_cmd_prefix": "del ",
     "library": "var_list.py",
     "varRefreshCmd": "print(var_dic_list())"
    },
    "r": {
     "delete_cmd_postfix": ") ",
     "delete_cmd_prefix": "rm(",
     "library": "var_list.r",
     "varRefreshCmd": "cat(var_dic_list()) "
    }
   },
   "types_to_exclude": [
    "module",
    "function",
    "builtin_function_or_method",
    "instance",
    "_Feature"
   ],
   "window_display": false
  }
 },
 "nbformat": 4,
 "nbformat_minor": 4
}
