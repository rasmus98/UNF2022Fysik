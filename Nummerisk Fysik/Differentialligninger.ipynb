{
 "cells": [
  {
   "cell_type": "markdown",
   "id": "e078ec26-09d6-466f-9e68-8189c016a046",
   "metadata": {},
   "source": [
    "# Simulering af differentialligninger\n",
    "Differentialligninger er ligninger der beskriver hvordan ting ændrer sig, baseret på hvordan de ser ud nu. Fx betyder $\\frac{dx}{dt}=2$ at ændringen i $x$ som funktion af tiden $t$ har en hældning 2 til alle tider. Eller $\\frac{dx}{dt}=x$ betyder at $x$ altid stiger lige så hurtigt som x er stor, så x vokser altså hurtigere og hurtigere. Det kunne fx være sandt for en befolkning, hvor $x$ er antallet af mennesker, for så vil en million mennesker kunne føde en million børn på en generation, men en millard mennesker vil kunne føde en millard børn. Altså en ændringen af antal mennesker ca. lige så stor som antallet af mennesker.\n",
    "\n",
    "Hvordan programmerer vi det? Jo, vi starter med at lave en variabel $x$ som er der vi starter, og så flytter vi $x$ som vores ligning dikterer $x -> x + \\Delta x$, og gør så det i et for loop så længe vi ønsker, fx i $N$ skridt. Egentlig skulle det gøres med uendeligt små skridt $dt$, men vi approximerer i stedet, og tager fx skridtet $\\Delta t=0.01$. Ligningen $\\frac{dx}{dt}=x$ bliver altså til $\\frac{\\Delta x}{\\Delta t}=x$, eller $\\Delta x = x\\cdot\\Delta t$:"
   ]
  },
  {
   "cell_type": "code",
   "execution_count": 4,
   "id": "d4ba89f4-7963-44ae-9cda-0fd87ed02d2c",
   "metadata": {},
   "outputs": [
    {
     "data": {
      "text/plain": [
       "[<matplotlib.lines.Line2D at 0x7f0eb9343580>]"
      ]
     },
     "execution_count": 4,
     "metadata": {},
     "output_type": "execute_result"
    },
    {
     "data": {
      "image/png": "[encoded data removed]",
      "text/plain": [
       "<Figure size 432x288 with 1 Axes>"
      ]
     },
     "metadata": {
      "needs_background": "light"
     },
     "output_type": "display_data"
    }
   ],
   "source": [
    "import numpy as np\n",
    "import matplotlib.pyplot as plt\n",
    "x = 0.01\n",
    "N = 1000 # antallet af skridt\n",
    "dt = 0.01\n",
    "x_array = np.zeros(1000) # laver et array til at opbevare bevægelsen, her bare 1000 0-er\n",
    "for i in range(1000):\n",
    "    dx = x * dt    # udregn dx\n",
    "    x = x + dx     # x -> x + dx\n",
    "    x_array[i] = x # gem svar\n",
    "plt.plot(x_array)"
   ]
  },
  {
   "cell_type": "markdown",
   "id": "7632544e-8b68-4cfc-b04e-76107bb17c61",
   "metadata": {},
   "source": [
    "Og sørme så, det var en eksponentialfunktion! Det kan man også vise matematisk gælder (at $x=exp(t)$ er løsningen på $\\frac{d}{dt}x=x$, fordi $\\frac{d}{dt}\\exp(t)=\\exp(t)$"
   ]
  },
  {
   "cell_type": "markdown",
   "id": "a74f135b-be43-46f6-aa06-6516c4bcae6f",
   "metadata": {},
   "source": [
    "Lad os i stedet ændre det en smule:\n",
    "### Opgave: Gør det samme for $\\frac{dx}{dt}=x(1-x)$\n",
    "Det er faktisk en model for fx koncentrationen af molekyler i en reaktion"
   ]
  },
  {
   "cell_type": "code",
   "execution_count": null,
   "id": "26c1b35a-29a7-4a2e-b591-769ffe025396",
   "metadata": {},
   "outputs": [],
   "source": []
  },
  {
   "cell_type": "markdown",
   "id": "4eba9068-7918-4e52-b728-0611244306b1",
   "metadata": {},
   "source": [
    "Det ovenstående kan også løses matematisk, men nu skal vi til noget fysik som ikke er helt så nemt, nemligt flere ligninger samtidigt!\n",
    "### Opgave: simuler en bold der kastes\n",
    "For at gøre det, skal vi simulere både x og y bevægelse, bolden bevæger sig både frem og ned. En bolds bevælgelse kan beskrives med\n",
    "\n",
    "$$\\frac{d}{dt}v_y=-g$$\n",
    "$$\\frac{d}{dt}p_x=v_x$$\n",
    "$$\\frac{d}{dt}p_y=v_y$$\n",
    "\n",
    "Hvor $g$ er tyngdekræften, $v_x$, $v_y$ er hhv. hastigheden af bolden i x-retningen, y-retningen og  $p_x$ og $p_y$ er positionen i $x$ og $y$ retningen. \n",
    "\n",
    "For at simulere dette skal vi så omskrive hver ligning til $\\Delta v_y$, $\\Delta p_x$ og $\\Delta p_y$, udregne dem for hvert tidspunkt og opdatere variablerne tilsvarende for hvert tidspunkt.\n",
    "\n",
    "Start med begyndelsesbetingelserne $v_x =1$, $v_y=1$, $p_x=0$ og $p_y=0$, og sæt $g=1$. Simuler ligningerne ovenfor og plot banen, og juster antallet af steps, indtil bolden kommer ned til jorden igen ($y(t)=0$).\n",
    "\n",
    "$-a|v|\\bar{v}$"
   ]
  },
  {
   "cell_type": "code",
   "execution_count": null,
   "id": "72d81d4c-839a-4a09-8c30-7063485b21ce",
   "metadata": {},
   "outputs": [],
   "source": []
  },
  {
   "cell_type": "markdown",
   "id": "2c4a340c-85e6-433c-b5e7-bc2d0f76022c",
   "metadata": {},
   "source": [
    "### Opgave: tilføj vindmodstand:\n",
    "Indtil videre har vi kun simuleret ting der i teorien kan udregnes matematisk, men nu sker der noget! For vi tilføjer vindmodstand (oh the horror, eller nej, fordi python er nice). \n",
    "\n",
    "Ved vindmodstand er differentialligningen for $v$ på vektorform nu $\\frac{d\\bar{v}}{dt}=-av^2\\hat{v}+\\bar{g}$, eller på mere normal form:\n",
    "\n",
    "$$\\frac{d}{dt}v_x=-a\\sqrt{v_x^2+v_y^2}v_x$$\n",
    "$$\\frac{d}{dt}v_y=-g-a\\sqrt{v_x^2+v_y^2}v_y$$\n",
    "\n",
    "Simuler de ligninger, og se hvordan $a$ ændrer banen for nogle forskellige værdier af $a$, fx 0.001, 0.01, 0.1 og 1"
   ]
  },
  {
   "cell_type": "code",
   "execution_count": null,
   "id": "58a70e20-4dd0-401c-934f-91c7d5e70d06",
   "metadata": {},
   "outputs": [],
   "source": []
  }
 ],
 "metadata": {
  "kernelspec": {
   "display_name": "Python 3",
   "language": "python",
   "name": "python3"
  },
  "language_info": {
   "codemirror_mode": {
    "name": "ipython",
    "version": 3
   },
   "file_extension": ".py",
   "mimetype": "text/x-python",
   "name": "python",
   "nbconvert_exporter": "python",
   "pygments_lexer": "ipython3",
   "version": "3.8.5"
  }
 },
 "nbformat": 4,
 "nbformat_minor": 5
}
