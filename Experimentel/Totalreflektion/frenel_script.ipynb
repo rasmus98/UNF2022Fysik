{
 "cells": [
  {
   "cell_type": "code",
   "execution_count": null,
   "metadata": {},
   "outputs": [],
   "source": [
    "import numpy as np\n",
    "import matplotlib.pyplot as plt\n",
    "from scipy.optimize import curve_fit\n"
   ]
  },
  {
   "cell_type": "markdown",
   "metadata": {},
   "source": [
    "#### Introduktion\n",
    "\n",
    "Denne Notebook er til forsøget om total reflektion. Det er formuleret som en rettesnor at gå efter hvo i skal udfylde huller i koden.\n",
    "\n",
    "__Formål:__ Formålet ved dette forsøg er at måle mængden af reflekteret lys i forskellige vinkler og bestemme brewstervinklen og vinklen for totalreflektionen."
   ]
  },
  {
   "cell_type": "code",
   "execution_count": null,
   "metadata": {},
   "outputs": [],
   "source": [
    "data = np.loadtxt('test_data_fresnel.txt', delimiter='\t', skiprows=14);\n",
    "angles = data[:,0]"
   ]
  },
  {
   "cell_type": "code",
   "execution_count": null,
   "metadata": {},
   "outputs": [],
   "source": [
    "\n",
    "V_T = data[:,3]*1e3# - data[fltr,11]\n",
    "V_R = data[:,5]    # - data[fltr,13]\n",
    "\n",
    "# Skriv formlen for reflektionskoeficienten og beregn den for jeres data\n",
    "\n",
    "\n"
   ]
  },
  {
   "cell_type": "code",
   "execution_count": null,
   "metadata": {},
   "outputs": [],
   "source": [
    "# Plot refleksionskoeficienten som funktion af målte vinkel\n",
    "\n"
   ]
  },
  {
   "cell_type": "code",
   "execution_count": null,
   "metadata": {},
   "outputs": [],
   "source": [
    "# Her skal i beregne reflektionen. Udfyld funktionen for kappa og find den rigtige fresnelliging som skal skrive i \n",
    "# return for at i udregner reflektionen.\n",
    "\n",
    "def kappa_f():\n",
    "    return #skriv formel her\n",
    "\n",
    "def udregn_reflektion(theta_I_deg, n):\n",
    "    theta_I = np.radians(theta_I_deg)\n",
    "    kappa = kappa_f(np.minimum(np.sin(theta_I)* n, 1))\n",
    "    return  #skriv formel her"
   ]
  },
  {
   "cell_type": "code",
   "execution_count": null,
   "metadata": {},
   "outputs": [],
   "source": [
    "# Brug curve_fit til at fitte funktionsudtrykket fra udregn_reflektion til jeres målte data\n",
    "\n",
    "\n"
   ]
  },
  {
   "cell_type": "code",
   "execution_count": null,
   "metadata": {},
   "outputs": [],
   "source": [
    "# Plot jeres data og jeres fit i samme plot.\n",
    "\n",
    "plt.plot(angles, udregn_reflektion(angles, best_param[0]))\n",
    "\n",
    "print(best_param, np.degrees(np.arctan(1/best_param)), np.degrees(np.arcsin(1/best_param)))"
   ]
  },
  {
   "cell_type": "code",
   "execution_count": null,
   "metadata": {},
   "outputs": [],
   "source": []
  }
 ],
 "metadata": {
  "kernelspec": {
   "display_name": "Python 3",
   "language": "python",
   "name": "python3"
  },
  "language_info": {
   "codemirror_mode": {
    "name": "ipython",
    "version": 3
   },
   "file_extension": ".py",
   "mimetype": "text/x-python",
   "name": "python",
   "nbconvert_exporter": "python",
   "pygments_lexer": "ipython3",
   "version": "3.8.5"
  }
 },
 "nbformat": 4,
 "nbformat_minor": 4
}
