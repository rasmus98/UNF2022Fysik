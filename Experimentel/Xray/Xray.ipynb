{
 "cells": [
  {
   "cell_type": "markdown",
   "metadata": {},
   "source": [
    "# Røngtendiffraktion"
   ]
  },
  {
   "cell_type": "markdown",
   "metadata": {},
   "source": [
    "Nedenfor er defineret en funktion \"læs_data\" som kan læse data fra detektoren. Brug den til at læse mca filerne. Desuden importerer vi de pakker vi skal bruge"
   ]
  },
  {
   "cell_type": "code",
   "execution_count": 10,
   "metadata": {},
   "outputs": [
    {
     "data": {
      "text/plain": [
       "[<matplotlib.lines.Line2D at 0x7f4dcfaeef70>]"
      ]
     },
     "execution_count": 10,
     "metadata": {},
     "output_type": "execute_result"
    },
    {
     "data": {
      "image/png": "[encoded data removed]",
      "text/plain": [
       "<Figure size 432x288 with 1 Axes>"
      ]
     },
     "metadata": {
      "needs_background": "light"
     },
     "output_type": "display_data"
    }
   ],
   "source": [
    "import numpy as np\n",
    "import matplotlib.pyplot as plt\n",
    "from scipy.optimize import curve_fit\n",
    "\n",
    "def læs_data(filnavn):\n",
    "    with open(filnavn, errors='ignore') as f:\n",
    "        data = np.array(f.readlines()[12:-73]).astype(int)\n",
    "        return np.arange(len(data)), data\n",
    "\n",
    "# eksempel:\n",
    "n, signal = læs_data('data/Am241.mca')\n",
    "plt.plot(n, signal)"
   ]
  },
  {
   "cell_type": "markdown",
   "metadata": {},
   "source": [
    "### Del 1: Kalibrer energier til kanaler\n",
    "Nu skal vi kallibrere kanalerne, altså finde ud af hvilke energier kanalerne svarer til. Vi har slået op at Americum 241 formentligt vil vise peaks ved energierne listet i arrayet \"energier\" som står i blokken nedenfor. Så dem vil vi gerne match op med kanalerne ovenfor. Så for at gøre det:\n",
    "- For hver af energierne i listen, lav en lodret streg i plottet ved den energi. Hint: hvis \"energi\" er en energi hvorved vi vil lave en lodret streg er det smart as skrive \"plt.axvline(energi, color = 'k', linewidth = 0.5)\". Det skal vi så gøre for hver energi.\n",
    "- Hver kanal svarer til en energi, men vi ved ikke hvilken. Hvad vi ved er at vi kan skrive $E=E_0\\cdot n$ hvor $E$ er den faktiske energi for en kanal og $n$ er kanal nummeret, så vi skal altså finde $E_0$, \"oversættelsen\" mellem kanal nummer og energi. Skriv funktionsforholdet for E og Plot det målte data sammen med energistregerne. Når i gør dette skal i justere E0 så at stregerne kommer til at ligge oven i peaksne."
   ]
  },
  {
   "cell_type": "code",
   "execution_count": 11,
   "metadata": {},
   "outputs": [
    {
     "data": {
      "text/plain": [
       "Ellipsis"
      ]
     },
     "execution_count": 11,
     "metadata": {},
     "output_type": "execute_result"
    }
   ],
   "source": [
    "\n",
    "#Energier af Am241 resonanser i keV\n",
    "energier = np.array([11.871, 13.9, 16.84, 17.7502, 20.7848, 26.3446, 59.5409]) \n",
    "\n",
    "..."
   ]
  },
  {
   "cell_type": "markdown",
   "metadata": {},
   "source": [
    "### Del 2: Kalibrer koncentrationer \n",
    "Først, plot signalet for de 2 målte Jern/nikkel materialer, og zoom ind så plottet bliver \"pænt\". Tilføj også en signaturforklaring (legend). Hvordan adskiller de 2 plot sig?"
   ]
  },
  {
   "cell_type": "code",
   "execution_count": 12,
   "metadata": {},
   "outputs": [
    {
     "data": {
      "text/plain": [
       "Ellipsis"
      ]
     },
     "execution_count": 12,
     "metadata": {},
     "output_type": "execute_result"
    }
   ],
   "source": [
    "..."
   ]
  },
  {
   "cell_type": "markdown",
   "metadata": {},
   "source": [
    "For at finde ud af hvor meget Jern og Nikkel der er i et materiale skal vi altså se på hvordan arealet af bumpene ændrer sig. Ud fra teori kan man vise at formen af hvert bump går som $I(E)=A\\exp\\left(\\left(\\frac{E-E_i}{2\\sigma}\\right)^2\\right)$, og arealet er så $\\int_{-\\infty}^{\\infty}I(E)dE=A\\sqrt{\\frac{\\pi}{|\\sigma|}}$. Hvis vi fitter $I(E)$ med curve_fit som vi lærte til nummerisk fysik, kan vi altså sætte $A$ og $\\sigma$ ind i formlen, og få arealet ufatteligt præcist. \n",
    "\n",
    "Når vi kun ønsker at fitte til et enkelt peak og ikke hele datasættet skal vi hjælpe curve_fit. Det gør vi ved at gøre 2 ting: \n",
    "- For det første skal vi klippe kun det bump ud som vi ønsker at fitte til, så curve_fit ikke bliver forvirret at alt muligt andet. Til det formål har vi givet funktionen \"klip_data\" nedenfor (test den ved at plotte det klippede data sammen med hele datasættet som ovenfor)\n",
    "\n",
    "- For det andet, curve_fit prøver som udgangspunkt et fit centreret om E=0, og justerer så mod det bedste svar. Men hvis data faktisk er centreret i fx E=7 kan den ikke finde ud af det. Så det kan være smart at fotælle curvfit hvor den skal starte med at gætte. Dette gør man ved at skrive curve_fit(funktion,x_data,y_data,p0=[a1, a2, a3,...]) hvor a1, a2 og a3 er startgæt på de forskellige fittingparametre. Kommer man med et okay gæt virker curvefit!\n",
    "\n",
    "Så nu har vi altså kode til at bestemme arealet af hver peak. Hvis vi gør det for 1 peak der tilsvarer jern og 1 der tilsvarer nikkel, kan vi altså bestemme forholdet imellem de to. Vælg to peaks, og udregn areal forholdet for hver af de to kendte materialer."
   ]
  },
  {
   "cell_type": "code",
   "execution_count": 9,
   "metadata": {},
   "outputs": [
    {
     "ename": "NameError",
     "evalue": "name 'E0' is not defined",
     "output_type": "error",
     "traceback": [
      "\u001b[0;31m---------------------------------------------------------------------------\u001b[0m",
      "\u001b[0;31mNameError\u001b[0m                                 Traceback (most recent call last)",
      "\u001b[0;32m<ipython-input-9-80ef4ce54d6f>\u001b[0m in \u001b[0;36m<module>\u001b[0;34m\u001b[0m\n\u001b[1;32m      3\u001b[0m     \u001b[0mfltr\u001b[0m \u001b[0;34m=\u001b[0m \u001b[0;34m(\u001b[0m\u001b[0menergier\u001b[0m \u001b[0;34m>\u001b[0m \u001b[0mfra\u001b[0m\u001b[0;34m)\u001b[0m \u001b[0;34m&\u001b[0m \u001b[0;34m(\u001b[0m\u001b[0menergier\u001b[0m \u001b[0;34m<\u001b[0m \u001b[0mtil\u001b[0m\u001b[0;34m)\u001b[0m\u001b[0;34m\u001b[0m\u001b[0;34m\u001b[0m\u001b[0m\n\u001b[1;32m      4\u001b[0m     \u001b[0;32mreturn\u001b[0m \u001b[0menergier\u001b[0m\u001b[0;34m[\u001b[0m\u001b[0mfltr\u001b[0m\u001b[0;34m]\u001b[0m\u001b[0;34m,\u001b[0m \u001b[0msignal\u001b[0m\u001b[0;34m[\u001b[0m\u001b[0mfltr\u001b[0m\u001b[0;34m]\u001b[0m\u001b[0;34m\u001b[0m\u001b[0;34m\u001b[0m\u001b[0m\n\u001b[0;32m----> 5\u001b[0;31m \u001b[0menergier_klippet\u001b[0m\u001b[0;34m,\u001b[0m \u001b[0msignal_klippet\u001b[0m \u001b[0;34m=\u001b[0m \u001b[0mklip_data\u001b[0m\u001b[0;34m(\u001b[0m\u001b[0mn\u001b[0m\u001b[0;34m*\u001b[0m\u001b[0mE0\u001b[0m\u001b[0;34m,\u001b[0m \u001b[0msignal\u001b[0m\u001b[0;34m,\u001b[0m \u001b[0;36m6.3\u001b[0m\u001b[0;34m,\u001b[0m \u001b[0;36m6.7\u001b[0m\u001b[0;34m)\u001b[0m\u001b[0;34m\u001b[0m\u001b[0;34m\u001b[0m\u001b[0m\n\u001b[0m\u001b[1;32m      6\u001b[0m \u001b[0;31m# plot klippet data oven på rå data:\u001b[0m\u001b[0;34m\u001b[0m\u001b[0;34m\u001b[0m\u001b[0;34m\u001b[0m\u001b[0m\n\u001b[1;32m      7\u001b[0m \u001b[0;34m...\u001b[0m\u001b[0;34m\u001b[0m\u001b[0;34m\u001b[0m\u001b[0m\n",
      "\u001b[0;31mNameError\u001b[0m: name 'E0' is not defined"
     ]
    }
   ],
   "source": [
    "# Funktion til at klippe data ud \n",
    "def klip_data(energier, signal, fra, til):\n",
    "    fltr = (energier > fra) & (energier < til)\n",
    "    return energier[fltr], signal[fltr]\n",
    "energier_klippet, signal_klippet = klip_data(n*E0, signal, 6.3, 6.7)\n",
    "# plot klippet data oven på rå data:\n",
    "..."
   ]
  },
  {
   "cell_type": "markdown",
   "metadata": {},
   "source": [
    "Udregn arealforhold for 50/50 materiale:"
   ]
  },
  {
   "cell_type": "code",
   "execution_count": null,
   "metadata": {},
   "outputs": [],
   "source": [
    "..."
   ]
  },
  {
   "cell_type": "markdown",
   "metadata": {},
   "source": [
    "Udregn arealforhold for 64/34 materiale:"
   ]
  },
  {
   "cell_type": "code",
   "execution_count": 1,
   "metadata": {},
   "outputs": [
    {
     "data": {
      "text/plain": [
       "Ellipsis"
      ]
     },
     "execution_count": 1,
     "metadata": {},
     "output_type": "execute_result"
    }
   ],
   "source": [
    "..."
   ]
  },
  {
   "cell_type": "markdown",
   "metadata": {},
   "source": [
    "Hvad vil vi forvente at arealforholdet er hvis materialet er 0% jern og 100% nikkel? Med den tanke har vi nu 3 datapunkter (Fe/Ni forhold på x-aksen, bump højde forhold på y-aksen) som vi kan plotte. Hvad ser vi?"
   ]
  },
  {
   "cell_type": "code",
   "execution_count": 2,
   "metadata": {},
   "outputs": [
    {
     "ename": "NameError",
     "evalue": "name 'plt' is not defined",
     "output_type": "error",
     "traceback": [
      "\u001b[0;31m---------------------------------------------------------------------------\u001b[0m",
      "\u001b[0;31mNameError\u001b[0m                                 Traceback (most recent call last)",
      "\u001b[0;32m<ipython-input-2-fd2d0a6690f2>\u001b[0m in \u001b[0;36m<module>\u001b[0;34m\u001b[0m\n\u001b[1;32m      2\u001b[0m \u001b[0mareal_forhold\u001b[0m \u001b[0;34m=\u001b[0m \u001b[0;34m...\u001b[0m\u001b[0;34m\u001b[0m\u001b[0;34m\u001b[0m\u001b[0m\n\u001b[1;32m      3\u001b[0m \u001b[0;31m# Koden nedenfor plotter jeres data og laver et linært fit\u001b[0m\u001b[0;34m\u001b[0m\u001b[0;34m\u001b[0m\u001b[0;34m\u001b[0m\u001b[0m\n\u001b[0;32m----> 4\u001b[0;31m \u001b[0mplt\u001b[0m\u001b[0;34m.\u001b[0m\u001b[0mscatter\u001b[0m\u001b[0;34m(\u001b[0m\u001b[0mkoncentration_forhold\u001b[0m\u001b[0;34m,\u001b[0m\u001b[0mareal_forhold\u001b[0m\u001b[0;34m)\u001b[0m\u001b[0;34m\u001b[0m\u001b[0;34m\u001b[0m\u001b[0m\n\u001b[0m\u001b[1;32m      5\u001b[0m \u001b[0ma\u001b[0m\u001b[0;34m,\u001b[0m \u001b[0mb\u001b[0m \u001b[0;34m=\u001b[0m \u001b[0mnp\u001b[0m\u001b[0;34m.\u001b[0m\u001b[0mpolyfit\u001b[0m\u001b[0;34m(\u001b[0m\u001b[0mkoncentration_forhold\u001b[0m\u001b[0;34m,\u001b[0m\u001b[0mareal_forhold\u001b[0m\u001b[0;34m,\u001b[0m \u001b[0;36m1\u001b[0m\u001b[0;34m)\u001b[0m\u001b[0;34m\u001b[0m\u001b[0;34m\u001b[0m\u001b[0m\n\u001b[1;32m      6\u001b[0m \u001b[0mplt\u001b[0m\u001b[0;34m.\u001b[0m\u001b[0mplot\u001b[0m\u001b[0;34m(\u001b[0m\u001b[0mkoncentration_forhold\u001b[0m\u001b[0;34m,\u001b[0m \u001b[0mkoncentration_forhold\u001b[0m\u001b[0;34m*\u001b[0m\u001b[0ma\u001b[0m\u001b[0;34m+\u001b[0m\u001b[0mb\u001b[0m\u001b[0;34m)\u001b[0m\u001b[0;34m\u001b[0m\u001b[0;34m\u001b[0m\u001b[0m\n",
      "\u001b[0;31mNameError\u001b[0m: name 'plt' is not defined"
     ]
    }
   ],
   "source": [
    "koncentration_forhold = ...\n",
    "areal_forhold = ...\n",
    "# Koden nedenfor plotter jeres data og laver et linært fit\n",
    "plt.scatter(koncentration_forhold,areal_forhold)\n",
    "a, b = np.polyfit(koncentration_forhold,areal_forhold, 1)\n",
    "plt.plot(koncentration_forhold, koncentration_forhold*a+b)"
   ]
  },
  {
   "cell_type": "markdown",
   "metadata": {},
   "source": [
    "### Del 3: Ukendt materiale\n",
    "Nu er vi endeligt i stand til at analysere nye materialer. Ved at måle forholdet mellem bump arealerne for et nyt materiale, kan vi aflæse på plottet ovenfor hvilken koncentration forhold det svarer til. Gør det for jeres målte data!"
   ]
  },
  {
   "cell_type": "code",
   "execution_count": null,
   "metadata": {},
   "outputs": [],
   "source": []
  }
 ],
 "metadata": {
  "kernelspec": {
   "display_name": "Python 3",
   "language": "python",
   "name": "python3"
  },
  "language_info": {
   "codemirror_mode": {
    "name": "ipython",
    "version": 3
   },
   "file_extension": ".py",
   "mimetype": "text/x-python",
   "name": "python",
   "nbconvert_exporter": "python",
   "pygments_lexer": "ipython3",
   "version": "3.8.5"
  }
 },
 "nbformat": 4,
 "nbformat_minor": 5
}
