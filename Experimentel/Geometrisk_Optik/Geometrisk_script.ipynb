{
 "cells": [
  {
   "cell_type": "code",
   "execution_count": null,
   "metadata": {},
   "outputs": [],
   "source": [
    "import numpy as np\n",
    "import matplotlib.pyplot as plt\n",
    "from scipy.optimize import curve_fit"
   ]
  },
  {
   "cell_type": "markdown",
   "metadata": {},
   "source": [
    "#### Introduktion\n",
    "\n",
    "Denne Notebook tilhører forsøget om geometrisk optik. I kan her i begyndelsen prøve at implimentere de udregninger i lavede igår i python. Eller i kan hoppe direkte hen til der hvor del 4 står beskrevet. \n",
    "\n",
    "__Formål:__ I dette forsøg skal i finde fokallængden af en linse og bruge geometrisk optik til at bestemme en meget lille åbning der kan være næsten umulig at måle præcist med en linial. "
   ]
  },
  {
   "cell_type": "code",
   "execution_count": null,
   "metadata": {},
   "outputs": [],
   "source": [
    "# Denne celle er til at importere data som i enden kan skrive op i en .txt fil eller i kan skrive dem direkte ind som i numpy arrays.\n",
    "\n",
    "data = np.genfromtxt('test_data.txt', delimiter=',', skip_header=1).T\n",
    "\n",
    "maske = data[0]\n",
    "linse = data[1]\n",
    "bag_skærm = data[2]\n",
    "billede1 = data[3]\n",
    "billede2 = data[4]\n",
    "billede3 = data[5]"
   ]
  },
  {
   "cell_type": "code",
   "execution_count": null,
   "metadata": {},
   "outputs": [],
   "source": [
    "# Brug koordinaterne i har taget til at udregne afstandene s og s'=sm\n",
    "\n",
    "\n",
    "s = 1\n",
    "\n",
    "sm = 1\n"
   ]
  },
  {
   "cell_type": "code",
   "execution_count": null,
   "metadata": {},
   "outputs": [],
   "source": [
    "# brug formlen i opgavebeskrivelse til at skrive en funktion der udregner gennemsnittet af jeres data.\n",
    "\n",
    "def gennemsnit(x):\n",
    "    return 1\n"
   ]
  },
  {
   "cell_type": "code",
   "execution_count": null,
   "metadata": {},
   "outputs": [],
   "source": [
    "# brug formlen i opgavebeskrivelse til at skrive en funktion der udregner usikkerheden af jeres data.\n",
    "\n",
    "def usikkerhed(x):\n",
    "    return 1\n"
   ]
  },
  {
   "cell_type": "code",
   "execution_count": null,
   "metadata": {},
   "outputs": [],
   "source": [
    "# Brug formel 8.13 i kompendiet til at regne fokalpunktet\n",
    "\n",
    "def fokalpunkt(x):\n",
    "    return 1\n",
    "\n"
   ]
  },
  {
   "cell_type": "code",
   "execution_count": null,
   "metadata": {},
   "outputs": [],
   "source": [
    "# Ud fra flere målinger bestem størrelse og usikkerhed for åbningen\n",
    "\n"
   ]
  },
  {
   "cell_type": "code",
   "execution_count": null,
   "metadata": {},
   "outputs": [],
   "source": [
    "# Fjerde del af forsøgsbeskrivelsen \n",
    "    \n",
    "s_fast = 1\n"
   ]
  },
  {
   "cell_type": "code",
   "execution_count": null,
   "metadata": {},
   "outputs": [],
   "source": [
    "# Femte del af forsøgsbeskrivelsen\n",
    "\n",
    "# a) skal først løses på papir og derefter skriv udtrykket som en python funktion\n",
    "\n",
    "def billede():\n",
    "    return 1\n",
    "\n",
    "# b) skriv først jeres datapunkter op\n",
    "\n",
    "sm = np.array([1,2,3,4,5,6])\n",
    "\n",
    "ym = np.array([1,2,3,4,5,6])\n",
    "\n",
    "sigma_ym = np.array([1,2,3,4,5,6])\n",
    "\n",
    "# plot først jeres data\n",
    "\n",
    "plt.errorbar(sm, ym, sigma_ym, fmt='.', capsize=4, label='Målt data')\n",
    "plt.xlabel('sm [cm]')\n",
    "plt.ylabel('ym [cm]')\n",
    "plt.legend()"
   ]
  },
  {
   "cell_type": "code",
   "execution_count": null,
   "metadata": {},
   "outputs": [],
   "source": [
    "# for at kunne bestemme åbningen y skal i finde hældningen af jeres  ligning for det givne data.\n",
    "# Dette gør i ved at lave et fit og aflæse den fundne hældningskoeficient fra den relevante fitting parameter. Brug curve_fit\n",
    "# funktionen til at finde en værdi for hældningskoeficienten.\n",
    "\n",
    "popt, pcov = curve_fit\n",
    "\n",
    "# denne linje beregner usikkerheden på fit parametrene \n",
    "\n",
    "\n",
    "perr = np.sqrt(np.diag(pcov))\n",
    "\n",
    "\n",
    "# følgende plotter resultatet af jeres data med fit.\n",
    "\n",
    "x_range = np.linspace(min(sm), max(sm),100)\n",
    "\n",
    "plt.plot(x_range, billede(x_range, *popt), label='fit')\n",
    "plt.xlabel('sm [cm]')\n",
    "plt.ylabel('ym [cm]')\n",
    "plt.legend()"
   ]
  }
 ],
 "metadata": {
  "kernelspec": {
   "display_name": "Python 3",
   "language": "python",
   "name": "python3"
  },
  "language_info": {
   "codemirror_mode": {
    "name": "ipython",
    "version": 3
   },
   "file_extension": ".py",
   "mimetype": "text/x-python",
   "name": "python",
   "nbconvert_exporter": "python",
   "pygments_lexer": "ipython3",
   "version": "3.8.5"
  }
 },
 "nbformat": 4,
 "nbformat_minor": 4
}
