{
 "cells": [
  {
   "cell_type": "code",
   "execution_count": null,
   "metadata": {},
   "outputs": [],
   "source": [
    "import numpy as np\n",
    "import matplotlib.pyplot as plt\n",
    "from scipy import signal"
   ]
  },
  {
   "cell_type": "markdown",
   "metadata": {},
   "source": [
    "### Introduktion\n",
    "\n",
    "Denne Notebook er til forsøget interferrometer. Her vil du finde eksempler på hvordan man indlæser og plotter data, samt en funktion til hvordan man finder peaks i dataen så man automatisk kan tælle antallet af svingninger.\n",
    "\n",
    "Dette er dog kun gjort for en enkelt dataserie, og ikke alle udregningerne er skrevet ind for at kunne beregne brydningsindekset ved påført tryk.\n",
    "\n",
    "__Formål:__ I skal justere parametrene for databehandlingen så i vælger de relevante tidsintervaller og tæller antallet af peaks præcist. Derefter skal i færdiggøre udregningen for at kunne finde brydningsindekset for trykcellen. Til dette skal i bruge formel 8.48 i kompendiet.  "
   ]
  },
  {
   "cell_type": "code",
   "execution_count": null,
   "metadata": {},
   "outputs": [],
   "source": [
    "###################### Indlæser daten og seperere målt tid og spændning som hver sit array\n",
    "\n",
    "tid1, spænding1 = np.loadtxt('m1.txt', delimiter=\"\\t\", skiprows=3).T # i stedet for m1.txt indsæt navnet for jeres datafil"
   ]
  },
  {
   "cell_type": "markdown",
   "metadata": {},
   "source": [
    "Plot data loadet ovenfor. Giv passende aksetitler og signaturforklaring (legend)."
   ]
  },
  {
   "cell_type": "code",
   "execution_count": null,
   "metadata": {},
   "outputs": [],
   "source": [
    "# Plot af de rå data\n"
   ]
  },
  {
   "cell_type": "markdown",
   "metadata": {},
   "source": [
    "#### Vi vil gerne være i stand til at tælle hvor mange oscillationer der er i hver af de to områder med meget hurtige svingninger (hvorfor?). Først vil vi gerne afskærer de to områder hvor der er peaks. \n",
    "\n",
    "#### __I skal vælge min1, max1, min2 og max2, sådan at kun de hurtige svingninger er med.__\n",
    "\n",
    "Plot i bunden data igen, og i samme plot også afskåret_spændning1 som funktion af afskåret_tid1 og afskåret_spændning2 som funktion af afskåret_tid2."
   ]
  },
  {
   "cell_type": "code",
   "execution_count": null,
   "metadata": {},
   "outputs": [],
   "source": [
    "##### Her kan du vælge hvor du vil indgrænse de relevante tidsintervaller så vi ikke kommer til at tælle ting med vi ikke vil have.\n",
    "\n",
    "min1 = 0.0 # nedre grænse på tidsinterval 1\n",
    "max1 = 2.0 # øvre grænse på tidsinterval 1\n",
    "\n",
    "min2 = 8.0 # nedre grænse på tidsinterval 2\n",
    "max2 = 10.0 # øvre grænse på tidsinterval 2\n",
    "\n",
    "###### Kode der vælger tid, her behøver du ikke gøre noget.\n",
    "\n",
    "filter_1 = (tid1>=min1) & (tid1<=max1)\n",
    "afskåret_tid1 = tid1[filter_1]\n",
    "afskåret_spændning1 = spændning1[filter_1]\n",
    "\n",
    "\n",
    "filter_2 = (tid1>=min2) & (tid1<=max2)\n",
    "afskåret_tid2 = tid1[filter_2]\n",
    "afskåret_spændning2 = spændning1[filter_2]\n",
    "\n",
    "\n",
    "## Plot af de intervaller du har valgt. Giv meget gerne akselabels og en signaturforklaring:\n",
    "..."
   ]
  },
  {
   "cell_type": "markdown",
   "metadata": {},
   "source": [
    "#### Nu skal vi finde peaks i hvert af de to tidsintervaller. \n",
    "\n",
    "Koden nedenunder bruger funktionen find_peaks, som returnerer indekserne på peaksne, og laver det om til tiden og spændingen ved peaket (x- og y-værdierne). \n",
    "\n",
    "Lav samme plot som lige ovenfor, men nu også med peaksne markeret (husk, plt.scatter kan være brugbar til at tegne punkter).\n",
    "\n",
    "Print også hvor mange peaks der er i hvert interval (hint: len(array) kan være nyttig her...)"
   ]
  },
  {
   "cell_type": "code",
   "execution_count": null,
   "metadata": {},
   "outputs": [],
   "source": [
    "##############################################\n",
    "\n",
    "peaks1_indeks = signal.find_peaks(afskåret_spændning1, prominence=2)[0]\n",
    "\n",
    "spændning_peaks1 = afskåret_spændning1[peaks1_indeks] \n",
    "tid_peaks1 = afskåret_tid1[peaks1_indeks]\n",
    "\n",
    "peaks2_indeks = signal.find_peaks(afskåret_spændning2, prominence=2)[0]\n",
    "\n",
    "spændning_peaks2 = afskåret_spændning2[peaks2_indeks] \n",
    "tid_peaks2 = afskåret_tid2[peaks2_indeks]\n",
    "\n",
    "# Lav plot her:\n",
    "..."
   ]
  },
  {
   "cell_type": "markdown",
   "metadata": {},
   "source": [
    "#### __Færdiggør funktionen nedenunder ved hjælp af formel 8.48 i kompendiet for at kunne regne brydningsindekset af atmosfærisk luft under tryk.__"
   ]
  },
  {
   "cell_type": "code",
   "execution_count": null,
   "metadata": {},
   "outputs": [],
   "source": [
    "m = 1\n",
    "\n",
    "bølg = 1\n",
    "\n",
    "L = 1\n",
    "\n",
    "n_atmos = 1\n",
    "\n",
    "#funktionen her virker ikke. Fix den!\n",
    "def brydningsindeks(m, bølg, L, n_atmos):\n",
    "    n_tryk = 2\n",
    "    return n_tryk\n",
    "#print brydningsindekset for vores måling"
   ]
  },
  {
   "cell_type": "markdown",
   "metadata": {},
   "source": [
    "#### Hvis i har mere tid, så gentag databehandlingen for flere måleserier og se om i får samme resultat."
   ]
  },
  {
   "cell_type": "code",
   "execution_count": null,
   "metadata": {},
   "outputs": [],
   "source": []
  }
 ],
 "metadata": {
  "kernelspec": {
   "display_name": "Python 3",
   "language": "python",
   "name": "python3"
  },
  "language_info": {
   "codemirror_mode": {
    "name": "ipython",
    "version": 3
   },
   "file_extension": ".py",
   "mimetype": "text/x-python",
   "name": "python",
   "nbconvert_exporter": "python",
   "pygments_lexer": "ipython3",
   "version": "3.8.5"
  }
 },
 "nbformat": 4,
 "nbformat_minor": 4
}
