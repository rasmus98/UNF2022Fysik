{
 "cells": [
  {
   "cell_type": "code",
   "execution_count": null,
   "metadata": {},
   "outputs": [],
   "source": [
    "import numpy as np\n",
    "import matplotlib.pyplot as plt\n",
    "from scipy import signal"
   ]
  },
  {
   "cell_type": "markdown",
   "metadata": {},
   "source": [
    "### Introduktion\n",
    "\n",
    "Denne Notebook er til forsøget om spektroskopi. Du vil her finde eksempler på hvordan man loader og plotter og kan behandle dataen fra forsøget.\n",
    "\n",
    "Ud fra eksemplerne der er givet neden for, er det nu jeres opgave at anvende det til at analysere al jeres data. Dette kode virker som pulsespilsbrikker, hvor i så selv skal samle det.\n",
    "\n",
    "__Formål:__ Anvende emmisionslinjerne fra de forskellige spektrallamper og prøve at genkende emmisionslinjer i forskellige målte spektra."
   ]
  },
  {
   "cell_type": "code",
   "execution_count": null,
   "metadata": {},
   "outputs": [],
   "source": [
    "## Hvordan man indlæser et datasæt.\n",
    "\n",
    "# alle de datasæt i kommer til at arbejde med indeholder bølgelængder og den tilsvarende intensitet\n",
    "\n",
    "\n",
    "Ar_data = np.genfromtxt('Ar.txt', delimiter='\\t', skip_header=3).T\n",
    "\n",
    "Ar_bølgelængde = Ar_data[0]\n",
    "Ar_intensitet = Ar_data[1]\n"
   ]
  },
  {
   "cell_type": "code",
   "execution_count": null,
   "metadata": {},
   "outputs": [],
   "source": [
    "# Her skal i plotte jeres spektrum\n",
    "\n"
   ]
  },
  {
   "cell_type": "code",
   "execution_count": null,
   "metadata": {},
   "outputs": [],
   "source": [
    "# Hvordan man kan finde peak værdier, i kan ændre tallet i find_peaks funktionen, men resten behøver i ikke gøre noget ved.\n",
    "\n",
    "ar_peaks = signal.find_peaks(Ar_intensitet, 5000) # finder peaks der har en højere intensitet end 5000, man kan godt ændre dette tal.\n",
    "\n",
    "ar_peaks_indeks = ar_peaks[0] # Fortæller os ved hvilket indeks i arrayet, der er et peak\n",
    "\n",
    "ar_peaks_intensitet = Ar_intensitet[ar_peaks_indeks] # Giver intensiteten af alle peaksne\n",
    "ar_peaks_bølgelængder = Ar_bølgelængde[ar_peaks_indeks] # # giver bølgelængderne hvor der er peaks\n",
    "\n",
    "\n",
    "print(np.ones(len(Ar_intensitet))*ar_peaks_bølgelængder[0])\n",
    "print(np.linspace(0,np.max(Ar_intensitet),len(Ar_intensitet)))"
   ]
  },
  {
   "cell_type": "code",
   "execution_count": null,
   "metadata": {},
   "outputs": [],
   "source": [
    "# Plotte et spektrum  hvor man merkere peaksne\n",
    "\n",
    "plt.figure(figsize=(9,6))\n",
    "plt.plot(Ar_bølgelængde, Ar_intensitet, label='Argon')\n",
    "plt.scatter(ar_peaks_bølgelængder, ar_peaks_intensitet, color='r') # plotter toppunkterne af peaksne som punkter\n",
    "plt.plot(np.ones(len(Ar_intensitet))*ar_peaks_bølgelængder[0], np.linspace(0,np.max(Ar_intensitet),len(Ar_intensitet)), '--g')\n",
    "# I linjen oven over plotter man en stiplet linje der hvor peaket er, denne linje tager specifikt første peak, hvi man \n",
    "# vil have nummer to skal man skifte [0] til [1]. Husk også at ændre array navnene hvis du vil anvende det på et andet\n",
    "# datasæt med et andet navn.\n",
    "\n",
    "plt.plot(np.ones(len(Ar_intensitet))*ar_peaks_bølgelængder[1], np.linspace(0,np.max(Ar_intensitet),len(Ar_intensitet)), '--g')\n",
    "plt.xlabel('Bølgelængde [nm]', fontsize=15)\n",
    "plt.ylabel('Intensitet [tælletal]', fontsize=15)\n",
    "plt.title('Lysspektrum fra Argon',  fontsize=20)\n",
    "plt.legend()"
   ]
  },
  {
   "cell_type": "code",
   "execution_count": null,
   "metadata": {},
   "outputs": [],
   "source": [
    "# Nu hvordan man plotter et absorbtions spektrum \n",
    "\n",
    "himmel_data = np.genfromtxt('Himmel.txt', delimiter='\t', skip_header=3).T\n",
    "\n",
    "himmel_bølgelængde = himmel_data[0]\n",
    "himmel_intensitet = himmel_data[1]\n",
    "\n",
    "\n",
    "plt.figure(figsize=(9,6))\n",
    "plt.plot(himmel_bølgelængde, himmel_intensitet, label='Himmel')\n",
    "plt.xlabel('Bølgelængde [nm]', fontsize=15)\n",
    "plt.ylabel('Intensitet [tælletal]', fontsize=15)\n",
    "plt.title('Arbsorbtionsspektrum fra himlen',  fontsize=20)\n",
    "plt.legend()"
   ]
  },
  {
   "cell_type": "code",
   "execution_count": null,
   "metadata": {},
   "outputs": [],
   "source": []
  },
  {
   "cell_type": "code",
   "execution_count": null,
   "metadata": {},
   "outputs": [],
   "source": []
  },
  {
   "cell_type": "code",
   "execution_count": null,
   "metadata": {},
   "outputs": [],
   "source": []
  }
 ],
 "metadata": {
  "kernelspec": {
   "display_name": "Python 3",
   "language": "python",
   "name": "python3"
  },
  "language_info": {
   "codemirror_mode": {
    "name": "ipython",
    "version": 3
   },
   "file_extension": ".py",
   "mimetype": "text/x-python",
   "name": "python",
   "nbconvert_exporter": "python",
   "pygments_lexer": "ipython3",
   "version": "3.8.5"
  }
 },
 "nbformat": 4,
 "nbformat_minor": 4
}
