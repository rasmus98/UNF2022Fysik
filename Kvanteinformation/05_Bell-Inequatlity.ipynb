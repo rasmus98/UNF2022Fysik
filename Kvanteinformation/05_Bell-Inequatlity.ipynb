{
 "cells": [
  {
   "cell_type": "markdown",
   "id": "1a1a922f-812a-49fe-8c7b-6a5a22faa49b",
   "metadata": {},
   "source": [
    "# Bell's inequality\n",
    "\n",
    "How can a measurement of one particle's spin affects another, even if they are far away from each other? Is it because the measurements of the two spins are predetermined - are we missing some hidden information given by a variable hidden from quantum mechanics? \n",
    "\n",
    "In this exercise we will perform a famous Bell experiment with two entangled spin $1/2$ particles. The results tells us whether there are variables hidden from quantum mechanics or not. \n",
    "\n",
    "**Learning goal:** to understand better the foundation of quantum mechanics and entanglement. "
   ]
  },
  {
   "cell_type": "markdown",
   "id": "2846bd9a-c89c-4199-b90c-405440cc0340",
   "metadata": {},
   "source": [
    "**Exercise 1 (warm-up):** what are the possible outcomes when we measure the $z$-component of the spin on a single spin 1/2 particle in the state?\n",
    "\\begin{equation}\n",
    "\\frac{1}{\\sqrt{2}}(|\\uparrow \\rangle - |\\downarrow \\rangle)\n",
    "\\end{equation}\n",
    "\n",
    "\n",
    "\n",
    "**Background:** In 1964, John Stewart Bell proposed the famous <b>Bell's inequality</b>, showing that **any theory of hidden variables is incompatible with results of quantum experiments**. \n",
    "\n",
    "\n",
    "**The setup:** We consider a spin 0 particle (a $\\pi^0$) decaying into two spin 1/2 particles (two electrons) in the state\n",
    "\n",
    "\\begin{equation}\n",
    "|\\psi_-\\rangle = \\frac{1}{\\sqrt{2}}\\big(|\\uparrow\\downarrow\\rangle-| \\downarrow\\uparrow\\rangle\\big) \\ .\n",
    "\\end{equation}\n",
    "\n",
    "For this to be possible the state of the two electrons must also be a spin 0 state (since spin is conserved).\n",
    "\n",
    "**Exercise 2:** Check that the state of the two electrons is indeed a spin zero state. See e.g. section 4.4.3. of Griffiths and Schroeter.\n",
    "\n",
    "\n",
    "We now measure the spin of one electron along a chosen axis $\\mathbf{a}$ (it could be the $z$-axis, $S_z$) and the spin of the other electron along some other axis $\\mathbf{b}$ (it could be, say, the $x$-axis $S_x$).\n",
    "\n",
    "We repeat the experiment multiple times and record the results in units of $\\hbar/2$ (hence we always get +1 or -1). We consider the product to the two results, f.ex. $1\\cdot(-1)=-1$, and dub the **average product of the two results** $P(\\mathbf{a},\\mathbf{b})$. Next we change the orientation of the measurement devices and repeat this experiment with axies $\\mathbf{a}$ and $\\mathbf{c}$ (the average of the products will be $P(\\mathbf{a},\\mathbf{c})$), as well as with $\\mathbf{b}$ and $\\mathbf{c}$ (giving us $P(\\mathbf{b},\\mathbf{c})$). Bell proved exclusively from statistics that **any theory with hidden variables will predict the inequality**\n",
    "\n",
    "$$|P(\\mathbf{a},\\mathbf{b})-P(\\mathbf{a},\\mathbf{c})| \\leq 1 + P (\\mathbf{b},\\mathbf{c})$$\n",
    "\n",
    "This is <b>Bell's inequality</b>. We will perform the exact experiments described above, and verify using an *actual* quantum computer that the experimental result violates Bell's inequality!\n",
    "\n",
    "**Exercise 3:** What does it imply if Bell's inequality is violated in experiments?\n",
    "\n",
    "**Confused?** Chapter 12 in Griffiths and Schroeter gives a more elaborate explanation. \n",
    "\n",
    "We start by importing the necessary packages for these experiments."
   ]
  },
  {
   "cell_type": "code",
   "execution_count": null,
   "id": "6150aefd-08a4-4b38-a0cb-6a27f44b01d6",
   "metadata": {},
   "outputs": [],
   "source": [
    "import numpy as np\n",
    "import matplotlib.pyplot as plt\n",
    "# Importing standard Qiskit libraries\n",
    "from qiskit.providers.ibmq import least_busy\n",
    "from qiskit import QuantumCircuit, transpile, Aer, IBMQ, assemble\n",
    "\n",
    "from qiskit.tools.jupyter import *\n",
    "from qiskit.visualization import *\n",
    "from ibm_quantum_widgets import *\n",
    "\n",
    "# Loading your IBM Q account(s)\n",
    "#provider = IBMQ.load_account()"
   ]
  },
  {
   "cell_type": "markdown",
   "id": "9aa1758d-9970-475d-9bc3-a2f38a6bfd67",
   "metadata": {},
   "source": [
    "**Our-setup:** We will choose $\\mathbf{a}$, $\\mathbf{b}$ and $\\mathbf{c}$ all to be in the same plane. Hence we can define their orientation from their angle, $\\theta_i$, with the $z$-axis. Let's choose $\\mathbf{a}=\\mathbf{z}$ be fixed, after all it is only the relative angles between the different measurement devices that matters. In other words we have chosen $\\theta_A = 0$. \n",
    "\n",
    "For our experiments we choose the angles between the vectors $\\mathbf{a}$, $\\mathbf{b}$ and $\\mathbf{c}$ to be "
   ]
  },
  {
   "cell_type": "code",
   "execution_count": null,
   "id": "256d1047-bf62-4a04-8d66-c1fab4939252",
   "metadata": {},
   "outputs": [],
   "source": [
    "thetaA = 0.0\n",
    "thetaB = np.pi/2\n",
    "thetaC = np.pi/4"
   ]
  },
  {
   "cell_type": "markdown",
   "id": "8e128b53-da6b-4571-bbdb-ed4f4ef14ae6",
   "metadata": {},
   "source": [
    "Feel free to change angles as you please, but be beware that **not all choises of angles between the vectors will lead to experiments that violate Bell's inequality**. \n",
    "\n",
    "To see this: \n",
    "\n",
    "**Exercise 4:** Show that for $\\mathbf{b} = \\mathbf{c}$ Bell's inequality is nessesarely satisfied. "
   ]
  },
  {
   "cell_type": "markdown",
   "id": "1c01d888-40b1-4f7c-9911-6d610c57a170",
   "metadata": {},
   "source": [
    "We now set up the experiment for measuring $P(\\mathbf{a},\\mathbf{b})$."
   ]
  },
  {
   "cell_type": "code",
   "execution_count": null,
   "id": "781f1869",
   "metadata": {},
   "outputs": [],
   "source": [
    "circAB = QuantumCircuit(2,2)\n",
    "circAB.h(0)\n",
    "circAB.cx(0,1)\n",
    "circAB.z(1)\n",
    "circAB.x(1)\n",
    "circAB.barrier()\n",
    "theta1 = thetaA\n",
    "circAB.ry(theta1,0)\n",
    "circAB.ry(theta1,1)\n",
    "circAB.barrier() # just a vertical line which seperates where we set up the state and where we measure. \n",
    "circAB.measure(0,0)\n",
    "circAB.barrier() \n",
    "theta2 = thetaB-thetaA \n",
    "circAB.ry(theta2,0)\n",
    "circAB.ry(theta2,1)\n",
    "circAB.barrier() \n",
    "circAB.measure(1,1)\n",
    "circAB.draw()"
   ]
  },
  {
   "cell_type": "markdown",
   "id": "402ccce5-8186-475b-aa0d-359951098ef9",
   "metadata": {},
   "source": [
    "**Don't miss:**  We rotate both $q_0$ and $q_1$ and not just one of them.\n",
    "\n",
    "The code below sends this circuit to an actual IBM-Q Quantum Computer, and runs it 1024 times - there might be others using the quantum computers, so you might have to wait in line to get access. \n",
    "\n",
    "The variable 'sim' can be togled True or False. If you want to run a simulation of the code on an ordinary computer choose 'sim = True' and to run the experiment on an actual quantum computer set 'sim = False'."
   ]
  },
  {
   "cell_type": "code",
   "execution_count": null,
   "id": "7d6258af-63d2-402c-ac83-168e20fe577a",
   "metadata": {},
   "outputs": [],
   "source": [
    "sim = True #Set this to False if you want to run on an actual quantum computer"
   ]
  },
  {
   "cell_type": "code",
   "execution_count": null,
   "id": "a2482310-7ce5-4c37-ad4c-ae9d8ba59101",
   "metadata": {},
   "outputs": [],
   "source": [
    "if sim:\n",
    "    simulator = Aer.get_backend('aer_simulator')\n",
    "    Nmeasure = 1024\n",
    "    resultAB = simulator.run(circAB, shots=Nmeasure).result()\n",
    "    device_countsAB = resultAB.get_counts()\n",
    "    #Simulation code\n",
    "else:\n",
    "# Load our saved IBMQ accounts and get the least busy backend device with less than or equal to 5 qubits\n",
    "    n=3\n",
    "    IBMQ.load_account()\n",
    "    provider = IBMQ.get_provider(hub='ibm-q')\n",
    "    backend = least_busy(provider.backends(filters=lambda x: x.configuration().n_qubits >= n and \n",
    "                                       not x.configuration().simulator and x.status().operational==True))\n",
    "    print(\"least busy backend: \", backend)\n",
    "\n",
    "# Execute and monitor the job\n",
    "    from qiskit.tools.monitor import job_monitor\n",
    "    shots = 1024\n",
    "    transpiled_circ = transpile(circAB, backend, optimization_level=3)\n",
    "    qobj = assemble(transpiled_circ, shots=shots)\n",
    "    jobAB = backend.run(qobj)\n",
    "    job_monitor(jobAB, interval=2)\n",
    "    device_countsAB = jobAB.result().get_counts()\n",
    "\n",
    "device_countsAB[r\"$1_1, 1_0$\"] = device_countsAB.pop(\"11\")\n",
    "device_countsAB[r\"$1_1, -1_0$\"] = device_countsAB.pop(\"10\")\n",
    "device_countsAB[r\"$-1_1, 1_0$\"] = device_countsAB.pop(\"01\")\n",
    "device_countsAB[r\"$-1_1, -1_0$\"] = device_countsAB.pop(\"00\")"
   ]
  },
  {
   "cell_type": "code",
   "execution_count": null,
   "id": "34a88e16-fd5f-406e-96a1-7d68d53ae536",
   "metadata": {},
   "outputs": [],
   "source": [
    "plot_histogram(device_countsAB)"
   ]
  },
  {
   "cell_type": "code",
   "execution_count": null,
   "id": "838963f8-ab87-4e0d-b496-96a62161423e",
   "metadata": {},
   "outputs": [],
   "source": [
    "device_countsAB"
   ]
  },
  {
   "cell_type": "markdown",
   "id": "bf60b504-7dca-4cf7-a5ac-ce830147c509",
   "metadata": {},
   "source": [
    "**How to read the results:** The measurement, say $-1_1, 1_0$, implies that we measured $1$ (ie. $\\hbar/2$) for the spin of particle 0 along $\\mathbf{a}$, while we measrued $-1$ (ie. $-\\hbar/2$) for the spin of particle 1 along $\\mathbf{b}$. Hence $P(\\mathbf{a},\\mathbf{b}) = (-1)\\cdot1= -1$ for such a measurement. We find the average value of $P(\\mathbf{a},\\mathbf{b})$ by taking a weighted average over many repeated experiments. "
   ]
  },
  {
   "cell_type": "markdown",
   "id": "23c4a726-5a50-4cda-9cc3-abc2460dc792",
   "metadata": {},
   "source": [
    "**Exercise 5:** Determine the average value $P(\\mathbf{a},\\mathbf{b})$ of the product from the experiment above. Compare to the prediction from qauntum mechanics $P(\\mathbf{a},\\mathbf{b}) = -\\mathbf{a}\\cdot \\mathbf{b} = -\\cos(\\theta_A - \\theta_B)$. (See eg. problem 4.59 in Griffiths and Schroeter.)"
   ]
  },
  {
   "cell_type": "markdown",
   "id": "46e91672-8c16-46f4-ac8b-afc60bc799b1",
   "metadata": {},
   "source": [
    "We now repeat the exact same steps in order to get the experimental value for $P(\\mathbf{b},\\mathbf{c})$."
   ]
  },
  {
   "cell_type": "code",
   "execution_count": null,
   "id": "af981e49-db6e-44ec-b65c-f556246bbb3b",
   "metadata": {},
   "outputs": [],
   "source": [
    "circCB = QuantumCircuit(2,2)\n",
    "circCB.h(0)\n",
    "circCB.cx(0,1)\n",
    "circCB.z(1)\n",
    "circCB.x(1)\n",
    "circCB.barrier()\n",
    "theta1 = thetaC\n",
    "circCB.ry(theta1,0)\n",
    "circCB.ry(theta1,1)\n",
    "circCB.barrier() # just a vertical line which seperates where we set up the state and where we measure. \n",
    "circCB.measure(0,0)\n",
    "circCB.barrier() \n",
    "theta2 = thetaB-thetaC\n",
    "circCB.ry(theta2,0)\n",
    "circCB.ry(theta2,1)\n",
    "circCB.barrier() \n",
    "circCB.measure(1,1)\n",
    "circCB.draw()"
   ]
  },
  {
   "cell_type": "code",
   "execution_count": null,
   "id": "e06a4282-7be7-4ba1-b48a-f01ce79b0686",
   "metadata": {},
   "outputs": [],
   "source": [
    "if sim:\n",
    "    simulator = Aer.get_backend('aer_simulator')\n",
    "    Nmeasure = 1024\n",
    "    resultCB = simulator.run(circCB, shots=Nmeasure).result()\n",
    "    device_countsCB = resultCB.get_counts()\n",
    "    #Simulation code\n",
    "else:\n",
    "# Load our saved IBMQ accounts and get the least busy backend device with less than or equal to 5 qubits\n",
    "    n=3\n",
    "    IBMQ.load_account()\n",
    "    provider = IBMQ.get_provider(hub='ibm-q')\n",
    "    backend = least_busy(provider.backends(filters=lambda x: x.configuration().n_qubits >= n and \n",
    "                                       not x.configuration().simulator and x.status().operational==True))\n",
    "    print(\"least busy backend: \", backend)\n",
    "\n",
    "# Execute and monitor the job\n",
    "    from qiskit.tools.monitor import job_monitor\n",
    "    shots = 1024\n",
    "    transpiled_circ = transpile(circCB, backend, optimization_level=3)\n",
    "    qobj = assemble(transpiled_circ, shots=shots)\n",
    "    jobCB = backend.run(qobj)\n",
    "    job_monitor(jobCB, interval=2)\n",
    "    device_countsCB = jobCB.result().get_counts()\n",
    "    \n",
    "device_countsCB[r\"$1_1, 1_0$\"] = device_countsCB.pop(\"11\")\n",
    "device_countsCB[r\"$1_1, -1_0$\"] = device_countsCB.pop(\"10\")\n",
    "device_countsCB[r\"$-1_1, 1_0$\"] = device_countsCB.pop(\"01\")\n",
    "device_countsCB[r\"$-1_1, -1_0$\"] = device_countsCB.pop(\"00\")"
   ]
  },
  {
   "cell_type": "code",
   "execution_count": null,
   "id": "f1090ca6-0a5b-4f5b-8202-c3a53d1cca21",
   "metadata": {},
   "outputs": [],
   "source": [
    "plot_histogram(device_countsCB)"
   ]
  },
  {
   "cell_type": "code",
   "execution_count": null,
   "id": "bed42b02-dd74-4089-a013-7717114ed372",
   "metadata": {},
   "outputs": [],
   "source": [
    "device_countsCB"
   ]
  },
  {
   "cell_type": "markdown",
   "id": "5b1ef9ce-3017-42cf-ae43-9e41b7ca4dea",
   "metadata": {},
   "source": [
    "**Exercise 6:** Compute our experimental value for $P(\\mathbf{b},\\mathbf{c})$ from these results. Check that our experimental result is compatible with the prediction from quantum mechanics (see Exercise 5)."
   ]
  },
  {
   "cell_type": "markdown",
   "id": "84b682e9-9c50-46e6-87fe-6dc58921170e",
   "metadata": {},
   "source": [
    "Finally let's determine the experimental value for $P(\\mathbf{a},\\mathbf{c})$!"
   ]
  },
  {
   "cell_type": "code",
   "execution_count": null,
   "id": "e2bdb0c5-b407-4b4d-b162-dd0bcde610af",
   "metadata": {},
   "outputs": [],
   "source": [
    "circAC = QuantumCircuit(2,2)\n",
    "circAC.h(0)\n",
    "circAC.cx(0,1)\n",
    "circAC.z(1)\n",
    "circAC.x(1)\n",
    "circAC.barrier()\n",
    "theta1 = thetaA\n",
    "circAC.ry(theta1,0)\n",
    "circAC.ry(theta1,1)\n",
    "circAC.barrier() # just a vertical line which seperates where we set up the state and where we measure. \n",
    "circAC.measure(0,0)\n",
    "circAC.barrier() \n",
    "theta2 = thetaC-thetaA\n",
    "circAC.ry(theta2,0)\n",
    "circAC.ry(theta2,1)\n",
    "circAC.barrier() \n",
    "circAC.measure(1,1)\n",
    "circAC.draw()"
   ]
  },
  {
   "cell_type": "code",
   "execution_count": null,
   "id": "a46ce6a5-9f6c-4276-99be-dfd776fdc8d2",
   "metadata": {},
   "outputs": [],
   "source": [
    "if sim:\n",
    "    simulator = Aer.get_backend('aer_simulator')\n",
    "    Nmeasure = 1024\n",
    "    resultAC = simulator.run(circAC, shots=Nmeasure).result()\n",
    "    device_countsAC = resultAC.get_counts()\n",
    "    #Simulation code\n",
    "else:\n",
    "# Load our saved IBMQ accounts and get the least busy backend device with less than or equal to 5 qubits\n",
    "    n=3\n",
    "    IBMQ.load_account()\n",
    "    provider = IBMQ.get_provider(hub='ibm-q')\n",
    "    backend = least_busy(provider.backends(filters=lambda x: x.configuration().n_qubits >= n and \n",
    "                                       not x.configuration().simulator and x.status().operational==True))\n",
    "    print(\"least busy backend: \", backend)\n",
    "\n",
    "# Execute and monitor the job\n",
    "    from qiskit.tools.monitor import job_monitor\n",
    "    shots = 1024\n",
    "    transpiled_circ = transpile(circAC, backend, optimization_level=3)\n",
    "    qobj = assemble(transpiled_circ, shots=shots)\n",
    "    jobAC = backend.run(qobj)\n",
    "    job_monitor(jobAC, interval=2)\n",
    "    device_countsAC = jobAC.result().get_counts()\n",
    "    \n",
    "device_countsAC[r\"$1_1, 1_0$\"] = device_countsAC.pop(\"11\")\n",
    "device_countsAC[r\"$1_1, -1_0$\"] = device_countsAC.pop(\"10\")\n",
    "device_countsAC[r\"$-1_1, 1_0$\"] = device_countsAC.pop(\"01\")\n",
    "device_countsAC[r\"$-1_1, -1_0$\"] = device_countsAC.pop(\"00\")"
   ]
  },
  {
   "cell_type": "code",
   "execution_count": null,
   "id": "2926d674-e43e-4b63-8d09-81585e1149c4",
   "metadata": {},
   "outputs": [],
   "source": [
    "plot_histogram(device_countsAC)"
   ]
  },
  {
   "cell_type": "code",
   "execution_count": null,
   "id": "f2ffa399-9927-4658-b47d-a3dd733faf4f",
   "metadata": {
    "tags": []
   },
   "outputs": [],
   "source": [
    "device_countsAC"
   ]
  },
  {
   "cell_type": "markdown",
   "id": "072c30b7-e222-422a-aa91-d43ec8b91eec",
   "metadata": {},
   "source": [
    "**Exercise 7:** Compute $P(\\mathbf{a},\\mathbf{c})$ from these results.\n",
    "\n",
    "**Exercise 8:** Plug your results from Exercise 5-7 into Bell's inequality and check if it is violated.  \n",
    "\n",
    "You can compare your results to the ones determined by the code below."
   ]
  },
  {
   "cell_type": "code",
   "execution_count": null,
   "id": "6545020b-0e84-497d-83ae-2db0e74c61e2",
   "metadata": {},
   "outputs": [],
   "source": [
    "def product_av(experiment):\n",
    "    prod = experiment['$1_1, 1_0$'] + experiment['$-1_1, -1_0$'] - experiment['$-1_1, 1_0$'] - experiment['$1_1, -1_0$']\n",
    "    if sim:\n",
    "        return prod/Nmeasure\n",
    "    else:\n",
    "        return prod/shots"
   ]
  },
  {
   "cell_type": "code",
   "execution_count": null,
   "id": "60e53c24-b5ba-4767-bad2-a8448989063e",
   "metadata": {},
   "outputs": [],
   "source": [
    "print(\"Experimental results for Bell inequality: \",np.abs(product_av(device_countsAB)-product_av(device_countsAC)),\"<\",1+product_av(device_countsCB))"
   ]
  },
  {
   "cell_type": "markdown",
   "id": "17531ec4-581b-458d-bf08-de51335be60c",
   "metadata": {},
   "source": [
    "**Truly remakable!** We have verified through a real quantum experiment that Bell's inequality is violated - as a consequence, we have shown that the results of quantum experiments are incompatible with any theory of hidden variables. "
   ]
  },
  {
   "cell_type": "markdown",
   "id": "3a596b7c-9e37-4da6-b47a-246671454ddb",
   "metadata": {},
   "source": [
    "**Is Bell's inequality violated for all angles?** The plot below shows which angles between $\\mathbf{a}$ and $\\mathbf{c}$ violate Bell's inequality, assuming that $\\mathbf{a}$ and $\\mathbf{b}$ are orthogonal and all vectors are coplanar."
   ]
  },
  {
   "cell_type": "code",
   "execution_count": null,
   "id": "6666d79b-7bfc-4438-be0c-5b496716f76e",
   "metadata": {},
   "outputs": [],
   "source": [
    "N = 1000\n",
    "\n",
    "thetaB = np.pi/2\n",
    "thetaC_arr = np.linspace(-1,1,N)*np.pi\n",
    "\n",
    "shade_top = 2*np.ones(N)\n",
    "shade_bottom = -0.5*shade_top\n",
    "\n",
    "lhs = np.abs(-np.cos(-1*thetaB) + np.cos(-1*thetaC_arr))\n",
    "rhs = 1 - np.cos(thetaB - thetaC_arr)\n",
    "\n",
    "violation = lhs > rhs\n",
    "\n",
    "plt.figure(facecolor = 'white')\n",
    "plt.plot(thetaC_arr, lhs, label = r\"|P(a,b) - P(b,c)|\")\n",
    "plt.plot(thetaC_arr, rhs, label = \"1 + P(b,c)\")\n",
    "plt.xlabel(\"thetaC [rad]\")\n",
    "plt.legend(loc = 'lower left')\n",
    "plt.fill_between(thetaC_arr[violation],shade_top[violation], y2=shade_bottom[violation], alpha=0.3, color = 'green')\n",
    "plt.text(0.05,-0.5,\"Violation region\", size = 9)\n",
    "plt.title(\"Bell's inequality\")\n",
    "plt.savefig(\"Bell.png\")"
   ]
  },
  {
   "cell_type": "markdown",
   "id": "a212a4ba-1892-41df-96cb-6d1a9de2f9e8",
   "metadata": {},
   "source": [
    "Feel free to change the angles at the top of the exercises to test if this is true! \n"
   ]
  }
 ],
 "metadata": {
  "kernelspec": {
   "display_name": "Python 3 (ipykernel)",
   "language": "python",
   "name": "python3"
  },
  "language_info": {
   "codemirror_mode": {
    "name": "ipython",
    "version": 3
   },
   "file_extension": ".py",
   "mimetype": "text/x-python",
   "name": "python",
   "nbconvert_exporter": "python",
   "pygments_lexer": "ipython3",
   "version": "3.7.13"
  },
  "widgets": {
   "application/vnd.jupyter.widget-state+json": {
    "state": {
     "00b53fd9e3a34809a0251efd47aa9c9a": {
      "model_module": "@jupyter-widgets/controls",
      "model_module_version": "1.5.0",
      "model_name": "ButtonModel",
      "state": {
       "button_style": "primary",
       "description": "Clear",
       "layout": "IPY_MODEL_cb55082edc81454698102d1fc67ad4d5",
       "style": "IPY_MODEL_8390b5e97da64de3815a6fb6857e0edf"
      }
     },
     "084e251f965141cdaef5860ace890114": {
      "model_module": "@jupyter-widgets/controls",
      "model_module_version": "1.5.0",
      "model_name": "HTMLModel",
      "state": {
       "layout": "IPY_MODEL_2000c9b483054de58c8c282da90564f9",
       "style": "IPY_MODEL_8fb15bab63b247ee9a5394cf6182ea2f",
       "value": "6236f948e32b423bc0ecc60b"
      }
     },
     "085825b4fbc74f8aa2a860c27ee8d337": {
      "model_module": "@jupyter-widgets/base",
      "model_module_version": "1.2.0",
      "model_name": "LayoutModel",
      "state": {
       "margin": "0px 5px 0px 0px",
       "width": "32px"
      }
     },
     "148e8456542b438c89f6ca0b0458177f": {
      "model_module": "@jupyter-widgets/controls",
      "model_module_version": "1.5.0",
      "model_name": "HTMLModel",
      "state": {
       "layout": "IPY_MODEL_b9e5e62172654147b17ba36c0e942cfb",
       "style": "IPY_MODEL_6582d730638d433a8fe7592befb3f534",
       "value": "job has successfully run"
      }
     },
     "15877e81103d4f1b876034018826445c": {
      "model_module": "@jupyter-widgets/base",
      "model_module_version": "1.2.0",
      "model_name": "LayoutModel",
      "state": {
       "width": "95px"
      }
     },
     "1804edba41ac4e739c59e72b84c4218c": {
      "model_module": "@jupyter-widgets/base",
      "model_module_version": "1.2.0",
      "model_name": "LayoutModel",
      "state": {
       "max_width": "700px",
       "min_width": "700px"
      }
     },
     "19fcd4afaa6840f394f6712481cc0a95": {
      "model_module": "@jupyter-widgets/controls",
      "model_module_version": "1.5.0",
      "model_name": "DescriptionStyleModel",
      "state": {
       "description_width": ""
      }
     },
     "2000c9b483054de58c8c282da90564f9": {
      "model_module": "@jupyter-widgets/base",
      "model_module_version": "1.2.0",
      "model_name": "LayoutModel",
      "state": {
       "width": "190px"
      }
     },
     "20040e2d84444ec194de27f84819b50a": {
      "model_module": "@jupyter-widgets/base",
      "model_module_version": "1.2.0",
      "model_name": "LayoutModel",
      "state": {
       "width": "190px"
      }
     },
     "24078f3fb10b45ce921425a827dee97b": {
      "model_module": "@jupyter-widgets/controls",
      "model_module_version": "1.5.0",
      "model_name": "HBoxModel",
      "state": {
       "children": [
        "IPY_MODEL_ef31ce4d922748469f3216baf5ab727b",
        "IPY_MODEL_500083cd335a4c2cbb0ba47e12811f70",
        "IPY_MODEL_5069bd0d0ea84172b0dd63885f83544b",
        "IPY_MODEL_aa5635c7e62b416fbd6e5c84ff7c69a9",
        "IPY_MODEL_92733f1720cb431faae4455fe624a747"
       ],
       "layout": "IPY_MODEL_a20d7d357998477f87d4d7635a221cd7"
      }
     },
     "2d766f5a4d8e4fe28ce38f5c3091d951": {
      "model_module": "@jupyter-widgets/controls",
      "model_module_version": "1.5.0",
      "model_name": "DescriptionStyleModel",
      "state": {
       "description_width": ""
      }
     },
     "338ba0045cd0426cbd4ae989a12115af": {
      "model_module": "@jupyter-widgets/base",
      "model_module_version": "1.2.0",
      "model_name": "LayoutModel",
      "state": {
       "width": "190px"
      }
     },
     "36c178c6b8174ddaaf0a3a3c8afe6ec2": {
      "model_module": "@jupyter-widgets/controls",
      "model_module_version": "1.5.0",
      "model_name": "HTMLModel",
      "state": {
       "layout": "IPY_MODEL_6e735302ffa84c0fb503764db4ae2c2d",
       "style": "IPY_MODEL_440e91c9951e4de7ad9e1c1a0500aa33",
       "value": "6236f971ecc4134f8cb70504"
      }
     },
     "3b74d52f07604d7c9af69fa0ed9a5c68": {
      "model_module": "@jupyter-widgets/base",
      "model_module_version": "1.2.0",
      "model_name": "LayoutModel",
      "state": {
       "width": "145px"
      }
     },
     "3bca8dc1b8bc48d685fe7d7ce2eaf67c": {
      "model_module": "@jupyter-widgets/controls",
      "model_module_version": "1.5.0",
      "model_name": "DescriptionStyleModel",
      "state": {
       "description_width": ""
      }
     },
     "440e91c9951e4de7ad9e1c1a0500aa33": {
      "model_module": "@jupyter-widgets/controls",
      "model_module_version": "1.5.0",
      "model_name": "DescriptionStyleModel",
      "state": {
       "description_width": ""
      }
     },
     "471fce65f6ae45089762717244f0306a": {
      "model_module": "@jupyter-widgets/controls",
      "model_module_version": "1.5.0",
      "model_name": "DescriptionStyleModel",
      "state": {
       "description_width": ""
      }
     },
     "4a5fee9ee4f543aca92acd93ac8646f6": {
      "model_module": "@jupyter-widgets/controls",
      "model_module_version": "1.5.0",
      "model_name": "DescriptionStyleModel",
      "state": {
       "description_width": ""
      }
     },
     "4aaee61a0a444173af53b43e0e6defbd": {
      "model_module": "@jupyter-widgets/base",
      "model_module_version": "1.2.0",
      "model_name": "LayoutModel",
      "state": {
       "width": "95px"
      }
     },
     "4dc6ac616f6445ec875440c0c55a027e": {
      "model_module": "@jupyter-widgets/base",
      "model_module_version": "1.2.0",
      "model_name": "LayoutModel",
      "state": {
       "width": "70px"
      }
     },
     "500083cd335a4c2cbb0ba47e12811f70": {
      "model_module": "@jupyter-widgets/controls",
      "model_module_version": "1.5.0",
      "model_name": "HTMLModel",
      "state": {
       "layout": "IPY_MODEL_87b3db3da6704da5bd82985865e45247",
       "style": "IPY_MODEL_a22616380f8b483f90e3afb1149e4866",
       "value": "<h5>Backend</h5>"
      }
     },
     "5069bd0d0ea84172b0dd63885f83544b": {
      "model_module": "@jupyter-widgets/controls",
      "model_module_version": "1.5.0",
      "model_name": "HTMLModel",
      "state": {
       "layout": "IPY_MODEL_15877e81103d4f1b876034018826445c",
       "style": "IPY_MODEL_4a5fee9ee4f543aca92acd93ac8646f6",
       "value": "<h5>Status</h5>"
      }
     },
     "516b01ad602e4285a6b3f850ab0b884e": {
      "model_module": "@jupyter-widgets/controls",
      "model_module_version": "1.5.0",
      "model_name": "HTMLModel",
      "state": {
       "layout": "IPY_MODEL_3b74d52f07604d7c9af69fa0ed9a5c68",
       "style": "IPY_MODEL_d127559b17844c8ab6348152895648ed",
       "value": "ibmq_santiago"
      }
     },
     "51964683c7014bd7a70d3eca9beeb5a1": {
      "model_module": "@jupyter-widgets/controls",
      "model_module_version": "1.5.0",
      "model_name": "HTMLModel",
      "state": {
       "layout": "IPY_MODEL_9929d09e0d874f5c8ed350f6ce72e849",
       "style": "IPY_MODEL_471fce65f6ae45089762717244f0306a",
       "value": "ibmq_lima"
      }
     },
     "54120b4b1af942f9a4b1d46612cb903e": {
      "model_module": "@jupyter-widgets/controls",
      "model_module_version": "1.5.0",
      "model_name": "DescriptionStyleModel",
      "state": {
       "description_width": ""
      }
     },
     "55aa3c65aadb4cda91d3e4c39b6aa6f8": {
      "model_module": "@jupyter-widgets/controls",
      "model_module_version": "1.5.0",
      "model_name": "DescriptionStyleModel",
      "state": {
       "description_width": ""
      }
     },
     "562c10b14a6141ab80788a156431ce75": {
      "model_module": "@jupyter-widgets/controls",
      "model_module_version": "1.5.0",
      "model_name": "DescriptionStyleModel",
      "state": {
       "description_width": ""
      }
     },
     "57c55118d4ac40f0bcdb8b6d3319ca04": {
      "model_module": "@jupyter-widgets/controls",
      "model_module_version": "1.5.0",
      "model_name": "HTMLModel",
      "state": {
       "layout": "IPY_MODEL_8c6257b3c3dd4434a8a9466ab22b6fdb",
       "style": "IPY_MODEL_2d766f5a4d8e4fe28ce38f5c3091d951",
       "value": "<p style='font-family: IBM Plex Sans, Arial, Helvetica, sans-serif; font-size: 20px; font-weight: medium;'>Circuit Properties</p>"
      }
     },
     "5d35f4f46589459085c5a62d52910e3a": {
      "model_module": "@jupyter-widgets/controls",
      "model_module_version": "1.5.0",
      "model_name": "HBoxModel",
      "state": {
       "children": [
        "IPY_MODEL_953e7e66065e4af7b61dfdc797267f5e",
        "IPY_MODEL_dc60929169bc4299ba870b872c4bd4c3",
        "IPY_MODEL_51964683c7014bd7a70d3eca9beeb5a1",
        "IPY_MODEL_89300a89cf854552b9ed0970e7b43ec6",
        "IPY_MODEL_7313ce62c3d54c86b4825c87ec725065",
        "IPY_MODEL_a7e556c8e3014971b795ce958958f0cb"
       ],
       "layout": "IPY_MODEL_c8eb3fc02e444d9c9372f23b178022cc"
      }
     },
     "6486c2978e8341aa99f691ba6f31ea92": {
      "model_module": "@jupyter-widgets/controls",
      "model_module_version": "1.5.0",
      "model_name": "ButtonStyleModel",
      "state": {
       "button_color": "white"
      }
     },
     "6582d730638d433a8fe7592befb3f534": {
      "model_module": "@jupyter-widgets/controls",
      "model_module_version": "1.5.0",
      "model_name": "DescriptionStyleModel",
      "state": {
       "description_width": ""
      }
     },
     "69297071db3d474eb5d3e0fb761d43a8": {
      "model_module": "@jupyter-widgets/base",
      "model_module_version": "1.2.0",
      "model_name": "LayoutModel",
      "state": {
       "overflow_x": "scroll"
      }
     },
     "6e735302ffa84c0fb503764db4ae2c2d": {
      "model_module": "@jupyter-widgets/base",
      "model_module_version": "1.2.0",
      "model_name": "LayoutModel",
      "state": {
       "width": "190px"
      }
     },
     "70012b7c67f64491b0e248a5d3bfb685": {
      "model_module": "@jupyter-widgets/controls",
      "model_module_version": "1.5.0",
      "model_name": "ButtonModel",
      "state": {
       "icon": "close",
       "layout": "IPY_MODEL_cef9db02bca441b2886de3ebbcf36d84",
       "style": "IPY_MODEL_6486c2978e8341aa99f691ba6f31ea92"
      }
     },
     "7313ce62c3d54c86b4825c87ec725065": {
      "model_module": "@jupyter-widgets/controls",
      "model_module_version": "1.5.0",
      "model_name": "HTMLModel",
      "state": {
       "layout": "IPY_MODEL_a375ea31afba4dabb167fdd149f66bb5",
       "style": "IPY_MODEL_b59c31e33ec5460b90af34d5cc310dac",
       "value": "-"
      }
     },
     "7af728b7e49f439bbbf50a82ac6eea14": {
      "model_module": "@jupyter-widgets/controls",
      "model_module_version": "1.5.0",
      "model_name": "DescriptionStyleModel",
      "state": {
       "description_width": ""
      }
     },
     "7fd94a09eecb4d0088660072efaf2c84": {
      "model_module": "@jupyter-widgets/controls",
      "model_module_version": "1.5.0",
      "model_name": "DescriptionStyleModel",
      "state": {
       "description_width": ""
      }
     },
     "8390b5e97da64de3815a6fb6857e0edf": {
      "model_module": "@jupyter-widgets/controls",
      "model_module_version": "1.5.0",
      "model_name": "ButtonStyleModel",
      "state": {}
     },
     "85fd30402d204884b3b3268e56d19d83": {
      "model_module": "@jupyter-widgets/controls",
      "model_module_version": "1.5.0",
      "model_name": "HTMLModel",
      "state": {
       "layout": "IPY_MODEL_d7541f884ec7432793ee6cb74cb4fd67",
       "style": "IPY_MODEL_a8d5763a58da4963976f8d47c99adc55",
       "value": "ibmq_lima"
      }
     },
     "878430b4924544659c55de3f08297e98": {
      "model_module": "@jupyter-widgets/base",
      "model_module_version": "1.2.0",
      "model_name": "LayoutModel",
      "state": {
       "overflow_x": "scroll"
      }
     },
     "87b3db3da6704da5bd82985865e45247": {
      "model_module": "@jupyter-widgets/base",
      "model_module_version": "1.2.0",
      "model_name": "LayoutModel",
      "state": {
       "width": "145px"
      }
     },
     "87ee2a9a8c3a490da6deeaf82c193bdf": {
      "model_module": "@jupyter-widgets/controls",
      "model_module_version": "1.5.0",
      "model_name": "HTMLModel",
      "state": {
       "layout": "IPY_MODEL_4dc6ac616f6445ec875440c0c55a027e",
       "style": "IPY_MODEL_e52e6a1ff96845c1841d016970073089",
       "value": "-"
      }
     },
     "89300a89cf854552b9ed0970e7b43ec6": {
      "model_module": "@jupyter-widgets/controls",
      "model_module_version": "1.5.0",
      "model_name": "HTMLModel",
      "state": {
       "layout": "IPY_MODEL_96850753e5dd44bb893161ea9fa7564a",
       "style": "IPY_MODEL_d021ae8cd807448793c4330da07010a2",
       "value": "<font style='color:#34BC6E'>DONE</font>"
      }
     },
     "8b571ab3a7c34461897050ffafcc7ad4": {
      "model_module": "@jupyter-widgets/base",
      "model_module_version": "1.2.0",
      "model_name": "LayoutModel",
      "state": {
       "margin": "0px 5px 0px 0px",
       "width": "32px"
      }
     },
     "8c6257b3c3dd4434a8a9466ab22b6fdb": {
      "model_module": "@jupyter-widgets/base",
      "model_module_version": "1.2.0",
      "model_name": "LayoutModel",
      "state": {
       "margin": "0px 0px 10px 0px"
      }
     },
     "8fb15bab63b247ee9a5394cf6182ea2f": {
      "model_module": "@jupyter-widgets/controls",
      "model_module_version": "1.5.0",
      "model_name": "DescriptionStyleModel",
      "state": {
       "description_width": ""
      }
     },
     "92733f1720cb431faae4455fe624a747": {
      "model_module": "@jupyter-widgets/controls",
      "model_module_version": "1.5.0",
      "model_name": "HTMLModel",
      "state": {
       "layout": "IPY_MODEL_aa4858caab424afd8c3aa148f360ec0e",
       "style": "IPY_MODEL_562c10b14a6141ab80788a156431ce75",
       "value": "<h5>Message</h5>"
      }
     },
     "953e7e66065e4af7b61dfdc797267f5e": {
      "model_module": "@jupyter-widgets/controls",
      "model_module_version": "1.5.0",
      "model_name": "ButtonModel",
      "state": {
       "icon": "close",
       "layout": "IPY_MODEL_8b571ab3a7c34461897050ffafcc7ad4",
       "style": "IPY_MODEL_b81df43a9ac14e2e89a8fe16f521378b"
      }
     },
     "96850753e5dd44bb893161ea9fa7564a": {
      "model_module": "@jupyter-widgets/base",
      "model_module_version": "1.2.0",
      "model_name": "LayoutModel",
      "state": {
       "width": "95px"
      }
     },
     "9929d09e0d874f5c8ed350f6ce72e849": {
      "model_module": "@jupyter-widgets/base",
      "model_module_version": "1.2.0",
      "model_name": "LayoutModel",
      "state": {
       "width": "145px"
      }
     },
     "9c66e86b19ad4dce83005df252e9abbb": {
      "model_module": "@jupyter-widgets/controls",
      "model_module_version": "1.5.0",
      "model_name": "HTMLModel",
      "state": {
       "layout": "IPY_MODEL_eaa68911a2bb4413ab6e4d2f31f184a7",
       "style": "IPY_MODEL_54120b4b1af942f9a4b1d46612cb903e",
       "value": "<font style='color:#34BC6E'>DONE</font>"
      }
     },
     "a12935deea51490f8cd16ea9619e3466": {
      "model_module": "@jupyter-widgets/controls",
      "model_module_version": "1.5.0",
      "model_name": "ButtonStyleModel",
      "state": {
       "button_color": "white"
      }
     },
     "a20d7d357998477f87d4d7635a221cd7": {
      "model_module": "@jupyter-widgets/base",
      "model_module_version": "1.2.0",
      "model_name": "LayoutModel",
      "state": {
       "margin": "0px 0px 0px 37px",
       "width": "600px"
      }
     },
     "a21570a05da34e37a220a9dd045bae6a": {
      "model_module": "@jupyter-widgets/controls",
      "model_module_version": "1.5.0",
      "model_name": "HTMLModel",
      "state": {
       "layout": "IPY_MODEL_4aaee61a0a444173af53b43e0e6defbd",
       "style": "IPY_MODEL_19fcd4afaa6840f394f6712481cc0a95",
       "value": "<font style='color:#34BC6E'>DONE</font>"
      }
     },
     "a22616380f8b483f90e3afb1149e4866": {
      "model_module": "@jupyter-widgets/controls",
      "model_module_version": "1.5.0",
      "model_name": "DescriptionStyleModel",
      "state": {
       "description_width": ""
      }
     },
     "a2c80fd48ead417788543e893cb4d621": {
      "model_module": "@jupyter-widgets/controls",
      "model_module_version": "1.5.0",
      "model_name": "HBoxModel",
      "state": {
       "children": [
        "IPY_MODEL_70012b7c67f64491b0e248a5d3bfb685",
        "IPY_MODEL_084e251f965141cdaef5860ace890114",
        "IPY_MODEL_85fd30402d204884b3b3268e56d19d83",
        "IPY_MODEL_a21570a05da34e37a220a9dd045bae6a",
        "IPY_MODEL_87ee2a9a8c3a490da6deeaf82c193bdf",
        "IPY_MODEL_148e8456542b438c89f6ca0b0458177f"
       ],
       "layout": "IPY_MODEL_f382a3f6bf7b4ec69e1b0ad5348d4f8d"
      }
     },
     "a375ea31afba4dabb167fdd149f66bb5": {
      "model_module": "@jupyter-widgets/base",
      "model_module_version": "1.2.0",
      "model_name": "LayoutModel",
      "state": {
       "width": "70px"
      }
     },
     "a64f87629bfe47a88c1a67f05ebb00c4": {
      "model_module": "@jupyter-widgets/base",
      "model_module_version": "1.2.0",
      "model_name": "LayoutModel",
      "state": {
       "width": "70px"
      }
     },
     "a7e556c8e3014971b795ce958958f0cb": {
      "model_module": "@jupyter-widgets/controls",
      "model_module_version": "1.5.0",
      "model_name": "HTMLModel",
      "state": {
       "layout": "IPY_MODEL_878430b4924544659c55de3f08297e98",
       "style": "IPY_MODEL_3bca8dc1b8bc48d685fe7d7ce2eaf67c",
       "value": "job has successfully run"
      }
     },
     "a8d5763a58da4963976f8d47c99adc55": {
      "model_module": "@jupyter-widgets/controls",
      "model_module_version": "1.5.0",
      "model_name": "DescriptionStyleModel",
      "state": {
       "description_width": ""
      }
     },
     "aa4858caab424afd8c3aa148f360ec0e": {
      "model_module": "@jupyter-widgets/base",
      "model_module_version": "1.2.0",
      "model_name": "LayoutModel",
      "state": {}
     },
     "aa5635c7e62b416fbd6e5c84ff7c69a9": {
      "model_module": "@jupyter-widgets/controls",
      "model_module_version": "1.5.0",
      "model_name": "HTMLModel",
      "state": {
       "layout": "IPY_MODEL_cafe79ea94b84e568ec98c28bf144e56",
       "style": "IPY_MODEL_7fd94a09eecb4d0088660072efaf2c84",
       "value": "<h5>Queue</h5>"
      }
     },
     "b1eb07575db64ca4bbbb03fde57972ab": {
      "model_module": "@jupyter-widgets/base",
      "model_module_version": "1.2.0",
      "model_name": "LayoutModel",
      "state": {
       "grid_template_areas": "\n                                       \". . . . right \"\n                                        ",
       "grid_template_columns": "20% 20% 20% 20% 20%",
       "width": "100%"
      }
     },
     "b59c31e33ec5460b90af34d5cc310dac": {
      "model_module": "@jupyter-widgets/controls",
      "model_module_version": "1.5.0",
      "model_name": "DescriptionStyleModel",
      "state": {
       "description_width": ""
      }
     },
     "b81df43a9ac14e2e89a8fe16f521378b": {
      "model_module": "@jupyter-widgets/controls",
      "model_module_version": "1.5.0",
      "model_name": "ButtonStyleModel",
      "state": {
       "button_color": "white"
      }
     },
     "b9e5e62172654147b17ba36c0e942cfb": {
      "model_module": "@jupyter-widgets/base",
      "model_module_version": "1.2.0",
      "model_name": "LayoutModel",
      "state": {
       "overflow_x": "scroll"
      }
     },
     "ba63908559f148cf98cbb6666b74b7c8": {
      "model_module": "@jupyter-widgets/controls",
      "model_module_version": "1.5.0",
      "model_name": "ButtonModel",
      "state": {
       "icon": "close",
       "layout": "IPY_MODEL_085825b4fbc74f8aa2a860c27ee8d337",
       "style": "IPY_MODEL_a12935deea51490f8cd16ea9619e3466"
      }
     },
     "c8eb3fc02e444d9c9372f23b178022cc": {
      "model_module": "@jupyter-widgets/base",
      "model_module_version": "1.2.0",
      "model_name": "LayoutModel",
      "state": {
       "max_width": "700px",
       "min_width": "700px"
      }
     },
     "ca26109a4300425da6fef26d85f2d689": {
      "model_module": "@jupyter-widgets/controls",
      "model_module_version": "1.5.0",
      "model_name": "HTMLModel",
      "state": {
       "layout": "IPY_MODEL_a64f87629bfe47a88c1a67f05ebb00c4",
       "style": "IPY_MODEL_55aa3c65aadb4cda91d3e4c39b6aa6f8",
       "value": "-"
      }
     },
     "cafe79ea94b84e568ec98c28bf144e56": {
      "model_module": "@jupyter-widgets/base",
      "model_module_version": "1.2.0",
      "model_name": "LayoutModel",
      "state": {
       "width": "70px"
      }
     },
     "cb55082edc81454698102d1fc67ad4d5": {
      "model_module": "@jupyter-widgets/base",
      "model_module_version": "1.2.0",
      "model_name": "LayoutModel",
      "state": {
       "grid_area": "right",
       "padding": "0px 0px 0px 0px",
       "width": "70px"
      }
     },
     "cef9db02bca441b2886de3ebbcf36d84": {
      "model_module": "@jupyter-widgets/base",
      "model_module_version": "1.2.0",
      "model_name": "LayoutModel",
      "state": {
       "margin": "0px 5px 0px 0px",
       "width": "32px"
      }
     },
     "d021ae8cd807448793c4330da07010a2": {
      "model_module": "@jupyter-widgets/controls",
      "model_module_version": "1.5.0",
      "model_name": "DescriptionStyleModel",
      "state": {
       "description_width": ""
      }
     },
     "d127559b17844c8ab6348152895648ed": {
      "model_module": "@jupyter-widgets/controls",
      "model_module_version": "1.5.0",
      "model_name": "DescriptionStyleModel",
      "state": {
       "description_width": ""
      }
     },
     "d5ce005978fb46b9acd7f4f67b923ef6": {
      "model_module": "@jupyter-widgets/controls",
      "model_module_version": "1.5.0",
      "model_name": "GridBoxModel",
      "state": {
       "children": [
        "IPY_MODEL_00b53fd9e3a34809a0251efd47aa9c9a"
       ],
       "layout": "IPY_MODEL_b1eb07575db64ca4bbbb03fde57972ab"
      }
     },
     "d7541f884ec7432793ee6cb74cb4fd67": {
      "model_module": "@jupyter-widgets/base",
      "model_module_version": "1.2.0",
      "model_name": "LayoutModel",
      "state": {
       "width": "145px"
      }
     },
     "dc60929169bc4299ba870b872c4bd4c3": {
      "model_module": "@jupyter-widgets/controls",
      "model_module_version": "1.5.0",
      "model_name": "HTMLModel",
      "state": {
       "layout": "IPY_MODEL_20040e2d84444ec194de27f84819b50a",
       "style": "IPY_MODEL_e8e51ce94131403b92b2f4058f5429d7",
       "value": "6236f999d97bff0be769348f"
      }
     },
     "e52e6a1ff96845c1841d016970073089": {
      "model_module": "@jupyter-widgets/controls",
      "model_module_version": "1.5.0",
      "model_name": "DescriptionStyleModel",
      "state": {
       "description_width": ""
      }
     },
     "e8e51ce94131403b92b2f4058f5429d7": {
      "model_module": "@jupyter-widgets/controls",
      "model_module_version": "1.5.0",
      "model_name": "DescriptionStyleModel",
      "state": {
       "description_width": ""
      }
     },
     "e9a0f0a145cf49dba4031942d97713f9": {
      "model_module": "@jupyter-widgets/controls",
      "model_module_version": "1.5.0",
      "model_name": "HBoxModel",
      "state": {
       "children": [
        "IPY_MODEL_ba63908559f148cf98cbb6666b74b7c8",
        "IPY_MODEL_36c178c6b8174ddaaf0a3a3c8afe6ec2",
        "IPY_MODEL_516b01ad602e4285a6b3f850ab0b884e",
        "IPY_MODEL_9c66e86b19ad4dce83005df252e9abbb",
        "IPY_MODEL_ca26109a4300425da6fef26d85f2d689",
        "IPY_MODEL_ececd2743238447baea72bd2399e7fc3"
       ],
       "layout": "IPY_MODEL_1804edba41ac4e739c59e72b84c4218c"
      }
     },
     "eaa68911a2bb4413ab6e4d2f31f184a7": {
      "model_module": "@jupyter-widgets/base",
      "model_module_version": "1.2.0",
      "model_name": "LayoutModel",
      "state": {
       "width": "95px"
      }
     },
     "eb4fbe097d144559b975e9fa213aca71": {
      "model_module": "@jupyter-widgets/controls",
      "model_module_version": "1.5.0",
      "model_name": "DescriptionStyleModel",
      "state": {
       "description_width": ""
      }
     },
     "ececd2743238447baea72bd2399e7fc3": {
      "model_module": "@jupyter-widgets/controls",
      "model_module_version": "1.5.0",
      "model_name": "HTMLModel",
      "state": {
       "layout": "IPY_MODEL_69297071db3d474eb5d3e0fb761d43a8",
       "style": "IPY_MODEL_7af728b7e49f439bbbf50a82ac6eea14",
       "value": "job has successfully run"
      }
     },
     "ef31ce4d922748469f3216baf5ab727b": {
      "model_module": "@jupyter-widgets/controls",
      "model_module_version": "1.5.0",
      "model_name": "HTMLModel",
      "state": {
       "layout": "IPY_MODEL_338ba0045cd0426cbd4ae989a12115af",
       "style": "IPY_MODEL_eb4fbe097d144559b975e9fa213aca71",
       "value": "<h5>Job ID</h5>"
      }
     },
     "f382a3f6bf7b4ec69e1b0ad5348d4f8d": {
      "model_module": "@jupyter-widgets/base",
      "model_module_version": "1.2.0",
      "model_name": "LayoutModel",
      "state": {
       "max_width": "700px",
       "min_width": "700px"
      }
     }
    },
    "version_major": 2,
    "version_minor": 0
   }
  }
 },
 "nbformat": 4,
 "nbformat_minor": 5
}
