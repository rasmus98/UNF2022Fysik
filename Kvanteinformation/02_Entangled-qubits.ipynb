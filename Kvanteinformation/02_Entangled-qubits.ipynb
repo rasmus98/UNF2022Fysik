{
 "cells": [
  {
   "cell_type": "markdown",
   "id": "d098f4ed",
   "metadata": {},
   "source": [
    "# Entanglement\n",
    "\n",
    " \n",
    "When two quantum states are entangled a measurement on one of the two states can affect the other state.\n",
    "\n",
    "**What:** we will set up a series of experiments where we do measurements on entangled states. \n",
    "\n",
    "**Learning goal:** to be able to predict the outcome of a measurement on an entangled state.\n",
    "\n"
   ]
  },
  {
   "cell_type": "markdown",
   "id": "251d70b3-122d-41de-b323-dfb48c048a61",
   "metadata": {},
   "source": [
    "Let's first import the relevant packages"
   ]
  },
  {
   "cell_type": "code",
   "execution_count": null,
   "id": "a6c90373",
   "metadata": {},
   "outputs": [],
   "source": [
    "import numpy as np\n",
    "# Importing standard Qiskit libraries\n",
    "from qiskit import QuantumCircuit, transpile, Aer, IBMQ\n",
    "from qiskit.tools.jupyter import *\n",
    "from qiskit.visualization import *\n",
    "from ibm_quantum_widgets import *\n",
    "\n",
    "# Loading your IBM Q account(s)\n",
    "# provider = IBMQ.load_account()"
   ]
  },
  {
   "cell_type": "markdown",
   "id": "f2d72fd4",
   "metadata": {},
   "source": [
    "# Our first measurement\n",
    "\n",
    "We consider a system with just two q-bits. The first q-bit is in the state $\\frac{1}{\\sqrt{2}}(|0\\rangle+|1\\rangle)$ while the second q-bit is in the state $|0\\rangle$. Hence the state of the system is\n",
    "\n",
    "\\begin{equation}\n",
    "|\\psi\\rangle = \\frac{1}{\\sqrt{2}}\\big(|00\\rangle+|01\\rangle\\big) \\ .\n",
    "\\end{equation}\n",
    "\n",
    "We now measure the usual operator $M$, which in the basis ($|0\\rangle,|1\\rangle$) is \n",
    "\n",
    "\\begin{equation}\n",
    "M= \\left(\\begin{array}{cc} 0 & 0 \\\\ 0 & 1 \\end{array}\\right) \\ ,\n",
    "\\end{equation}\n",
    "\n",
    "on each q-bit.\n",
    "\n",
    "**Exercise 1:** Predict the outcome of the measurement. Is the result of the measuremet on the first q-bit correlated with the result of the measurement on the second q-bit? \n",
    "\n",
    "Now check that your prediction is consistent with the result of the experiment below."
   ]
  },
  {
   "cell_type": "code",
   "execution_count": null,
   "id": "781f1869",
   "metadata": {},
   "outputs": [],
   "source": [
    "circ = QuantumCircuit(2,2)\n",
    "circ.h(0) # puts the first q-bit in the desired state\n",
    "circ.barrier() # just a vertical line which seperates where we set up the state and where we measure. \n",
    "circ.measure(0,0)\n",
    "circ.measure(1,1)\n",
    "circ.draw()"
   ]
  },
  {
   "cell_type": "code",
   "execution_count": null,
   "id": "791294d9",
   "metadata": {},
   "outputs": [],
   "source": [
    "simulator = Aer.get_backend('aer_simulator')\n",
    "\n",
    "result = simulator.run(circ, shots=10, memory=True).result()\n",
    "memory = result.get_memory(circ)\n",
    "print(memory)"
   ]
  },
  {
   "cell_type": "markdown",
   "id": "5bc6004d-81dd-494e-afae-6211d5fdb215",
   "metadata": {},
   "source": [
    "**How to read the out-put:** We have performed the experiment 10 times and each time we get two out-puts, namely the value of the two measurements. The rightmost value in the pair is the value of the measurement on the first q-bit and the leftmost in the pair is the value obtained from the measurement on the second q-bit."
   ]
  },
  {
   "cell_type": "markdown",
   "id": "7366466c-525a-4a91-97aa-e38b8d392673",
   "metadata": {},
   "source": [
    "**Check:** Did your predicition match the result? If not go back and reconsider what may have gone wrong."
   ]
  },
  {
   "cell_type": "markdown",
   "id": "6152fe06",
   "metadata": {},
   "source": [
    "Now let's couple the two q-bits to create the entangled state\n",
    "\n",
    "\\begin{equation}\n",
    "|\\psi\\rangle = \\frac{1}{\\sqrt{2}}\\big(|00\\rangle +|11\\rangle \\big)\n",
    "\\end{equation}\n",
    "\n",
    "**Exercise 2:** Determine the probability that a measurement of $M$ on the first q-bit yields 0.\n",
    "\n",
    "**Exercise 3:** Suppose a measurement on the first q-bit has given the value $0$. What can we say about the probability to subsequently measure the value $1$ on the second q-bit? \n",
    "\n",
    "Time to check your predictions with the quantum circut below!"
   ]
  },
  {
   "cell_type": "code",
   "execution_count": null,
   "id": "3b7765c0",
   "metadata": {},
   "outputs": [],
   "source": [
    "circ1 = QuantumCircuit(2,2)\n",
    "circ1.h(0) # this and the next line sets up the desired state\n",
    "circ1.cx(0,1)\n",
    "circ1.barrier() # add a vertical line, just to make the setup more clear\n",
    "circ1.measure(0,0) \n",
    "circ1.measure(1,1)\n",
    "circ1.draw()"
   ]
  },
  {
   "cell_type": "code",
   "execution_count": null,
   "id": "cf781f35",
   "metadata": {},
   "outputs": [],
   "source": [
    "simulator = Aer.get_backend('aer_simulator')\n",
    "\n",
    "result = simulator.run(circ1, shots=10, memory=True).result()\n",
    "memory = result.get_memory(circ1)\n",
    "print(memory)"
   ]
  },
  {
   "cell_type": "markdown",
   "id": "c5414eef-dd89-4365-aa5c-60f1cef3895e",
   "metadata": {},
   "source": [
    "**Check:** Did your prediction match the outcome? "
   ]
  },
  {
   "cell_type": "markdown",
   "id": "9318b27c",
   "metadata": {},
   "source": [
    "**Don't miss:** The measurement of the first q-bit collapes the state of the first q-bit to the eigenstate which belong to the eigenvalue measured. If for example the value of the measurement on the first q-bit is 0 then the state of the first q-bit after the measurement will be $|0\\rangle$. Because the two q-bits are entangled the second q-bit follows along and the state of the total system after measuring the first q-bit is $|00\\rangle$ (or $|11\\rangle$ if we measured 1 on the first q-bit). Hence the measurement on the second q-bit here gives the same value as that measured on the first!  "
   ]
  },
  {
   "cell_type": "markdown",
   "id": "8c028632",
   "metadata": {},
   "source": [
    "**Generalization to 3 q-bits**:\n",
    "\n",
    "Any number of q-bits can be entangled, for example with 3 q-bits we can start the system in the state \n",
    "\n",
    "\\begin{equation}\n",
    "|\\psi\\rangle =\\frac{1}{\\sqrt{2}}\\big(|000\\rangle +|111\\rangle \\big)\n",
    "\\end{equation}\n",
    "\n",
    "In order to understand better how measurements on entangeled states affect the state, let's add a third q-bit to our system, and then put the three 3-bits into the entangled state above. In this state we then measure $M$ on the first of the 3 q-bits"
   ]
  },
  {
   "cell_type": "code",
   "execution_count": null,
   "id": "028d1ead",
   "metadata": {},
   "outputs": [],
   "source": [
    "circ3 = QuantumCircuit(3,1)\n",
    "circ3.h(0) # This and the following two lines sets up the desired state\n",
    "circ3.cx(0,1)\n",
    "circ3.cx(1,2)\n",
    "circ3.barrier()\n",
    "circ3.measure(0,0) # This performs the measurement on the first q-bit\n",
    "circ3.draw()"
   ]
  },
  {
   "cell_type": "code",
   "execution_count": null,
   "id": "a6499321",
   "metadata": {
    "scrolled": true
   },
   "outputs": [],
   "source": [
    "simulator = Aer.get_backend('aer_simulator')\n",
    "\n",
    "result = simulator.run(circ3, shots=10, memory=True).result()\n",
    "memory = result.get_memory(circ3)\n",
    "print(memory)"
   ]
  },
  {
   "cell_type": "markdown",
   "id": "d8f7e201",
   "metadata": {},
   "source": [
    "**Exercise 4:**  Explain the result of this measurement.\n",
    "    \n",
    "**Exercise 5:**  Predict the outcome if we subsequently measure $M$ on the second q-bit.\n",
    "\n",
    "\n",
    "As always check your prediction with the circut below."
   ]
  },
  {
   "cell_type": "code",
   "execution_count": null,
   "id": "e6ae386d",
   "metadata": {},
   "outputs": [],
   "source": [
    "circ3 = QuantumCircuit(3,2)\n",
    "circ3.h(0) # This and the following two lines sets up the desired state\n",
    "circ3.cx(0,1)\n",
    "circ3.cx(1,2)\n",
    "circ3.barrier()\n",
    "circ3.measure(0,0) # This performs the measurement on the first q-bit\n",
    "circ3.measure(1,1) # This performs the measurement on the second q-bit\n",
    "circ3.draw()"
   ]
  },
  {
   "cell_type": "code",
   "execution_count": null,
   "id": "13741f51",
   "metadata": {},
   "outputs": [],
   "source": [
    "simulator = Aer.get_backend('aer_simulator')\n",
    "\n",
    "result = simulator.run(circ3, shots=10, memory=True).result()\n",
    "memory = result.get_memory(circ3)\n",
    "print(memory)"
   ]
  },
  {
   "cell_type": "markdown",
   "id": "d33d70b9-47ec-427c-a847-e6d1d6c8989b",
   "metadata": {},
   "source": [
    "**Check:**  Hopefully your prediction matched the outcome?"
   ]
  },
  {
   "cell_type": "markdown",
   "id": "bebebe7a",
   "metadata": {},
   "source": [
    "**Don't miss:** Note how the measurement on a single q-bit can affect the state on all q-bits (provided that the state is sufficiently entangled)."
   ]
  },
  {
   "cell_type": "markdown",
   "id": "fdb7234b-234e-4776-a852-b4623bd4d742",
   "metadata": {},
   "source": [
    "It is of course tempting also to measure $M$ on the third q-bit. Let's do so"
   ]
  },
  {
   "cell_type": "code",
   "execution_count": null,
   "id": "de97a3bf-2d2c-4c76-8307-2975df8d7ab9",
   "metadata": {},
   "outputs": [],
   "source": [
    "circ3 = QuantumCircuit(3,3)\n",
    "circ3.h(0) # This and the following two lines sets up the desired state\n",
    "circ3.cx(0,1)\n",
    "circ3.cx(1,2)\n",
    "circ3.barrier()\n",
    "circ3.measure(0,0) # This performs the measurement on the first q-bit\n",
    "circ3.measure(1,1) # This performs the measurement on the second q-bit\n",
    "circ3.measure(2,2) # This performs the measurement on the second q-bit\n",
    "circ3.draw()"
   ]
  },
  {
   "cell_type": "code",
   "execution_count": null,
   "id": "87d57e58-0be0-4859-a378-1927af3f800e",
   "metadata": {},
   "outputs": [],
   "source": [
    "simulator = Aer.get_backend('aer_simulator')\n",
    "\n",
    "result = simulator.run(circ3, shots=10, memory=True).result()\n",
    "memory = result.get_memory(circ3)\n",
    "print(memory)"
   ]
  },
  {
   "cell_type": "markdown",
   "id": "c9006f2b-6d51-4470-95f9-0f253e1d31b4",
   "metadata": {},
   "source": [
    "**Exercise 6:** Make sure that you understand why the 3 measured values are always identical. Also make sure you understand what the probabilities are to get either combination."
   ]
  },
  {
   "cell_type": "markdown",
   "id": "33f0b28e-29ba-4bd1-b635-4701a7529faa",
   "metadata": {},
   "source": [
    "**Take home:** Measurements on entangled states not only changes the q-bit which we perform the measurement on, it also changes the states which are entangled with the q-bit we do the measurement on."
   ]
  }
 ],
 "metadata": {
  "kernelspec": {
   "display_name": "Python 3 (ipykernel)",
   "language": "python",
   "name": "python3"
  },
  "language_info": {
   "codemirror_mode": {
    "name": "ipython",
    "version": 3
   },
   "file_extension": ".py",
   "mimetype": "text/x-python",
   "name": "python",
   "nbconvert_exporter": "python",
   "pygments_lexer": "ipython3",
   "version": "3.7.13"
  },
  "widgets": {
   "application/vnd.jupyter.widget-state+json": {
    "state": {},
    "version_major": 2,
    "version_minor": 0
   }
  }
 },
 "nbformat": 4,
 "nbformat_minor": 5
}
