{
 "cells": [
  {
   "cell_type": "markdown",
   "id": "2e598063",
   "metadata": {},
   "source": [
    "## Measurement of position\n",
    "\n",
    "One of the things that might bother you when you first encounter quantum mechanics is the collapse of the spatial wave function $\\psi(x)$ (it certainly bothered me). When a particle is an a state described by the wave function $\\psi(x)$ and we measure the position, then $\\psi(x)$ collapses to a $\\delta$-function at the position $x'$ where the particle was detected. \n",
    "\n",
    "While you may be willing to accept this as just another magic thing about quantum mechanics, you still might ask yourself: how did the wave function at some point far from $x'$ know that the measurement done at $x'$ detected the particle at this point? For that to be possible the wave function must represent a highly  entangled state, such that the measurement at $x'$ can affect the rest of the wave function!\n",
    "\n",
    "Now when you look at the typical wave functions we find as solutions to the Schrödinger equation in one dimension, they may not appear to represent highly entangled states at all. Consider, for example, free a particle on a ring of circumference $L$, where the ground state is just a constant (see e.g. Griffiths and Schroeter, 3ed, problem 2.46 and problem 7.41)\n",
    "\n",
    "\\begin{equation}\n",
    "\\psi(x)=\\frac{1}{\\sqrt{L}} \\ .\n",
    "\\end{equation}\n",
    "\n",
    "Is this really a wave function of a highly entangled state such that when we measure the position and detect the particle at $x'$ then all of the wave function immediately knows that it must collapse to $\\delta(x')$? \n",
    "\n",
    "\n",
    "The answer is yes (!) and this exercise offers a chance to understand why this true. \n",
    "\n",
    "**What:** We will set up a spatial wave function and see how a measurement of the position leads to the collapsed wave function. In doing so we will explicitly see that even the constant wave function above in fact represent a highly entangled state, and it will (hopefully) be more clear how the wave function manages to collapse when a measurement of position is performed.\n",
    "\n",
    "\n",
    "**Learning objective:** Obtain an understanding of the entangled nature of the wave function, and get insights into the collapse of the wave function."
   ]
  },
  {
   "cell_type": "markdown",
   "id": "037a754b-d9e8-4404-a888-de3da8fd506e",
   "metadata": {},
   "source": [
    "**Entangled nature?** In case you are not yet familiar with the nature of entangled qubits - why not do the exercise on entangled qubist first? It is a great exercise in it's own right (I think) and it will prepare you well for understanding the entangled nature of the wave function in the exercise below.\n",
    "\n",
    "If you already have som expirence with entanglement or if you just want to give it a go anyway, by all means just go ahead!"
   ]
  },
  {
   "cell_type": "markdown",
   "id": "5dbd6358-de03-4274-a871-dd3ee5b37630",
   "metadata": {},
   "source": [
    "**How to set up a wave function with qubits:** \n",
    "\n",
    "We will think of each qubit as a position and intrepret a measurement of the qubit as a measurement of the position. If, for example, we measure the 5th qubit and find the value 1 then the intrepretation is that  we have measured the position of the particle and detected it at the 5th position. If the value obtained by the measurement is 0 the particle was not detected at this point.  \n",
    "\n",
    "As this is not the standard way to ude of the qubits, we will start as simple as possible with just a single site and then add more sites as we go along. At the end we make the connection to the continuum wave function.  \n"
   ]
  },
  {
   "cell_type": "markdown",
   "id": "614ee7cf-cd89-443f-9552-6b37d5ed8ba8",
   "metadata": {},
   "source": [
    "To get going let's first import the relevant libraries:"
   ]
  },
  {
   "cell_type": "code",
   "execution_count": null,
   "id": "2e104679",
   "metadata": {},
   "outputs": [],
   "source": [
    "import numpy as np\n",
    "# Importing standard Qiskit libraries\n",
    "from qiskit import QuantumCircuit, ClassicalRegister, QuantumRegister, transpile, Aer, IBMQ\n",
    "from qiskit.tools.jupyter import *\n",
    "from qiskit.visualization import *\n",
    "from ibm_quantum_widgets import *\n",
    "from qiskit import assemble\n",
    "\n",
    "# Loading your IBM Quantum account(s)\n",
    "# provider = IBMQ.load_account()"
   ]
  },
  {
   "cell_type": "markdown",
   "id": "ba2434b0",
   "metadata": {},
   "source": [
    "**A single site:** \n",
    "\n",
    "Let's start in the simplest possible manner, with just one position realized by a single qubit. We will set up the state of the particle and subsequantly measure the position. \n",
    "\n",
    "\n",
    "As there is only one possible position the only possible state of the system is $|1\\rangle$. So the measurement better detect the particle at this site when we measure, othervise the particle has leaked out of the system. \n",
    "\n",
    "Let's check!"
   ]
  },
  {
   "cell_type": "markdown",
   "id": "478e41ad",
   "metadata": {},
   "source": [
    "We first set up the measuremet:"
   ]
  },
  {
   "cell_type": "code",
   "execution_count": null,
   "id": "65cabf44",
   "metadata": {
    "scrolled": true
   },
   "outputs": [],
   "source": [
    "qc = QuantumCircuit(1,1) # This creates the quantum circut with 1 q-bit and 1 classical bit to read out the measurement\n",
    "qc.x(0) # This puts the particle at the first q-bit\n",
    "qc.measure(0,0) # This measures if it is there\n",
    "qc.draw()"
   ]
  },
  {
   "cell_type": "markdown",
   "id": "878ea26e",
   "metadata": {},
   "source": [
    "And now we perform the experiment (10 times):"
   ]
  },
  {
   "cell_type": "code",
   "execution_count": null,
   "id": "c6a7426a",
   "metadata": {},
   "outputs": [],
   "source": [
    "simulator = Aer.get_backend('aer_simulator')\n",
    "\n",
    "result = simulator.run(qc, shots=10, memory=True).result()\n",
    "memory = result.get_memory(qc)\n",
    "print(memory)"
   ]
  },
  {
   "cell_type": "markdown",
   "id": "bc31719d",
   "metadata": {},
   "source": [
    "**How to intrepret the result:** We have performed the measuremet 10 times and each time we have found that the particle was at the first position (given by the first qubit). This is hardly surprising, we only have one possible position and hence the particle has nowhere else to go!"
   ]
  },
  {
   "cell_type": "markdown",
   "id": "12b682df",
   "metadata": {},
   "source": [
    "**Two sites:** \n",
    "\n",
    "This far everything is just like in the classical case. To get the quantum nature of position measurements in play, let's now introduce a second position given by a second q-bit and consider the uniformly distributed state \n",
    "\n",
    "\\begin{equation}\n",
    "\\psi=\\frac{1}{\\sqrt{2}}\\big(|10\\rangle+|01\\rangle\\big)\n",
    "\\end{equation}\n",
    "\n",
    "As we have a uniform distribution we expect that a measurement of the position is equally likely to detect the particle at either or the two sites.\n",
    "\n",
    "\n",
    "**Exercise 1:** Compute the probabilities of detection at the first site, $P=|\\langle 01|\\psi\\rangle|^2$, and use this to show that our expectation is indeed true."
   ]
  },
  {
   "cell_type": "markdown",
   "id": "7a6c8ca4",
   "metadata": {},
   "source": [
    "And now let's double-check experimentally. We first set up the quantum circut: "
   ]
  },
  {
   "cell_type": "code",
   "execution_count": null,
   "id": "8fda91e9",
   "metadata": {
    "scrolled": true
   },
   "outputs": [],
   "source": [
    "qc = QuantumCircuit(2,2) # Now the quantum circut has 2 q-bits (positions) and 2 classical bits to read out the measurement of the position\n",
    "qc.h(0) # This put the first q-bit in the state 1/\\sqrt{2}(|0>+|1>)\n",
    "qc.cx(0,1) # This puts the second q-bit in |1> if the first is |1>\n",
    "qc.x(1) # This flips the second q-bit and we have the desired state\n",
    "qc.barrier() \n",
    "qc.measure(0,0) # We measure if the particle is at the first position (q-bit)\n",
    "qc.measure(1,1) # We measure if the particle is at the second position (q-bit)\n",
    "qc.draw()"
   ]
  },
  {
   "cell_type": "markdown",
   "id": "68a61265",
   "metadata": {},
   "source": [
    "and then do the measurement:"
   ]
  },
  {
   "cell_type": "code",
   "execution_count": null,
   "id": "7499b591",
   "metadata": {},
   "outputs": [],
   "source": [
    "simulator = Aer.get_backend('aer_simulator')\n",
    "\n",
    "result = simulator.run(qc, shots=10, memory=True).result()\n",
    "memory = result.get_memory(qc)\n",
    "print(memory)"
   ]
  },
  {
   "cell_type": "markdown",
   "id": "c6aad49d",
   "metadata": {},
   "source": [
    "**How to read the result:** We have measured the position and '01' implies that the particle was detected at the first position while '10' that it was detected at the second position.\n",
    "\n",
    "**Check:** Did the outcome match our expectation?"
   ]
  },
  {
   "cell_type": "markdown",
   "id": "8e017300",
   "metadata": {},
   "source": [
    "To get better statistics we can also run the experiment 1024 times:"
   ]
  },
  {
   "cell_type": "code",
   "execution_count": null,
   "id": "86c72a44",
   "metadata": {},
   "outputs": [],
   "source": [
    "from qiskit import QuantumCircuit, assemble, Aer\n",
    "from qiskit.visualization import plot_histogram\n",
    "\n",
    "sim = Aer.get_backend('qasm_simulator')  # this is the simulator we'll use\n",
    "qobj = assemble(qc)  # this turns the circuit into an object our backend can run\n",
    "result = sim.run(qobj).result()  # we run the experiment and get the result from that experiment\n",
    "# from the results, we get a dictionary containing the number of times (counts)\n",
    "# each result appeared\n",
    "counts = result.get_counts()\n",
    "# and display it on a histogram\n",
    "plot_histogram(counts)"
   ]
  },
  {
   "cell_type": "markdown",
   "id": "6f163147-00e8-4463-8f1f-ebe4f133bf7b",
   "metadata": {},
   "source": [
    "**Don't miss:** The uniform distribution of a particle over two sites\n",
    "\n",
    "\\begin{equation}\n",
    "\\psi=\\frac{1}{\\sqrt{2}}\\big(|10\\rangle+|01\\rangle\\big)\n",
    "\\end{equation}\n",
    "\n",
    "we have just considered is an entangled state! (It will presumable look quite familiar to you if you have worked out the Exercises on entangled states.) \n",
    "\n",
    "So even for a system with just two positions the uniformly distributed state is an entangled state."
   ]
  },
  {
   "cell_type": "markdown",
   "id": "5578b618",
   "metadata": {},
   "source": [
    "**A world with 3 sites:**\n",
    "\n",
    "In order to study the collapse of the wave function let's now moove to a world with 3 sites and again start the system in the uniformly distributed state\n",
    "\n",
    "\n",
    "\\begin{equation}\n",
    "\\psi=\\frac{1}{\\sqrt{3}}\\big(|100\\rangle+|010\\rangle+|001\\rangle\\big)\n",
    "\\end{equation}\n",
    "\n",
    "\n",
    "**Exercise 2:** Check that the state is invatiant under permutations of any two of the sites. Hence a measurement of the position is equally likely to detect the particle at any of the 3 sites.\n",
    "\n",
    "As always check your results explicitly with the measurement below. "
   ]
  },
  {
   "cell_type": "code",
   "execution_count": null,
   "id": "765f4677",
   "metadata": {},
   "outputs": [],
   "source": [
    "from math import pi\n",
    "qc = QuantumCircuit(3,3)\n",
    "qc.x(0)\n",
    "qc.x(1)\n",
    "qc.barrier()\n",
    "sq2o3=np.sqrt(1/3)\n",
    "theta=2*np.arccos(sq2o3)\n",
    "qc.ry(-theta/2,1)\n",
    "qc.cx(0,1)\n",
    "qc.ry(theta/2,1)\n",
    "qc.barrier()\n",
    "qc.ry(-pi/4,0)\n",
    "qc.cx(1,0)\n",
    "qc.ry(pi/4,0)\n",
    "qc.barrier()\n",
    "qc.ccx(0,1,2)\n",
    "qc.x(0)\n",
    "qc.x(1)\n",
    "qc.barrier()\n",
    "qc.measure(0,0)\n",
    "qc.measure(1,1)\n",
    "qc.measure(2,2)\n",
    "qc.draw()"
   ]
  },
  {
   "cell_type": "markdown",
   "id": "217ef82f-ef69-4684-8625-8c298c4b5616",
   "metadata": {},
   "source": [
    "**On the diagram:** The first part before the measurements puts the system in the uniform state $\\psi$. Then at the end we perform the measurement of the position."
   ]
  },
  {
   "cell_type": "code",
   "execution_count": null,
   "id": "2b955d85",
   "metadata": {
    "scrolled": true
   },
   "outputs": [],
   "source": [
    "simulator = Aer.get_backend('aer_simulator')\n",
    "result = simulator.run(qc, shots=10, memory=True).result()\n",
    "memory = result.get_memory(qc)\n",
    "print(memory)"
   ]
  },
  {
   "cell_type": "markdown",
   "id": "fec55155-249e-4d51-9c16-3d9a2471192f",
   "metadata": {},
   "source": [
    "**How to read the result:** The position at which the '1' appears is where the measurement has detected the particle."
   ]
  },
  {
   "cell_type": "markdown",
   "id": "536d6912-4748-46fe-a611-66fa824c99da",
   "metadata": {},
   "source": [
    "Now let's trun to the collapse!\n",
    "\n",
    "**Exercise 3:** What is the state of the system after the measuremet has detected the particle? (Your answer will depend on where it is detected.)\n",
    "\n",
    "Let's now repeat the measuremet of the position right after we did it the first time."
   ]
  },
  {
   "cell_type": "code",
   "execution_count": null,
   "id": "0206cab1-1d89-4add-82ae-64a1b9105a47",
   "metadata": {},
   "outputs": [],
   "source": [
    "from math import pi\n",
    "qc = QuantumCircuit(3,6)\n",
    "qc.x(0)\n",
    "qc.x(1)\n",
    "qc.barrier()\n",
    "sq2o3=np.sqrt(1/3)\n",
    "theta=2*np.arccos(sq2o3)\n",
    "qc.ry(-theta/2,1)\n",
    "qc.cx(0,1)\n",
    "qc.ry(theta/2,1)\n",
    "qc.barrier()\n",
    "qc.ry(-pi/4,0)\n",
    "qc.cx(1,0)\n",
    "qc.ry(pi/4,0)\n",
    "qc.barrier()\n",
    "qc.ccx(0,1,2)\n",
    "qc.x(0)\n",
    "qc.x(1)\n",
    "qc.barrier()\n",
    "qc.measure(0,0)\n",
    "qc.measure(1,1)\n",
    "qc.measure(2,2)\n",
    "qc.barrier()\n",
    "qc.measure(0,3)\n",
    "qc.measure(1,4)\n",
    "qc.measure(2,5)\n",
    "qc.draw()"
   ]
  },
  {
   "cell_type": "code",
   "execution_count": null,
   "id": "fb0df276-d479-433f-a3f1-244a2d930576",
   "metadata": {
    "scrolled": true
   },
   "outputs": [],
   "source": [
    "simulator = Aer.get_backend('aer_simulator')\n",
    "result = simulator.run(qc, shots=10, memory=True).result()\n",
    "memory = result.get_memory(qc)\n",
    "print(memory)"
   ]
  },
  {
   "cell_type": "markdown",
   "id": "39cc9f35-8a64-4435-8881-4fce93481fce",
   "metadata": {},
   "source": [
    "**How to read the result:** In order to read out the result of the two position measurements we now have 6 classical bits. The 3 right most outputs give the result of the first measurement and the 3 leftmost the result of the second measurement. For example, '010010' implies that we have detected the particle at the middle site both first and second time we measure.\n",
    "\n",
    "**Exercise 4:** Explain the outcome of the experiment above?"
   ]
  },
  {
   "cell_type": "markdown",
   "id": "6aa8354b-b331-4c26-8b9e-1c9ba2c394df",
   "metadata": {},
   "source": [
    "**Don't miss:** The uniformly distributed state \n",
    "\n",
    "\\begin{equation}\n",
    "\\psi=\\frac{1}{\\sqrt{3}}\\big(|100\\rangle+|010\\rangle+|001\\rangle\\big)\n",
    "\\end{equation}\n",
    "\n",
    "is a highly entangled state! The entanglement is essential for the collapse of the state when we measure the position."
   ]
  },
  {
   "cell_type": "markdown",
   "id": "a38d83a9-3369-470c-ab8e-6d50298be622",
   "metadata": {},
   "source": [
    "**6 sites and any wave function:** \n",
    "\n",
    "Now let's take one more step towards the continuum wave function by doubling the number of sites. Also let's consider any distribution we like and not just the uniform distribution. Hence our state is  \n",
    "\n",
    "\n",
    "\\begin{equation}\n",
    "\\psi_6 = N\\big(c_5|100000\\rangle+c_4|010000\\rangle+\\ldots+c_0|000001\\rangle\\big)\n",
    "\\end{equation}\n",
    "\n",
    "with the normalization\n",
    "\n",
    "\\begin{equation}\n",
    "N = \\frac{1}{\\sqrt{c_0^2+c_1^2+\\ldots+c_5^2}} \\ .\n",
    "\\end{equation}\n",
    "\n",
    "The coefficients $c_j$ can be thought of as the value of the wave function at the point given by the $j$'th q-bit. (For simplicity we consider them to be real here.)\n",
    "\n",
    "**Exercise 5:** Pick the (real) values for the coefficients $c_0,\\ldots,c_5$ you like in the code below and run it."
   ]
  },
  {
   "cell_type": "code",
   "execution_count": null,
   "id": "a1bb012b-6296-47bd-abc8-c2858c364781",
   "metadata": {},
   "outputs": [],
   "source": [
    "# Initializing the 6-qubit quantum state\n",
    "import math\n",
    "c0 = 1\n",
    "c1 = 1\n",
    "c2 = 1\n",
    "c3 = 1\n",
    "c4 = 1\n",
    "c5 = 1\n",
    "norm = 1 / math.sqrt(c0*c0+c1*c1+c2*c2+c3*c3+c4*c4+c5*c5)\n",
    "desired_vector = [\n",
    "    0,\n",
    "    norm*c0,\n",
    "    norm*c1,\n",
    "    0,\n",
    "    norm*c2,\n",
    "    0,0,0, \n",
    "    norm*c3,\n",
    "    0,0,0,0,0,0,0,\n",
    "    norm*c4,\n",
    "    0,0,0,0,0,0,0,0,0,0,0,0,0,0,0,\n",
    "    norm*c5,\n",
    "    0,0,0,0,0,0,0,0,0,0,0,0,0,0,0,0,0,0,0,0,0,0,0,0,0,0,0,0,0,0,0]\n",
    "\n",
    "#    1 / math.sqrt(16) * complex(1, 0),\n",
    "    \n",
    "q = QuantumRegister(6)\n",
    "    \n",
    "c = ClassicalRegister(6)\n",
    "\n",
    "qc = QuantumCircuit(q,c)\n",
    "\n",
    "qc.initialize(desired_vector, [q[0],q[1],q[2],q[3],q[4],q[5]])\n",
    "qc.barrier() # and now measure the position\n",
    "qc.measure(0,0)\n",
    "qc.measure(1,1)\n",
    "qc.measure(2,2)\n",
    "qc.measure(3,3)\n",
    "qc.measure(4,4)\n",
    "qc.measure(5,5)\n",
    "qc.draw()"
   ]
  },
  {
   "cell_type": "markdown",
   "id": "0217d094-6407-42d3-9942-46339794dbbe",
   "metadata": {},
   "source": [
    "**How the read the diagram:** The big purple box sets up the state you have chosen, and then we measure the position of the particle.\n",
    "\n",
    "**Exercise 6:** Predict the outcome for this measurement with the values you chose for the coefficients $c_0,\\ldots,c_5$. \n",
    "\n",
    "Is your result consistent with the actual measurement below? (You may want to run it a few times to check.)"
   ]
  },
  {
   "cell_type": "code",
   "execution_count": null,
   "id": "51c31a68-a370-4c6a-9ba3-2d6c09ff373f",
   "metadata": {
    "scrolled": true
   },
   "outputs": [],
   "source": [
    "simulator = Aer.get_backend('aer_simulator')\n",
    "result = simulator.run(qc, shots=10, memory=True).result()\n",
    "memory = result.get_memory(qc)\n",
    "print(memory)"
   ]
  },
  {
   "cell_type": "markdown",
   "id": "8eafc559-b07a-4e20-8799-cf59700a89fc",
   "metadata": {},
   "source": [
    "**Notice:** This time we have 6 measurements, one at each site. The '1' marks where the particle has been detected, the remaining 5 zeros show that the particle has not been detected there."
   ]
  },
  {
   "cell_type": "markdown",
   "id": "54bcfa9d-c4c6-4947-a8da-9798efdafa5a",
   "metadata": {},
   "source": [
    "To check the collapse of the state you stared from let's now repeat the measurement of the position (again, pick any real values of the coefficients you like by chosing the values of $c_0,\\ldots,c_5$!)"
   ]
  },
  {
   "cell_type": "code",
   "execution_count": null,
   "id": "829cfd6f-6a43-422c-9500-de5c639402a7",
   "metadata": {},
   "outputs": [],
   "source": [
    "# Initializing the 6-qubit quantum state\n",
    "import math\n",
    "c0 = 1\n",
    "c1 = 1\n",
    "c2 = 1\n",
    "c3 = 1\n",
    "c4 = 1\n",
    "c5 = 1\n",
    "norm = 1 / math.sqrt(c0*c0+c1*c1+c2*c2+c3*c3+c4*c4+c5*c5)\n",
    "desired_vector = [\n",
    "    0,\n",
    "    norm*c0,\n",
    "    norm*c1,\n",
    "    0,\n",
    "    norm*c2,\n",
    "    0,0,0, \n",
    "    norm*c3,\n",
    "    0,0,0,0,0,0,0,\n",
    "    norm*c4,\n",
    "    0,0,0,0,0,0,0,0,0,0,0,0,0,0,0,\n",
    "    norm*c5,\n",
    "    0,0,0,0,0,0,0,0,0,0,0,0,0,0,0,0,0,0,0,0,0,0,0,0,0,0,0,0,0,0,0]\n",
    "\n",
    "#    1 / math.sqrt(16) * complex(1, 0),\n",
    "    \n",
    "q = QuantumRegister(6)\n",
    "    \n",
    "c = ClassicalRegister(12)\n",
    "\n",
    "qc = QuantumCircuit(q,c)\n",
    "\n",
    "qc.initialize(desired_vector, [q[0],q[1],q[2],q[3],q[4],q[5]])\n",
    "qc.barrier() # and now measure the position\n",
    "qc.measure(0,0)\n",
    "qc.measure(1,1)\n",
    "qc.measure(2,2)\n",
    "qc.measure(3,3)\n",
    "qc.measure(4,4)\n",
    "qc.measure(5,5)\n",
    "qc.barrier() # and now measure the position again\n",
    "qc.measure(0,6)\n",
    "qc.measure(1,7)\n",
    "qc.measure(2,8)\n",
    "qc.measure(3,9)\n",
    "qc.measure(4,10)\n",
    "qc.measure(5,11)\n",
    "qc.draw()"
   ]
  },
  {
   "cell_type": "code",
   "execution_count": null,
   "id": "718fac2e-557d-462c-9a94-eedce166526f",
   "metadata": {
    "scrolled": true
   },
   "outputs": [],
   "source": [
    "simulator = Aer.get_backend('aer_simulator')\n",
    "result = simulator.run(qc, shots=10, memory=True).result()\n",
    "memory = result.get_memory(qc)\n",
    "print(memory)"
   ]
  },
  {
   "cell_type": "markdown",
   "id": "db26fd4e-289a-4a95-991c-440dfde4ef83",
   "metadata": {},
   "source": [
    "**How to read the result:** The rightmost 6 digits are the result of the first measurement of the position and the leftmost 6 are those of the measurement that follows."
   ]
  },
  {
   "cell_type": "markdown",
   "id": "7b225447-0313-41ad-82f1-2ecfc04a06dc",
   "metadata": {},
   "source": [
    "**Exercise 7:** Explain the result we just obtained! (If you expirence a deja-vu from our examination of the 3 state world that is completely natural. We are doing almost the same only now we have 6 sites and an initial distribution you have chosen.)"
   ]
  },
  {
   "cell_type": "markdown",
   "id": "8336ec88-ce51-4b54-ba3e-51c9cfdc1eae",
   "metadata": {},
   "source": [
    "**Conclusion this far:** We have just performed a measurement of the position in a world with 6 sites and have seen the collapse of the 'wave function'! Because the state is highly entangled the measurement of the position affects the state also at sites far from the position where it was detected.\n",
    "\n",
    "\n",
    "Below we make the connection to the continuum wave function. It is mathematically somewhat involved, and it only involves analytic computations. Just skip it if you are not up for heavy math today.    "
   ]
  },
  {
   "cell_type": "markdown",
   "id": "0a02a309",
   "metadata": {},
   "source": [
    "# Continuum "
   ]
  },
  {
   "cell_type": "markdown",
   "id": "9343712a-48e0-4ea8-af12-9ada02a2d867",
   "metadata": {},
   "source": [
    "In order to make the connection with the continuum wave functions we are used to from eg. Griffiths and Schröeters book let's consider a free particle of mass $m$ which mooves in one dimension on a segment of length $L$ and with periodic boundary conditions (a particle on a ring, see problem 2.46 and problem 7.41 in Griffiths and Schroeter book 3 edition) \n",
    "\n",
    "\\begin{equation}\n",
    "H = -\\frac{\\hbar^2}{2m}\\frac{\\partial^2}{\\partial x^2}\n",
    "\\end{equation}\n",
    "\n",
    "The groundstate of this system is simply a constant\n",
    "\n",
    "\\begin{equation}\n",
    "\\psi(x) = \\frac{1}{\\sqrt{L}}\n",
    "\\end{equation}\n",
    "\n",
    "**Exercise 8:** Show that the state $\\psi$ is normalized and check that it satisfies the relevant boundary conditions. \n",
    "\n",
    "**Exercise 9:** Argue that $\\psi$ is the groundstate, ie. that it is the stationary state of lowest energy (no calculations allowed!).\n",
    "\n",
    "**Exercise 10:** Use the definition of the $\\delta$-function to show that \n",
    "\n",
    "\\begin{equation}\n",
    "\\psi(x) = \\frac{1}{\\sqrt{L}} \\int_0^L dx' \\ \\delta(x-x')\n",
    "\\end{equation}\n",
    "\n",
    "Now, this may at first seem like a rather bothersome way to write a constant function, but it is exactly what we need to understand the highly intangled nature of $\\psi$: The integral over the $\\delta$-function is the continuum analouge to the sum of the 3 states in the uniform distribution over the 3 site world\n",
    "\n",
    "\\begin{equation}\n",
    "|\\psi\\rangle=\\frac{1}{\\sqrt{3}}\\big(|100\\rangle+|010\\rangle+|001\\rangle\\big)\n",
    "\\end{equation}\n",
    "\n",
    "And just like a measurement of position collapses $|\\psi\\rangle$ to $|100\\rangle$ if the particle is detected on the 3rd site, the wave function \n",
    "\n",
    "\\begin{equation}\n",
    "\\psi(x) = \\frac{1}{\\sqrt{L}} = \\frac{1}{\\sqrt{L}} \\int_0^L dx' \\ \\delta(x-x')\n",
    "\\end{equation}\n",
    "\n",
    "will collapse to \n",
    "\n",
    "\\begin{equation}\n",
    "\\psi(x) = \\delta(x-x')\n",
    "\\end{equation}\n",
    "\n",
    "if a measurement of the position detects the particle at $x'$!"
   ]
  },
  {
   "cell_type": "markdown",
   "id": "8cf96e19-8a2f-4a92-8733-1ae61de69890",
   "metadata": {
    "tags": []
   },
   "source": [
    "**.. a general and more formal derivation (for those so inclined):**\n",
    "\n",
    "The above exercise (hopefully) have given you a better understanding of how the wave function collapses when we measure the position of a particle. At the end we made the connection between a constant continuum wave function and the 3 site world by analogy between the expressions involved. \n",
    "\n",
    "Here we will make this connection a bit more formal and generalize to any wave function on a finte segment with periodic boundary conditions. By all means skip it if you are happy using the analogy! \n",
    "\n",
    "To make the connection between the continuum and the discritized world a bit more formal let's split the segment $[0:L]$ into $N$ pices each of length $a=L/N$. Then we can rewrite the wavefunction as\n",
    "\n",
    "\\begin{eqnarray}\n",
    "\\psi(x) & = & \\int_0^a dy \\ \\psi(y)\\delta(x-y) + \\int_a^{2a} dy \\ \\psi(y)\\delta(x-y) + \\ldots  + \\int_{L-a}^{L} dy \\ \\psi(y)\\delta(x-y)  \\ .\n",
    "\\end{eqnarray}\n",
    "\n",
    "For a particle in the state $\\psi(x)$ the probability that a measurement of the position will detect the particle between $0$ and $a$ is given by \n",
    "\n",
    "\\begin{equation}\n",
    "\\int_0^a |\\psi(x)|^2 dx\n",
    "\\end{equation}\n",
    "\n",
    "**Exercise 11:** Convince yourself that \n",
    "\n",
    "\\begin{equation}\n",
    "\\int_0^a |\\psi(x)|^2 dx = \\int_0^a |\\psi_0(x)|^2 dx \n",
    "\\end{equation}\n",
    "\n",
    "where \n",
    "$\\psi_0(x)\\equiv\\int_0^a dy \\ \\psi(y)\\delta(x-y)$.\n",
    "\n",
    "Likevise the probability to measure the particle between $na$ and $(n+1)a$ is given by \n",
    "\n",
    "\\begin{equation}\n",
    "\\int_{na}^{(n+1)a} |\\psi(x)|^2 dx = \\int_{na}^{(n+1)a} |\\psi_n(x)|^2 dx \n",
    "\\end{equation}\n",
    "\n",
    "where \n",
    "$\\psi_n(x)\\equiv\\int_{na}^{(n+1)a} dy \\ \\psi(y)\\delta(x-y)$.\n",
    "\n",
    "\n",
    "In the limit $N\\to\\infty$ the length, $a$, of each of the $N$ intervals become tiny and thus the wave function will not change drastically over one such interval. Hence we can replace $\\psi_n(x)$ by a constant value, $\\psi_n$, and thus make the identification \n",
    "\n",
    "\\begin{eqnarray}\n",
    "\\psi_n & \\to c_n\n",
    "\\end{eqnarray}\n",
    "\n",
    "where $c_n$ is the coefficient of the n'th state $|0,\\ldots,0,\\underbrace{1,0,\\ldots,0}_n\\rangle$. Therefore with $N$ large we can think of the $c_n$ as the value of the wave function at position $n$.\n",
    "\n",
    "(There certainly exist functions that have poles etc. that invalidates the statement above, but these functions do not make up valid wave functions in our Hilbert space.)"
   ]
  },
  {
   "cell_type": "markdown",
   "id": "37861598-1434-479c-bbf6-057157c7e68e",
   "metadata": {},
   "source": [
    "**Take home:** Even an innocuous looking wave function like the ground state of a particle on a ring (which is a constant) is in fact a highly entangled state! This is why it is possible that a measurement of the position leads to the collapse of the wave function."
   ]
  }
 ],
 "metadata": {
  "kernelspec": {
   "display_name": "Python 3 (ipykernel)",
   "language": "python",
   "name": "python3"
  },
  "language_info": {
   "codemirror_mode": {
    "name": "ipython",
    "version": 3
   },
   "file_extension": ".py",
   "mimetype": "text/x-python",
   "name": "python",
   "nbconvert_exporter": "python",
   "pygments_lexer": "ipython3",
   "version": "3.7.13"
  },
  "widgets": {
   "application/vnd.jupyter.widget-state+json": {
    "state": {},
    "version_major": 2,
    "version_minor": 0
   }
  }
 },
 "nbformat": 4,
 "nbformat_minor": 5
}
