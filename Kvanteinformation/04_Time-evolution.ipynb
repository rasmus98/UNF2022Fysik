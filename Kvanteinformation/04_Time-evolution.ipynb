{
 "cells": [
  {
   "cell_type": "markdown",
   "id": "cf47c0be",
   "metadata": {},
   "source": [
    "**Time evolution:**\n",
    "\n",
    "Here we consider the time evolution of a system with two energy levels. Our aim is to understand how the state of our two level system evolves with time. \n",
    "\n",
    "The system we consider is *not just any system*: The two states corresponds to the spin-states of an electron and the Hamiltonian is that of an electron in an external magnetic field. \n",
    "\n",
    "**Note:** You do not need to know what spin is to complete this exercise. On the contrary, this exercise will prepare you well for understanding spin later.\n",
    "\n",
    "**Learning goal:** Gain expirence with time evolution. "
   ]
  },
  {
   "cell_type": "markdown",
   "id": "821fe80d",
   "metadata": {},
   "source": [
    "<b> Setup: </b> Let's start the particle at time $t=0$ in the state $\\psi_+$ corresponding to \n",
    "\n",
    "\\begin{equation}\n",
    "\\left(\\begin{array}{c} 1 \\\\\n",
    "0\n",
    "\\end{array}\\right)\n",
    "\\end{equation}\n",
    "\n",
    "(this is known as the spin up state along the $z$-axis).\n",
    "\n",
    "The system evolves in time accoding to the time dependent Schrödinger equation \n",
    "\n",
    "\\begin{equation}\n",
    "\\frac{\\partial\\Psi(t)}{\\partial t} = H\\Psi(t)\n",
    "\\end{equation}\n",
    "\n",
    "where\n",
    "\n",
    "\\begin{equation}\n",
    "H = E\\left(\\begin{array}{cc} 1 & 0 \\\\\n",
    "0 & -1\n",
    "\\end{array}\\right) \\ \n",
    "\\end{equation}\n",
    "\n",
    "(this corresponds to an external magnetic field along the $z$-axis, with $E$ proportional to the strength of the magnetic field. Currious how this works? Then see e.g. section 4.4.2. in Griffiths and Schroeter.).\n",
    "\n",
    "Since the Hamiltonian, $H$, does not depend on $t$ we have \n",
    "\n",
    "\\begin{equation}\n",
    "\\Psi(t) = c_+ \\psi_+ e^{-i E_+ t/\\hbar} + c_- \\psi_- e^{-i E_- t/\\hbar}  \n",
    "\\end{equation}\n",
    "\n",
    "where $E_+=E$ and $E_-=-E$ are the eigenenergies of the Hamiltonian with corresponding eigenstates $\\psi_+$ and $\\psi_-$ (see eg. section 2.1 in Griffiths and Schroeter).\n",
    "\n",
    "**Exercise 1:** Determine the state of the system at time $t$."
   ]
  },
  {
   "cell_type": "markdown",
   "id": "f42b8637",
   "metadata": {},
   "source": [
    "<b> Experiment: </b> We will let the system evolve for at time $t=\\frac{\\pi}{3}\\frac{\\hbar}{E}$ and then perform a measurement of the operator\n",
    "\n",
    "\\begin{equation}\n",
    "S_z = \\frac{\\hbar}{2}\\left(\\begin{array}{cc} 1 & 0 \\\\\n",
    "0 & -1\n",
    "\\end{array}\\right) \n",
    "\\end{equation}\n",
    "\n",
    "(this is $z$-component of the spin).\n",
    "\n",
    "We will repeat the experiment 10 times."
   ]
  },
  {
   "cell_type": "code",
   "execution_count": null,
   "id": "21f52960",
   "metadata": {},
   "outputs": [],
   "source": [
    "import numpy as np\n",
    "# Importing standard Qiskit libraries\n",
    "from qiskit import QuantumCircuit, transpile, Aer, IBMQ\n",
    "from qiskit.tools.jupyter import *\n",
    "from qiskit.visualization import *\n",
    "from ibm_quantum_widgets import *\n",
    "\n",
    "# Loading your IBM Q account(s)\n",
    "# provider = IBMQ.load_account()"
   ]
  },
  {
   "cell_type": "code",
   "execution_count": null,
   "id": "010b690f",
   "metadata": {},
   "outputs": [],
   "source": [
    "from math import pi, sqrt\n",
    "time = pi/3 #in units of hbar/E\n",
    "circ = QuantumCircuit(1,1)\n",
    "circ.rz(2*time,0) # The time is here chosen such that Et/\\hbar=\\pi/3.\n",
    "circ.measure(0,0)\n",
    "circ.draw()"
   ]
  },
  {
   "cell_type": "code",
   "execution_count": null,
   "id": "2b24e500-d3a8-4354-9886-63ea4412cb13",
   "metadata": {},
   "outputs": [],
   "source": [
    "simulator = Aer.get_backend('aer_simulator')\n",
    "\n",
    "result = simulator.run(circ, shots=10, memory=True).result() # shots=10 means do the experiment 10 times\n",
    "memory = result.get_memory(circ)\n",
    "for x in memory:\n",
    "    if x==\"0\":\n",
    "        print('Measurement: Sz', 1/2,'hbar')\n",
    "        print()\n",
    "    if x==\"1\": \n",
    "        print('Measurement: Sz', -1/2,'hbar')\n",
    "        print()"
   ]
  },
  {
   "cell_type": "markdown",
   "id": "789946b5",
   "metadata": {},
   "source": [
    "<b> Exercise 2: </b> Explain the outcome of the experiment. \n",
    "\n",
    "<b> Exercise 3: </b> Would the outcome of the measurements have been different if we changed the time? \n",
    "\n",
    "<b> Check: </b> Check your answer be changing the time in the code above the diagram. The variable you need to change is named 'time'."
   ]
  },
  {
   "cell_type": "markdown",
   "id": "0dac4551",
   "metadata": {},
   "source": [
    "Suppose the system instead has the Hamiltonian \n",
    "\n",
    "\\begin{equation}\n",
    "H^{(x)} = E\\left(\\begin{array}{cc} 0 & 1 \\\\\n",
    "1 & 0\n",
    "\\end{array}\\right) \\ \n",
    "\\end{equation}\n",
    "\n",
    "(this corresponds to an external magnetic field along the $x$-axis.\n",
    "\n",
    "As above we again start the system in the state $\\Psi(x,t=0)=\\psi_+$ and let it evolve a time $t$ such that $Et/\\hbar=\\pi/3$."
   ]
  },
  {
   "cell_type": "markdown",
   "id": "54d50c8b",
   "metadata": {},
   "source": [
    "<b> Exercise 4: </b> Determine the eigenstates $\\psi_\\pm^{(x)}$ and the associated eigenenergies $E_\\pm^{(x)}$ of the new Hamiltonian.\n",
    "\n",
    "<b> Exercise 5: </b> Express the initial state $\\Psi(x,t=0)$ in terms of the eigenstates $\\psi_\\pm^{(x)}$ of the new Hamiltonian.\n",
    "\n",
    "<b> Exercise 6: </b> Determine the state of the ststem $\\Psi(x,t)$ at time $t$.\n",
    "\n",
    "<b> Exercise 7: </b> What is the probability that a measurement of $S_z$ at time $t=\\frac{\\pi}{3}\\frac{\\hbar}{E}$ will give $\\hbar/2$?\n",
    "\n",
    "<b> Check: </b> Run the experiment below to check your prediction."
   ]
  },
  {
   "cell_type": "code",
   "execution_count": null,
   "id": "21954a45",
   "metadata": {},
   "outputs": [],
   "source": [
    "circBx = QuantumCircuit(1,1)\n",
    "time = pi/3 #in units of hbar/E\n",
    "circBx.h(0)\n",
    "circBx.rz(2*time,0)\n",
    "circBx.h(0)\n",
    "circBx.measure(0,0)\n",
    "circBx.draw()"
   ]
  },
  {
   "cell_type": "code",
   "execution_count": null,
   "id": "f9ac604c",
   "metadata": {},
   "outputs": [],
   "source": [
    "simulator = Aer.get_backend('aer_simulator')\n",
    "\n",
    "result = simulator.run(circBx, shots=10, memory=True).result()\n",
    "memory = result.get_memory(circBx)\n",
    "\n",
    "for x in memory:\n",
    "    if x==\"0\":\n",
    "        print('Measurement: Sz', 1/2,'hbar')\n",
    "        print()\n",
    "    if x==\"1\": \n",
    "        print('Measurement: Sz', -1/2,'hbar')\n",
    "        print()"
   ]
  },
  {
   "cell_type": "markdown",
   "id": "df170a7e-09cf-46a2-9114-705c7aaa50f8",
   "metadata": {},
   "source": [
    "Well ... with only 10 repetitions it is hard to know if your prediction was spot on. So let's repeat the experiment 1024 times to check your value for the probability:"
   ]
  },
  {
   "cell_type": "code",
   "execution_count": null,
   "id": "4d4db993",
   "metadata": {},
   "outputs": [],
   "source": [
    "from qiskit import QuantumCircuit, assemble, Aer\n",
    "from qiskit.visualization import plot_histogram\n",
    "\n",
    "sim = Aer.get_backend('qasm_simulator')  # this is the simulator we'll use\n",
    "qobj = assemble(circBx)  # this turns the circuit into an object our backend can run\n",
    "result = sim.run(qobj).result()  # we run the experiment and get the result from that experiment\n",
    "counts = result.get_counts()\n",
    "#print(counts)\n",
    "if \"0\" in memory:\n",
    "    counts[r\"$\\hbar/2$\"] = counts.pop(\"0\")\n",
    "if \"1\" in memory:\n",
    "    counts[r\"$-\\hbar/2$\"] = counts.pop(\"1\")\n",
    "plot_histogram(counts)"
   ]
  },
  {
   "cell_type": "markdown",
   "id": "19679e89-2b63-4b23-8cc5-7ae313aa3020",
   "metadata": {},
   "source": [
    "**Check:** Did the experiment confirm your expectation?\n",
    "\n",
    "**Exercise 8:** Does the probability to measure $E_+$ depend on time? \n",
    "\n",
    "**Check:** Change the 'time' in the code above to f.ex $\\pi/6$ in stead of $\\pi/3$  to see if your answer agrees with the experiment."
   ]
  },
  {
   "cell_type": "markdown",
   "id": "3e4544fe-f720-4a41-aa98-11836996e336",
   "metadata": {},
   "source": [
    "**Take home:** When our initial state is an eigenstate of the Hamiltonian, the time evolution will only add an overall phase to the state. Hence the probability to measure say $\\hbar/2$ is independent of time (the overall phase disapears when we take the absolute square). On the contrary when the initial state is not an eigenstate of the Hamiltonian the probability to measure $\\hbar/2$ depends on time unless the two eigenstates of $H$ are degenerate (ie. have the same eigenenergy)."
   ]
  }
 ],
 "metadata": {
  "kernelspec": {
   "display_name": "Python 3 (ipykernel)",
   "language": "python",
   "name": "python3"
  },
  "language_info": {
   "codemirror_mode": {
    "name": "ipython",
    "version": 3
   },
   "file_extension": ".py",
   "mimetype": "text/x-python",
   "name": "python",
   "nbconvert_exporter": "python",
   "pygments_lexer": "ipython3",
   "version": "3.7.13"
  },
  "widgets": {
   "application/vnd.jupyter.widget-state+json": {
    "state": {
     "2036b5c45132485cab8caf2f6c2f3994": {
      "model_module": "@jupyter-widgets/controls",
      "model_module_version": "1.5.0",
      "model_name": "HBoxModel",
      "state": {
       "children": [
        "IPY_MODEL_d58c620d55ee4fe48f8ee4d71ca95649",
        "IPY_MODEL_b07f197ee35c48afb1c7a7e98cdf0032",
        "IPY_MODEL_883e574770a249d2b63330a72442c188",
        "IPY_MODEL_733950ca1ed84011a4fe442640d6eb6f",
        "IPY_MODEL_cab64a7d2fc04fe9996f64b462211aa5"
       ],
       "layout": "IPY_MODEL_c8395320c1b64dd3859ba8e7a5d111ad"
      }
     },
     "3d5885e24eeb47219e331572dc12ae62": {
      "model_module": "@jupyter-widgets/base",
      "model_module_version": "1.2.0",
      "model_name": "LayoutModel",
      "state": {
       "width": "145px"
      }
     },
     "472ac6c7dc694fa78d484f8e9d0a1cf9": {
      "model_module": "@jupyter-widgets/controls",
      "model_module_version": "1.5.0",
      "model_name": "HTMLModel",
      "state": {
       "layout": "IPY_MODEL_6d40fef8e03c40d18d18906e6f426719",
       "style": "IPY_MODEL_940c8feb6e424f59b2c6294dbfc13c13",
       "value": "<p style='font-family: IBM Plex Sans, Arial, Helvetica, sans-serif; font-size: 20px; font-weight: medium;'>Circuit Properties</p>"
      }
     },
     "47dca8bffdf442c5af1d2ca32bdcdb58": {
      "model_module": "@jupyter-widgets/base",
      "model_module_version": "1.2.0",
      "model_name": "LayoutModel",
      "state": {
       "grid_template_areas": "\n                                       \". . . . right \"\n                                        ",
       "grid_template_columns": "20% 20% 20% 20% 20%",
       "width": "100%"
      }
     },
     "527a59446c94469aaf89226be199cf8c": {
      "model_module": "@jupyter-widgets/base",
      "model_module_version": "1.2.0",
      "model_name": "LayoutModel",
      "state": {
       "grid_area": "right",
       "padding": "0px 0px 0px 0px",
       "width": "70px"
      }
     },
     "5da3b49a48db41d196b1b18d9fbdae52": {
      "model_module": "@jupyter-widgets/controls",
      "model_module_version": "1.5.0",
      "model_name": "DescriptionStyleModel",
      "state": {
       "description_width": ""
      }
     },
     "6550e41a9f374acaaed4308dfcdef34b": {
      "model_module": "@jupyter-widgets/controls",
      "model_module_version": "1.5.0",
      "model_name": "ButtonStyleModel",
      "state": {}
     },
     "6d40fef8e03c40d18d18906e6f426719": {
      "model_module": "@jupyter-widgets/base",
      "model_module_version": "1.2.0",
      "model_name": "LayoutModel",
      "state": {
       "margin": "0px 0px 10px 0px"
      }
     },
     "733950ca1ed84011a4fe442640d6eb6f": {
      "model_module": "@jupyter-widgets/controls",
      "model_module_version": "1.5.0",
      "model_name": "HTMLModel",
      "state": {
       "layout": "IPY_MODEL_95e9f8cbe580459d83f68539d2e29528",
       "style": "IPY_MODEL_5da3b49a48db41d196b1b18d9fbdae52",
       "value": "<h5>Queue</h5>"
      }
     },
     "7bbf58277add4116aca4df6ce6f4c784": {
      "model_module": "@jupyter-widgets/controls",
      "model_module_version": "1.5.0",
      "model_name": "DescriptionStyleModel",
      "state": {
       "description_width": ""
      }
     },
     "883e574770a249d2b63330a72442c188": {
      "model_module": "@jupyter-widgets/controls",
      "model_module_version": "1.5.0",
      "model_name": "HTMLModel",
      "state": {
       "layout": "IPY_MODEL_8a20d767aa3d45f899289847ca5917bc",
       "style": "IPY_MODEL_935a0128abec48f68f47a08885c97dc1",
       "value": "<h5>Status</h5>"
      }
     },
     "8a20d767aa3d45f899289847ca5917bc": {
      "model_module": "@jupyter-widgets/base",
      "model_module_version": "1.2.0",
      "model_name": "LayoutModel",
      "state": {
       "width": "95px"
      }
     },
     "935a0128abec48f68f47a08885c97dc1": {
      "model_module": "@jupyter-widgets/controls",
      "model_module_version": "1.5.0",
      "model_name": "DescriptionStyleModel",
      "state": {
       "description_width": ""
      }
     },
     "940c8feb6e424f59b2c6294dbfc13c13": {
      "model_module": "@jupyter-widgets/controls",
      "model_module_version": "1.5.0",
      "model_name": "DescriptionStyleModel",
      "state": {
       "description_width": ""
      }
     },
     "95e9f8cbe580459d83f68539d2e29528": {
      "model_module": "@jupyter-widgets/base",
      "model_module_version": "1.2.0",
      "model_name": "LayoutModel",
      "state": {
       "width": "70px"
      }
     },
     "a5de9843cbff4deeac185ea25493c496": {
      "model_module": "@jupyter-widgets/base",
      "model_module_version": "1.2.0",
      "model_name": "LayoutModel",
      "state": {}
     },
     "a75fd11f902b40129e0ba4cbb215b411": {
      "model_module": "@jupyter-widgets/controls",
      "model_module_version": "1.5.0",
      "model_name": "ButtonModel",
      "state": {
       "button_style": "primary",
       "description": "Clear",
       "layout": "IPY_MODEL_527a59446c94469aaf89226be199cf8c",
       "style": "IPY_MODEL_6550e41a9f374acaaed4308dfcdef34b"
      }
     },
     "ad35b35f94b947539324ecd3953cc679": {
      "model_module": "@jupyter-widgets/controls",
      "model_module_version": "1.5.0",
      "model_name": "DescriptionStyleModel",
      "state": {
       "description_width": ""
      }
     },
     "b07f197ee35c48afb1c7a7e98cdf0032": {
      "model_module": "@jupyter-widgets/controls",
      "model_module_version": "1.5.0",
      "model_name": "HTMLModel",
      "state": {
       "layout": "IPY_MODEL_3d5885e24eeb47219e331572dc12ae62",
       "style": "IPY_MODEL_ad35b35f94b947539324ecd3953cc679",
       "value": "<h5>Backend</h5>"
      }
     },
     "c8395320c1b64dd3859ba8e7a5d111ad": {
      "model_module": "@jupyter-widgets/base",
      "model_module_version": "1.2.0",
      "model_name": "LayoutModel",
      "state": {
       "margin": "0px 0px 0px 37px",
       "width": "600px"
      }
     },
     "cab64a7d2fc04fe9996f64b462211aa5": {
      "model_module": "@jupyter-widgets/controls",
      "model_module_version": "1.5.0",
      "model_name": "HTMLModel",
      "state": {
       "layout": "IPY_MODEL_a5de9843cbff4deeac185ea25493c496",
       "style": "IPY_MODEL_d12419bab3c846c5887d8eb820e260aa",
       "value": "<h5>Message</h5>"
      }
     },
     "d12419bab3c846c5887d8eb820e260aa": {
      "model_module": "@jupyter-widgets/controls",
      "model_module_version": "1.5.0",
      "model_name": "DescriptionStyleModel",
      "state": {
       "description_width": ""
      }
     },
     "d58c620d55ee4fe48f8ee4d71ca95649": {
      "model_module": "@jupyter-widgets/controls",
      "model_module_version": "1.5.0",
      "model_name": "HTMLModel",
      "state": {
       "layout": "IPY_MODEL_f1f791b17ada4100b3c533da08b8f33f",
       "style": "IPY_MODEL_7bbf58277add4116aca4df6ce6f4c784",
       "value": "<h5>Job ID</h5>"
      }
     },
     "f1f791b17ada4100b3c533da08b8f33f": {
      "model_module": "@jupyter-widgets/base",
      "model_module_version": "1.2.0",
      "model_name": "LayoutModel",
      "state": {
       "width": "190px"
      }
     },
     "ffbf1438cc094e1a9319613c39b9e28d": {
      "model_module": "@jupyter-widgets/controls",
      "model_module_version": "1.5.0",
      "model_name": "GridBoxModel",
      "state": {
       "children": [
        "IPY_MODEL_a75fd11f902b40129e0ba4cbb215b411"
       ],
       "layout": "IPY_MODEL_47dca8bffdf442c5af1d2ca32bdcdb58"
      }
     }
    },
    "version_major": 2,
    "version_minor": 0
   }
  }
 },
 "nbformat": 4,
 "nbformat_minor": 5
}
