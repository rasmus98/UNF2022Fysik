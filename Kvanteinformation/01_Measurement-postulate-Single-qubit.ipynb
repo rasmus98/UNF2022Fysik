{
 "cells": [
  {
   "cell_type": "markdown",
   "id": "9fbe564b",
   "metadata": {},
   "source": [
    "# Measurements on a single qubit\n",
    "\n",
    "Quantum mechanics is often said to counterintuitive, in particular when it comes to measurements. This could well be the case if you have only trained your intuition on classical systems. This exersice is a first step towards building up your quantum intuition!\n",
    "\n",
    "We will work on a single qubit and thereby at the same time familiarize ourseves with the basic building block of quantum computers such as IBM Q.\n",
    "\n",
    "**Learning goal:** To gain a first expirence with the measurement postulate and start to build up your quantum intuition. Familiarize our selves with the qubit.\n"
   ]
  },
  {
   "cell_type": "markdown",
   "id": "26eb5b10",
   "metadata": {},
   "source": [
    "# The measurement postulate\n",
    "\n",
    "Let's keep things simple and work with a two level system, given by the two states $|0\\rangle$ and $|1\\rangle$. More formally, we have that the two states $|0\\rangle$ and $|1\\rangle$ are orthonormal and span the Hilbert space. Hence any normalized state $|\\psi\\rangle$ in this 2d space can be written as a superposition of these two states\n",
    "\n",
    "\\begin{equation}\n",
    "|\\psi\\rangle= \\alpha|0\\rangle+\\beta|1\\rangle \\ ,\n",
    "\\end{equation}\n",
    "\n",
    "with $|\\alpha|^2+|\\beta|^2=1$.\n",
    "\n",
    "\n",
    "In this 2d space the measurement postulate of quantum mechanics states: \n",
    "\n",
    "If the system is in the state $|\\psi\\rangle= \\alpha|0\\rangle+\\beta|1\\rangle$ then\n",
    "\n",
    "**1.** The probability that a measuremet will yield the value $0$ respectively $1$ is given by\n",
    "\n",
    "\\begin{equation}\n",
    "P_0 = |\\langle 0|\\psi\\rangle|^2 = |\\alpha|^2  \\quad {\\rm and} \\quad P_1 = |\\langle 1|\\psi\\rangle|^2 = |\\beta|^2\n",
    "\\end{equation}\n",
    "\n",
    "**2.** If the outcome of the measurement is 0 then the sate of the system right after the measurement is $|0\\rangle$ and likevise if the outcome is $1$ the state collapses to $|1\\rangle$. \n",
    "\n",
    "\n",
    "But what do we measure here? Well, physical observables are given by Hermitian operators and the possible outcomes are the eigenvalues of the given Hermitian operator. Therefore we are measuring an operator, $M$, with eigenvalues $0$ and $1$ and it must be diagonal in the basis given by $|0\\rangle$ and $|1\\rangle$,  \n",
    "\n",
    "\\begin{equation}\n",
    "M=\\left(\\begin{array}{cc} 0 & 0 \\\\ 0 & 1 \\end{array}\n",
    "\\right)\n",
    "\\end{equation}\n",
    "\n",
    "Why diagonal? Well if the state of the system was $|\\psi\\rangle = |0\\rangle$ and we where to measure $M$ then the outcome would with 100% certainty be 0 and likevise if the state of the system was $|\\psi\\rangle = |1\\rangle$ we would get the value 1. Hence $|0\\rangle$ and $|1\\rangle$ are eigenstates of the Hermitian operator $M$ and $M$ is diagonal in this basis. \n",
    "\n",
    "**Exercise 0:** What does the states $|0\\rangle$ and $|1\\rangle$ look like in the basis $|0\\rangle$ and $|1\\rangle$?"
   ]
  },
  {
   "cell_type": "markdown",
   "id": "b192716d",
   "metadata": {},
   "source": [
    "**Our first measurement!**\n",
    "\n",
    "To get started let's simply put the system in the state $|0\\rangle$ and then perform a measurement of the Hermitain operator $M$ for which we now know that  \n",
    "\n",
    "\\begin{eqnarray}\n",
    "M|0\\rangle & = & 0|0\\rangle \\\\\n",
    "M|1\\rangle & = & 1|1\\rangle \n",
    "\\end{eqnarray}"
   ]
  },
  {
   "cell_type": "code",
   "execution_count": null,
   "id": "f4f72ab6",
   "metadata": {},
   "outputs": [],
   "source": [
    "# Importing standard Qiskit libraries\n",
    "from qiskit import QuantumCircuit, transpile, Aer, IBMQ\n",
    "from qiskit.tools.jupyter import *\n",
    "from qiskit.visualization import *\n",
    "from ibm_quantum_widgets import *\n",
    "\n",
    "# Loading your IBM Q account(s)\n",
    "# provider = IBMQ.load_account()"
   ]
  },
  {
   "cell_type": "markdown",
   "id": "05805cc9-f81a-4c6c-8fe2-03327428e6d0",
   "metadata": {},
   "source": [
    "This is what the system looks like"
   ]
  },
  {
   "cell_type": "code",
   "execution_count": null,
   "id": "e573a56d",
   "metadata": {
    "scrolled": true
   },
   "outputs": [],
   "source": [
    "circ = QuantumCircuit(1,1)\n",
    "circ.measure(0,0)\n",
    "circ.draw()"
   ]
  },
  {
   "cell_type": "markdown",
   "id": "4d37adf1-c2ff-467d-8af8-a3b79ce16594",
   "metadata": {},
   "source": [
    "**How to read this diagram:** The horizontal line marked by q follows our two level system (the qubit). Initially it is (by default) in the state $|0\\rangle$. The black box with the gauge on is the measuring device and the arrow below indicates that the outcome of the measurement will be put in the classical bit c marked by the horizontal doubleline. The small 0 next to the arrow tells us that it is the zero'th classical bit we use to store the result in. (Later we will have more classical bits and then it will be useful in order to keep track of which measurement is stored in which classical bit.)"
   ]
  },
  {
   "cell_type": "markdown",
   "id": "df5f2e18-144f-470f-94e6-c53039ca1eb8",
   "metadata": {},
   "source": [
    "**Exercise 1:**  Write down what you expect that the outcome of the measurement will be.\n",
    "\n",
    "**Exercise 2:** Now run the simulation below, to check if your expectation was correct."
   ]
  },
  {
   "cell_type": "code",
   "execution_count": null,
   "id": "d9361306",
   "metadata": {
    "scrolled": true
   },
   "outputs": [],
   "source": [
    "simulator = Aer.get_backend('aer_simulator')\n",
    "\n",
    "result = simulator.run(circ, shots=10, memory=True).result()\n",
    "memory = result.get_memory(circ)\n",
    "print(memory)"
   ]
  },
  {
   "cell_type": "markdown",
   "id": "0f5cac04-0531-483a-9954-42d052c54194",
   "metadata": {},
   "source": [
    "**How to read the result:** We have performed the measurement 10 times and the outcome of each measurement is given in the list."
   ]
  },
  {
   "cell_type": "markdown",
   "id": "d5c61aaf",
   "metadata": {},
   "source": [
    "**This far:** We have put the system in the state $|0\\rangle$ and have performed a measuremet of $M$. As $|0\\rangle$ is an eigenstate of $M$ the outcome of the measurement is $0$ with 100% certainty.  "
   ]
  },
  {
   "cell_type": "markdown",
   "id": "82b400b5",
   "metadata": {},
   "source": [
    "**Exercise 3:** What is the state of the system after the measurement?"
   ]
  },
  {
   "cell_type": "markdown",
   "id": "9ab9b1af",
   "metadata": {},
   "source": [
    "Now let's apply a rotation by $\\pi/2$ around the $y$-axis\n",
    "\n",
    "\\begin{equation}\n",
    "R_y(\\pi/2)=\\frac{1}{\\sqrt{2}}\\left(\\begin{array}{cc} 1 & -1 \\\\ 1 & 1 \\end{array}\n",
    "\\right)\n",
    "\\end{equation}\n",
    "\n",
    "to the qubit. This will change the state of the system from $|\\psi\\rangle=|0\\rangle$ to \n",
    "\n",
    "\\begin{equation}\n",
    "|\\psi\\rangle = \\frac{1}{\\sqrt{2}}\\big(|0\\rangle+|1\\rangle\\big)\n",
    "\\end{equation}\n",
    "\n",
    "\n",
    "\n",
    "**Exercise 4:** Check that you agree that this is the new state of the system! "
   ]
  },
  {
   "cell_type": "code",
   "execution_count": null,
   "id": "642e0e0a",
   "metadata": {},
   "outputs": [],
   "source": [
    "from math import pi\n",
    "circ = QuantumCircuit(1,2)\n",
    "circ.measure(0,0)\n",
    "circ.ry(pi/2,0)\n",
    "circ.draw()"
   ]
  },
  {
   "cell_type": "markdown",
   "id": "0f95ae6f",
   "metadata": {},
   "source": [
    "Let's now measure $M$"
   ]
  },
  {
   "cell_type": "code",
   "execution_count": null,
   "id": "61268860",
   "metadata": {},
   "outputs": [],
   "source": [
    "circ.measure(0,1)\n",
    "circ.draw()"
   ]
  },
  {
   "cell_type": "code",
   "execution_count": null,
   "id": "2c55098a",
   "metadata": {},
   "outputs": [],
   "source": [
    "simulator = Aer.get_backend('aer_simulator')\n",
    "\n",
    "result = simulator.run(circ, shots=10, memory=True).result()\n",
    "memory = result.get_memory(circ)\n",
    "print(memory)"
   ]
  },
  {
   "cell_type": "markdown",
   "id": "f1158ce9",
   "metadata": {},
   "source": [
    "**How to read the result:**  We have performed the full experiment 10 times and thus has 10 sets of resultes, each is given as a as a pair in the output above. Within the pairs the rightmost classical output as before gives 0 with 100% certainty, the result of our second measurement is in the leftmost classical output.\n",
    "\n",
    "**Exercise 5:** Explain the above result."
   ]
  },
  {
   "cell_type": "markdown",
   "id": "09a79a02",
   "metadata": {},
   "source": [
    "\n",
    "Following the second measurement we now choose to measure $M$ once more. \n",
    "\n",
    "**Exercise 6:** Write down your expectation for the outcome of the last measurement. Then check your expectation running the quantum system below."
   ]
  },
  {
   "cell_type": "code",
   "execution_count": null,
   "id": "f426dd8e",
   "metadata": {},
   "outputs": [],
   "source": [
    "circ = QuantumCircuit(1,3)\n",
    "circ.measure(0,0)\n",
    "circ.ry(pi/2,0)\n",
    "circ.measure(0,1)\n",
    "circ.measure(0,2)\n",
    "circ.draw()"
   ]
  },
  {
   "cell_type": "code",
   "execution_count": null,
   "id": "b7c89803",
   "metadata": {},
   "outputs": [],
   "source": [
    "simulator = Aer.get_backend('aer_simulator')\n",
    "\n",
    "result = simulator.run(circ, shots=10, memory=True).result()\n",
    "memory = result.get_memory(circ)\n",
    "print(memory)"
   ]
  },
  {
   "cell_type": "markdown",
   "id": "4790a3c4-a7b5-4555-962f-c76d4523275d",
   "metadata": {},
   "source": [
    "**How to read the result:** The result of the new measurement is in the leftmost digit. The two rightmost digits are as before."
   ]
  },
  {
   "cell_type": "markdown",
   "id": "293fd9e2-a89c-4c79-92ba-bcec9d35e969",
   "metadata": {
    "tags": []
   },
   "source": [
    "**Illustration of the distribution of states by histograms**\n",
    "\n",
    "\n",
    "This far we have always repeated the simulation 10 times. To check with better statistics we will now run the same experiment 1024 times. Obviously it will be somewhat bothersome to consider 1024 outputs in a long list, so let's instead view it as a histogramme."
   ]
  },
  {
   "cell_type": "code",
   "execution_count": null,
   "id": "c2edfbb5-23ac-4406-af64-d59d67124d71",
   "metadata": {},
   "outputs": [],
   "source": [
    "from qiskit import QuantumCircuit, assemble, Aer\n",
    "from qiskit.visualization import plot_histogram\n",
    "\n",
    "sim = Aer.get_backend('qasm_simulator')  # this is the simulator we'll use\n",
    "qobj = assemble(circ)  # this turns the circuit into an object our backend can run\n",
    "result = sim.run(qobj).result()  # we run the experiment and get the result from that experiment\n",
    "# from the results, we get a dictionary containing the number of times (counts)\n",
    "# each result appeared\n",
    "counts = result.get_counts()\n",
    "# and display it on a histogram\n",
    "plot_histogram(counts)"
   ]
  },
  {
   "cell_type": "markdown",
   "id": "e3f64478-7d47-4314-bd5d-91ee4348c7f1",
   "metadata": {},
   "source": [
    "**Conclusion:** Repeating the measurement has given exactly the same result as before, because the first of the two measurements forced the system in to the eigenstate of $M$ which correspond to the eigenvalue just measured. If we measure $M$ again we therefore get exactly the same result we just had obtained!"
   ]
  },
  {
   "cell_type": "markdown",
   "id": "2649e097-697d-45f2-8596-a0b6c71e2634",
   "metadata": {},
   "source": [
    "**Take home:** After a measurement the state of the system will be the eigenstate associated with the eigenvalue which was the outcome of the measurement!"
   ]
  }
 ],
 "metadata": {
  "kernelspec": {
   "display_name": "Python 3 (ipykernel)",
   "language": "python",
   "name": "python3"
  },
  "language_info": {
   "codemirror_mode": {
    "name": "ipython",
    "version": 3
   },
   "file_extension": ".py",
   "mimetype": "text/x-python",
   "name": "python",
   "nbconvert_exporter": "python",
   "pygments_lexer": "ipython3",
   "version": "3.7.13"
  },
  "widgets": {
   "application/vnd.jupyter.widget-state+json": {
    "state": {
     "164bcdc55d5f44d3a71cf848ef66d68d": {
      "model_module": "@jupyter-widgets/base",
      "model_module_version": "1.2.0",
      "model_name": "LayoutModel",
      "state": {
       "width": "145px"
      }
     },
     "189b393d03464182b0c6791de51325f2": {
      "model_module": "@jupyter-widgets/controls",
      "model_module_version": "1.5.0",
      "model_name": "DescriptionStyleModel",
      "state": {
       "description_width": ""
      }
     },
     "1b2ccdcaf7a14b7fa31cc2b7810b2419": {
      "model_module": "@jupyter-widgets/base",
      "model_module_version": "1.2.0",
      "model_name": "LayoutModel",
      "state": {
       "width": "95px"
      }
     },
     "1fb00940dcdd43d0bbf3cc618c591192": {
      "model_module": "@jupyter-widgets/controls",
      "model_module_version": "1.5.0",
      "model_name": "DescriptionStyleModel",
      "state": {
       "description_width": ""
      }
     },
     "2259ccb231dc4070b2053f77437aad76": {
      "model_module": "@jupyter-widgets/base",
      "model_module_version": "1.2.0",
      "model_name": "LayoutModel",
      "state": {
       "width": "190px"
      }
     },
     "22676250cd2a4f9e9068b5fd35063799": {
      "model_module": "@jupyter-widgets/controls",
      "model_module_version": "1.5.0",
      "model_name": "HTMLModel",
      "state": {
       "layout": "IPY_MODEL_abdbcfd16929499aa64708dc660b6a22",
       "style": "IPY_MODEL_189b393d03464182b0c6791de51325f2",
       "value": "<h5>Queue</h5>"
      }
     },
     "310f66340644489a836e953ce2c85ec1": {
      "model_module": "@jupyter-widgets/base",
      "model_module_version": "1.2.0",
      "model_name": "LayoutModel",
      "state": {
       "margin": "0px 0px 10px 0px"
      }
     },
     "36b5dd3dac2540b3afbaf4ae0224bc9e": {
      "model_module": "@jupyter-widgets/controls",
      "model_module_version": "1.5.0",
      "model_name": "DescriptionStyleModel",
      "state": {
       "description_width": ""
      }
     },
     "3f78f26c8a6e46468aadbc3557adbb68": {
      "model_module": "@jupyter-widgets/base",
      "model_module_version": "1.2.0",
      "model_name": "LayoutModel",
      "state": {}
     },
     "4fa6efac45c144d89e4f3dc8b6e5ea12": {
      "model_module": "@jupyter-widgets/controls",
      "model_module_version": "1.5.0",
      "model_name": "HTMLModel",
      "state": {
       "layout": "IPY_MODEL_2259ccb231dc4070b2053f77437aad76",
       "style": "IPY_MODEL_a82a8a886cc04a548e241784f184dee9",
       "value": "<h5>Job ID</h5>"
      }
     },
     "5915e1e16fd1442a902c7918c6aa0385": {
      "model_module": "@jupyter-widgets/controls",
      "model_module_version": "1.5.0",
      "model_name": "DescriptionStyleModel",
      "state": {
       "description_width": ""
      }
     },
     "59bf3eac336346c2ae687e4ae1fb8d73": {
      "model_module": "@jupyter-widgets/controls",
      "model_module_version": "1.5.0",
      "model_name": "HTMLModel",
      "state": {
       "layout": "IPY_MODEL_164bcdc55d5f44d3a71cf848ef66d68d",
       "style": "IPY_MODEL_36b5dd3dac2540b3afbaf4ae0224bc9e",
       "value": "<h5>Backend</h5>"
      }
     },
     "6b830b14f5a0419680370d819f28da6c": {
      "model_module": "@jupyter-widgets/controls",
      "model_module_version": "1.5.0",
      "model_name": "HTMLModel",
      "state": {
       "layout": "IPY_MODEL_310f66340644489a836e953ce2c85ec1",
       "style": "IPY_MODEL_1fb00940dcdd43d0bbf3cc618c591192",
       "value": "<p style='font-family: IBM Plex Sans, Arial, Helvetica, sans-serif; font-size: 20px; font-weight: medium;'>Circuit Properties</p>"
      }
     },
     "6dbf2bb765704ca4ae6f8028b85f1293": {
      "model_module": "@jupyter-widgets/base",
      "model_module_version": "1.2.0",
      "model_name": "LayoutModel",
      "state": {
       "margin": "0px 0px 0px 37px",
       "width": "600px"
      }
     },
     "7fe6d6a8d99f41f2a955ced048940f8e": {
      "model_module": "@jupyter-widgets/controls",
      "model_module_version": "1.5.0",
      "model_name": "HBoxModel",
      "state": {
       "children": [
        "IPY_MODEL_4fa6efac45c144d89e4f3dc8b6e5ea12",
        "IPY_MODEL_59bf3eac336346c2ae687e4ae1fb8d73",
        "IPY_MODEL_8360c4ce558042e28651873d60757949",
        "IPY_MODEL_22676250cd2a4f9e9068b5fd35063799",
        "IPY_MODEL_bef5d9eb67e247398400db0a50a7aeea"
       ],
       "layout": "IPY_MODEL_6dbf2bb765704ca4ae6f8028b85f1293"
      }
     },
     "8360c4ce558042e28651873d60757949": {
      "model_module": "@jupyter-widgets/controls",
      "model_module_version": "1.5.0",
      "model_name": "HTMLModel",
      "state": {
       "layout": "IPY_MODEL_1b2ccdcaf7a14b7fa31cc2b7810b2419",
       "style": "IPY_MODEL_5915e1e16fd1442a902c7918c6aa0385",
       "value": "<h5>Status</h5>"
      }
     },
     "a82a8a886cc04a548e241784f184dee9": {
      "model_module": "@jupyter-widgets/controls",
      "model_module_version": "1.5.0",
      "model_name": "DescriptionStyleModel",
      "state": {
       "description_width": ""
      }
     },
     "abdbcfd16929499aa64708dc660b6a22": {
      "model_module": "@jupyter-widgets/base",
      "model_module_version": "1.2.0",
      "model_name": "LayoutModel",
      "state": {
       "width": "70px"
      }
     },
     "b032e9a311ea4846baeea658ff44f8a7": {
      "model_module": "@jupyter-widgets/controls",
      "model_module_version": "1.5.0",
      "model_name": "DescriptionStyleModel",
      "state": {
       "description_width": ""
      }
     },
     "b644763058e04cdca727d94dac58fee1": {
      "model_module": "@jupyter-widgets/controls",
      "model_module_version": "1.5.0",
      "model_name": "ButtonModel",
      "state": {
       "button_style": "primary",
       "description": "Clear",
       "layout": "IPY_MODEL_fea1922de5224db8b52eb2a82f89c882",
       "style": "IPY_MODEL_fc0015b5d18e449b92ef33aa764c6a1f"
      }
     },
     "bef5d9eb67e247398400db0a50a7aeea": {
      "model_module": "@jupyter-widgets/controls",
      "model_module_version": "1.5.0",
      "model_name": "HTMLModel",
      "state": {
       "layout": "IPY_MODEL_3f78f26c8a6e46468aadbc3557adbb68",
       "style": "IPY_MODEL_b032e9a311ea4846baeea658ff44f8a7",
       "value": "<h5>Message</h5>"
      }
     },
     "de482af0a646470990e96c06fd23b362": {
      "model_module": "@jupyter-widgets/base",
      "model_module_version": "1.2.0",
      "model_name": "LayoutModel",
      "state": {
       "grid_template_areas": "\n                                       \". . . . right \"\n                                        ",
       "grid_template_columns": "20% 20% 20% 20% 20%",
       "width": "100%"
      }
     },
     "f8f9ad97f0f6440fb3f0b3d865b4cddd": {
      "model_module": "@jupyter-widgets/controls",
      "model_module_version": "1.5.0",
      "model_name": "GridBoxModel",
      "state": {
       "children": [
        "IPY_MODEL_b644763058e04cdca727d94dac58fee1"
       ],
       "layout": "IPY_MODEL_de482af0a646470990e96c06fd23b362"
      }
     },
     "fc0015b5d18e449b92ef33aa764c6a1f": {
      "model_module": "@jupyter-widgets/controls",
      "model_module_version": "1.5.0",
      "model_name": "ButtonStyleModel",
      "state": {}
     },
     "fea1922de5224db8b52eb2a82f89c882": {
      "model_module": "@jupyter-widgets/base",
      "model_module_version": "1.2.0",
      "model_name": "LayoutModel",
      "state": {
       "grid_area": "right",
       "padding": "0px 0px 0px 0px",
       "width": "70px"
      }
     }
    },
    "version_major": 2,
    "version_minor": 0
   }
  }
 },
 "nbformat": 4,
 "nbformat_minor": 5
}
